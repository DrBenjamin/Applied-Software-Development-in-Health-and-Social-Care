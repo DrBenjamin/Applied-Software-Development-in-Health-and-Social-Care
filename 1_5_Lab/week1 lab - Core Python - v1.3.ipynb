{
 "cells": [
  {
   "cell_type": "code",
   "execution_count": null,
   "id": "cae02b33",
   "metadata": {},
   "outputs": [],
   "source": [
    "# experimental: you can run this cell to see your code full-width\n",
    "from IPython.display import display, HTML\n",
    "display(HTML(\"<style>.container { width:100% !important; }</style>\"))"
   ]
  },
  {
   "cell_type": "code",
   "execution_count": null,
   "id": "3f2ae280",
   "metadata": {
    "scrolled": true
   },
   "outputs": [],
   "source": [
    "# cell for pair-programming magic link\n",
    "\n",
    "#  run this cell without changing it. It only works on Noteable.\n",
    "! printf \"\\n\\nLink below can be send to someone to share your Noteable session:\\n\\nhttps://noteable.edina.ac.uk/user/$(jupyter notebook list | grep -oP '(?<=user\\/).*(?=\\/\\?)' )/tree?token=$( jupyter notebook list | grep -oP '(?<=token=).*(?= ::)' )\\n\\n\""
   ]
  },
  {
   "cell_type": "markdown",
   "id": "c5462794",
   "metadata": {},
   "source": [
    "# 'housekeeping' cells with initial imports\n",
    "\n",
    "Just run all those until you see part titled **'Lab starts here'**"
   ]
  },
  {
   "cell_type": "code",
   "execution_count": null,
   "id": "f5b36a8b",
   "metadata": {},
   "outputs": [],
   "source": [
    "import plotly.graph_objects as go\n",
    "import plotly.io as pio\n",
    "pio.renderers.default='notebook'\n",
    "import pprint as pp"
   ]
  },
  {
   "cell_type": "code",
   "execution_count": null,
   "id": "f113887b",
   "metadata": {},
   "outputs": [],
   "source": [
    "# the usual imports\n",
    "from plotly.subplots import make_subplots\n",
    "import plotly.graph_objects as go\n",
    "from plotly.subplots import make_subplots\n",
    "import plotly.graph_objects as go\n",
    "import pprint as pp\n",
    "from datetime import datetime, timedelta, date, timezone\n",
    "import json"
   ]
  },
  {
   "cell_type": "code",
   "execution_count": null,
   "id": "c2a87366",
   "metadata": {},
   "outputs": [],
   "source": [
    "# starting code that loads data, run this cell, but no need to understand it in depth\n",
    "# this function just loads the data from files, there is no need to understand how it does it.\n",
    "def load_json_file_named(file_name):\n",
    "    try: \n",
    "        loaded_data = []\n",
    "        file_location = f\"data/{file_name}\"\n",
    "        with open(file_location, 'r') as file: # or f\"data/{file_name}\" depending on your files\n",
    "            loaded_data =  json.load(file)\n",
    "    except OSError as e:\n",
    "        print(f\"Error. Does the file exist in this folder? {file_location}\\n\\n {e}\")\n",
    "    return loaded_data"
   ]
  },
  {
   "cell_type": "code",
   "execution_count": null,
   "id": "29fd1be6",
   "metadata": {},
   "outputs": [],
   "source": [
    "boards_info = load_json_file_named('nhs_scotland_boards.json')\n",
    "covid_days = load_json_file_named('covid_records_scotland.json')\n",
    "\n",
    "cancer_waiting_times = load_json_file_named('cancer_waiting_times.json')\n",
    "boards_code_lookup = load_json_file_named('boards_code_lookup.json')"
   ]
  },
  {
   "cell_type": "markdown",
   "id": "5696e609",
   "metadata": {},
   "source": [
    "# ⭐️ Lab starts here"
   ]
  },
  {
   "cell_type": "markdown",
   "id": "5ac2d4b3",
   "metadata": {},
   "source": [
    "During this lab, you are given a number of simple datasets. Your job is to go thought the whole process of simple data-analysis with them. Please try not so yet use Data Science libraries (Numpy Pandas). This will make sure that you and your partner have strong foundations at performing basic tasks in core Python."
   ]
  },
  {
   "cell_type": "markdown",
   "id": "c399fe85",
   "metadata": {},
   "source": [
    "# Warmup exercise: Functions\n",
    "\n",
    "1. Identify parts of the below task that are repetitive, and use functions to make the process more reusable."
   ]
  },
  {
   "cell_type": "code",
   "execution_count": null,
   "id": "695adb4b",
   "metadata": {},
   "outputs": [],
   "source": [
    "# but first a silly example. Let's make this function better:"
   ]
  },
  {
   "cell_type": "code",
   "execution_count": null,
   "id": "f980157b",
   "metadata": {},
   "outputs": [],
   "source": [
    "def count_down_from_10_and_do_it_4_times():\n",
    "    exercise_routine =  \"1,2,3,4,5,6,7,8,9,10, AND REPEAT!\\n\"\n",
    "    exercise_routine += \"1,2,3,4,5,6,7,8,9,10, AND REPEAT!\\n\"\n",
    "    exercise_routine += \"1,2,3,4,5,6,7,8,9,10, AND REPEAT!\\n\"\n",
    "    exercise_routine += \"1,2,3,4,5,6,7,8,9,10, OK, this is enough\"\n",
    "    return exercise_routine\n",
    "    \n",
    "print(count_down_from_10_and_do_it_4_times())"
   ]
  },
  {
   "cell_type": "code",
   "execution_count": null,
   "id": "f0b9209c",
   "metadata": {},
   "outputs": [],
   "source": [
    "# first step would be to identify repeatitive parts, and extract it:\n",
    "# 1. counting down from 10 to 1 is repetitive\n",
    "# 2. one countdown with the words, Repeat! is repeated\n",
    "# ... but sometimes it ends differently!\n"
   ]
  },
  {
   "cell_type": "code",
   "execution_count": null,
   "id": "83f2ba55",
   "metadata": {},
   "outputs": [],
   "source": []
  },
  {
   "cell_type": "code",
   "execution_count": null,
   "id": "2b2b9d5f",
   "metadata": {},
   "outputs": [],
   "source": []
  },
  {
   "cell_type": "markdown",
   "id": "ffa77ff4",
   "metadata": {},
   "source": [
    "## Task: simplify below code with use of functions, so that it is simpler and more managable:"
   ]
  },
  {
   "cell_type": "code",
   "execution_count": null,
   "id": "b174923c",
   "metadata": {},
   "outputs": [],
   "source": [
    "# ok your turn, change make_calendar_january code,\n",
    "# so that it does the same thing, but in a more managable manner.\n",
    "# Which parts of the task are repeated? If they are repeated they could be a function\n",
    "# and which parts are repeated with small changes? that should be a function with an argument.\n",
    "# and maybe it's repeated for many simmilar items? that could be a loop of list comp! "
   ]
  },
  {
   "cell_type": "code",
   "execution_count": null,
   "id": "e7bbd04a",
   "metadata": {},
   "outputs": [],
   "source": [
    "def make_calendar_january():\n",
    "    monthly_calendar  = \"*******************************\\n\"\n",
    "    monthly_calendar += \"*********** January ***********\\n\"\n",
    "    monthly_calendar += \"* Mon Tue Wed Thu Fri Sat Sun *\\n\"\n",
    "    monthly_calendar += \"*  .   .   1   2   3   4   5  *\\n\"\n",
    "    monthly_calendar += \"*  6   7   8   9  10  11  12  *\\n\"\n",
    "    monthly_calendar += \"* 13  14  15  16  17  18  19  *\\n\"\n",
    "    monthly_calendar += \"* 20  21  22  23  24  25  26  *\\n\"\n",
    "    monthly_calendar += \"* 27  28  29  30  31   .   .  *\\n\"\n",
    "    monthly_calendar += \"*******************************\\n\"\n",
    "    return monthly_calendar\n",
    "\n",
    "print(make_calendar_january())"
   ]
  },
  {
   "cell_type": "code",
   "execution_count": null,
   "id": "7d88f4ac",
   "metadata": {},
   "outputs": [],
   "source": [
    "# hints: aligning strings. What's going on here? < ^ > indicate direction. number is amount os space,\n",
    "# and symbol is the filler. so {VARIABLE : FILLER DIRECTION SPACES}\n",
    "# example {fruit:*<10} will make contents of fruit left aligned, takeup 10 spaces and be surrounded by *\n",
    "\n",
    "fruit1 = \"banana\"\n",
    "fruit2 = \"kiwi\"\n",
    "print(f\"{fruit1:*>15}\")\n",
    "print(f\"{fruit2:.^15}\")\n",
    "print(f\"{fruit1:!<15}\")\n",
    "print()\n",
    "print(f\"**{fruit1:*>15}**\")\n",
    "print(f\"**{fruit2:*>15}**\")"
   ]
  },
  {
   "cell_type": "code",
   "execution_count": null,
   "id": "91b1e7fe",
   "metadata": {},
   "outputs": [],
   "source": [
    "# hint 2: use string to join a list of items (items need to be string! not numbers!)\n",
    "print(\"$$$\".join([\"4\",\"5\",\"6\"]))\n",
    "print(\", \".join([\"4\",\"5\",\"6\"]))"
   ]
  },
  {
   "cell_type": "code",
   "execution_count": null,
   "id": "26c48b1d",
   "metadata": {},
   "outputs": [],
   "source": [
    "# hint 3: use list comps on above technique.\n",
    "centered_numbers = [f\"{number:^3}\" for number in range(7)]\n",
    "print(centered_numbers)\n",
    "print(\"\".join(centered_numbers))"
   ]
  },
  {
   "cell_type": "code",
   "execution_count": null,
   "id": "898c55fc",
   "metadata": {},
   "outputs": [],
   "source": []
  },
  {
   "cell_type": "code",
   "execution_count": null,
   "id": "4d1b2948",
   "metadata": {},
   "outputs": [],
   "source": []
  },
  {
   "cell_type": "code",
   "execution_count": null,
   "id": "c82fb2e6",
   "metadata": {},
   "outputs": [],
   "source": []
  },
  {
   "cell_type": "code",
   "execution_count": null,
   "id": "6e9cd143",
   "metadata": {},
   "outputs": [],
   "source": []
  },
  {
   "cell_type": "code",
   "execution_count": null,
   "id": "8845892f",
   "metadata": {},
   "outputs": [],
   "source": []
  },
  {
   "cell_type": "code",
   "execution_count": null,
   "id": "562b00ad",
   "metadata": {},
   "outputs": [],
   "source": []
  },
  {
   "cell_type": "code",
   "execution_count": null,
   "id": "5f6622be",
   "metadata": {},
   "outputs": [],
   "source": [
    "# next steps:\n",
    "# eg: how much harder would it be to generate February calendar? Or the whole year?\n",
    "# could you have a function make_calendar(month_name, howe_many_days, weekday_of_first_day)\n",
    "# remember \\n means new line"
   ]
  },
  {
   "cell_type": "code",
   "execution_count": null,
   "id": "3275d96d",
   "metadata": {},
   "outputs": [],
   "source": []
  },
  {
   "cell_type": "code",
   "execution_count": null,
   "id": "b6cb75f1",
   "metadata": {},
   "outputs": [],
   "source": []
  },
  {
   "cell_type": "code",
   "execution_count": null,
   "id": "d0a236c7",
   "metadata": {},
   "outputs": [],
   "source": []
  },
  {
   "cell_type": "markdown",
   "id": "9eef7d18",
   "metadata": {},
   "source": [
    "# Warmup exercise: Bubble graph\n",
    "\n",
    "1. Read below code and explain to each other what it does\n",
    "2. change the data so that colors and bubble sizes are meaningful "
   ]
  },
  {
   "cell_type": "code",
   "execution_count": null,
   "id": "7a304dcf",
   "metadata": {},
   "outputs": [],
   "source": [
    "def bubble_graph(x_values, y_values, colors, bubble_size, title_text = \"Some Graph\"):\n",
    "    fig = go.Figure(\n",
    "    data=[go.Scatter(\n",
    "                 y=y_values, \n",
    "                 x=x_values, \n",
    "                 marker_color = colors,\n",
    "                 marker_size = bubble_size,\n",
    "                         mode='markers' \n",
    "                )],\n",
    "        layout=go.Layout(\n",
    "            title=go.layout.Title(text=title_text)\n",
    "        )\n",
    "    )\n",
    "    fig.show('notebook')"
   ]
  },
  {
   "cell_type": "code",
   "execution_count": null,
   "id": "ad26dee9",
   "metadata": {},
   "outputs": [],
   "source": [
    "# example made up usage of this function:\n",
    "made_up_data = [320,410,640,2300]\n",
    "\n",
    "bubble_graph([1,2,3,4], # or list(range(len(made_up_data)))\n",
    "              made_up_data,\n",
    "              ['green','orange','red','green'], # random colours\n",
    "              [100,150,240,170]) # random numbers"
   ]
  },
  {
   "cell_type": "code",
   "execution_count": null,
   "id": "c87dc22c",
   "metadata": {},
   "outputs": [],
   "source": [
    "# here comes the warmup task: call the above function again, but this time adjust the data you put in\n",
    "# so that colors and bubble sizes are derived from the y axis value. Use functions or list comprehensions or both.\n",
    "\n"
   ]
  },
  {
   "cell_type": "markdown",
   "id": "1172f177",
   "metadata": {},
   "source": [
    "# Next few tasks: looking at the datasets:\n",
    "\n",
    "## What to expect in each further task: \n",
    "\n",
    "### For each dataset we will do some variation of below: try to identify one interesting question that data could answer. Then write python code that finds answer to that question, and describe your findings in a visualisation and a few sentences.\n",
    "\n",
    "**1. look at the data.**\n",
    "\n",
    "are they in formats that you might need? (numbers, strings, dates, etc). Remember that you can change variables with data (eg. add new key-value pairs)\n",
    "\n",
    "**2. what are the questions this data could answer?**\n",
    "\n",
    "you are given an example questions, but if you want to pursue different questions, feel free to do that!\n",
    "\n",
    "**3. write code to extract some meaningful information from this data**\n",
    "\n",
    "make your code as meaningful as possible. make sure your variables and functions are meaningful.\n",
    "\n",
    "**4. visualise what you found.**\n",
    "\n",
    "this could be a simple graph, or a printed sentence or table\n",
    "\n",
    "**5. write a very short, two-sentence synopsis of what you found**\n",
    "\n",
    "What question you asked? What is the answer? What could it mean?"
   ]
  },
  {
   "cell_type": "markdown",
   "id": "07bd8808",
   "metadata": {},
   "source": [
    "### First and Second Dataset: NHS boards and Covid days\n",
    "\n",
    "You probably already know this dataset. It consists of two variables:\n",
    "\n",
    "- boards_info contains information about nhs boards \n",
    "- covid_days contains information patients in the first 2 years of covid pandemic\n",
    "\n",
    "Look at the data, and ask yourself: what data-driven insights can we get from it? Come up with your own question, or get inspired by the ones below:\n",
    "\n",
    "Does covid spread more in densely populated areas? Look at NHS boards' population density and number of covid-related deaths in those boards. Maybe also look at:\n",
    "\n",
    "- number of deaths\n",
    "- deaths per person who lives in that board\n",
    "- or deaths per infection"
   ]
  },
  {
   "cell_type": "code",
   "execution_count": null,
   "id": "9c1d7719",
   "metadata": {},
   "outputs": [],
   "source": [
    "# let's print the whole dataset, but warning: it will be quite large:\n",
    "# identify the data format, what do we know?\n",
    "pp.pprint(boards_info)"
   ]
  },
  {
   "cell_type": "code",
   "execution_count": null,
   "id": "420d3132",
   "metadata": {},
   "outputs": [],
   "source": [
    "# this is how one piece of data looks like:\n",
    "pp.pprint(boards_info[0])"
   ]
  },
  {
   "cell_type": "code",
   "execution_count": null,
   "id": "201d128b",
   "metadata": {},
   "outputs": [],
   "source": [
    "# and just one item of one piece of data\n",
    "boards_info[0]['geographic']['areas_covered']"
   ]
  },
  {
   "cell_type": "code",
   "execution_count": null,
   "id": "c7f08763",
   "metadata": {},
   "outputs": [],
   "source": [
    "# let's go back to our graphing function from before\n",
    "# explain this to each other. if you get it, move to the task below\n",
    "\n",
    "first_board = boards_info[0]\n",
    "years = list( first_board['budget_billions'].keys() )\n",
    "budgets = list( first_board['budget_billions'].values() )\n",
    "colors = ['blue','blue','blue']\n",
    "sizes = [20,20,20]\n",
    "\n",
    "bubble_graph(years, \n",
    "             budgets, \n",
    "             colors, \n",
    "             sizes, \n",
    "             f\"budgets for board {first_board['name']}\") \n",
    "# note: colours and sizes are a bit random for now"
   ]
  },
  {
   "cell_type": "markdown",
   "id": "f228411a",
   "metadata": {},
   "source": [
    "# task - make colours and sizes meaningful on the above graph\n",
    "\n",
    "Take 10-30 minutes to add more meaningful details to the above graph. What could colours and sizes of bubbles mean, given this dataset?\n",
    "\n",
    "When you are done (or out of time) summarise what you found and visualised in 2 short sentences, as a 'takeaway message' of yoru analysis."
   ]
  },
  {
   "cell_type": "code",
   "execution_count": null,
   "id": "4be9ae60",
   "metadata": {},
   "outputs": [],
   "source": [
    "# how can you change above code to make bubble colours and sizes based on some data from the dataset?"
   ]
  },
  {
   "cell_type": "code",
   "execution_count": null,
   "id": "b06e6093",
   "metadata": {},
   "outputs": [],
   "source": []
  },
  {
   "cell_type": "code",
   "execution_count": null,
   "id": "e0808827",
   "metadata": {},
   "outputs": [],
   "source": []
  },
  {
   "cell_type": "code",
   "execution_count": null,
   "id": "467051ac",
   "metadata": {},
   "outputs": [],
   "source": []
  },
  {
   "cell_type": "code",
   "execution_count": null,
   "id": "21fa5185",
   "metadata": {},
   "outputs": [],
   "source": []
  },
  {
   "cell_type": "markdown",
   "id": "eb9edb80",
   "metadata": {},
   "source": [
    "## Next: extra fun: sorting\n",
    "\n",
    "read below examples and then try to complete task:"
   ]
  },
  {
   "cell_type": "code",
   "execution_count": null,
   "id": "d016c29a",
   "metadata": {},
   "outputs": [],
   "source": [
    "# to sort things you need to know what you are sorting them by, \n",
    "# i.e. what key you use for sorting then. notice that sort() changes original dataset\n",
    "\n",
    "\n",
    "fruits = [\"banana\", \"kiwi\",\"plums\",\"orange\",\"watermelon\"]\n",
    "fruits.sort(key=len)\n",
    "print(fruits)\n",
    "\n",
    "fruits.sort(key=max)  # what do you thing it does??\n",
    "print(fruits)"
   ]
  },
  {
   "cell_type": "code",
   "execution_count": null,
   "id": "32dfcba3",
   "metadata": {},
   "outputs": [],
   "source": [
    "# you can create your own keys\n",
    "def last_letter(word):\n",
    "    return word[-1]\n",
    "\n",
    "fruits.sort(key=last_letter)  # what do you thing it does??\n",
    "print(fruits)\n",
    "\n",
    "def number_of_a(word):\n",
    "    return word.count(\"a\")\n",
    "\n",
    "fruits.sort(key=number_of_a)  # what do you thing it does??\n",
    "print(fruits)"
   ]
  },
  {
   "cell_type": "code",
   "execution_count": null,
   "id": "b350fdd6",
   "metadata": {},
   "outputs": [],
   "source": [
    "# there is also a simplified function syntax called lambda\n",
    "# lambda INPUT: OUTPUT\n",
    "\n",
    "# so you don't need to define a function. \n",
    "# It is great for simple tasks. messy for complext tasks.\n",
    "\n",
    "fruits.sort(key=lambda word: word.count(\"a\"))  # what do you thing it does??\n",
    "print(fruits)"
   ]
  },
  {
   "cell_type": "code",
   "execution_count": null,
   "id": "d7083779",
   "metadata": {},
   "outputs": [],
   "source": [
    "# you can also sort lists, or objects - it's all about how you reference items\n",
    "\n",
    "numbers = [4,1,6,9,34,3]\n",
    "numbers.sort()\n",
    "print(numbers)\n",
    "\n",
    "\n",
    "people = [{'name':'Pat', 'age': 7},{'name':'Jill', 'age': 12},{'name':'Natasha', 'age': 9}]\n",
    "# sort by age\n",
    "people.sort(key=lambda person: person['age'])\n",
    "print(people)\n",
    "\n",
    "# sort by length of name\n",
    "people.sort(key=lambda person: len(person['name']))\n",
    "print(people)"
   ]
  },
  {
   "cell_type": "code",
   "execution_count": null,
   "id": "a0d834dd",
   "metadata": {},
   "outputs": [],
   "source": [
    "# sort by age, then return names in that order\n",
    "people.sort(key=lambda person: person['age'])\n",
    "print([person['name'] for person in people])"
   ]
  },
  {
   "cell_type": "markdown",
   "id": "59fd0eec",
   "metadata": {},
   "source": [
    "## Your turn: Sorting task, Graph Task! \n",
    "\n",
    "- Print names of NHS boards from the one with highest budget to the one with the lowest budget\n",
    "- Then create a graph of budgets, based on that sorted dataset"
   ]
  },
  {
   "cell_type": "code",
   "execution_count": null,
   "id": "4e935bb5",
   "metadata": {},
   "outputs": [],
   "source": []
  },
  {
   "cell_type": "code",
   "execution_count": null,
   "id": "68752d38",
   "metadata": {},
   "outputs": [],
   "source": []
  },
  {
   "cell_type": "code",
   "execution_count": null,
   "id": "92a2d3cb",
   "metadata": {},
   "outputs": [],
   "source": []
  },
  {
   "cell_type": "code",
   "execution_count": null,
   "id": "9d4d6c11",
   "metadata": {},
   "outputs": [],
   "source": []
  },
  {
   "cell_type": "code",
   "execution_count": null,
   "id": "fdcaccd2",
   "metadata": {},
   "outputs": [],
   "source": []
  },
  {
   "cell_type": "code",
   "execution_count": null,
   "id": "782e9b6c",
   "metadata": {},
   "outputs": [],
   "source": []
  },
  {
   "cell_type": "markdown",
   "id": "a6c9223d",
   "metadata": {},
   "source": [
    "<details><summary style='color:blue'>CLICK HERE TO SEE THE EXMAPLE SOLUTION. BUT REALLY TRY TO DO IT YOURSELF FIRST FOR AT LEAST 10 MINUTES!</summary>\n",
    "\n",
    "    ### BEGIN SOLUTION\n",
    "    def get_budget_2020(board):\n",
    "        return board['budget_billions']['2020']\n",
    "\n",
    "    boards_info.sort(key=get_budget_2020)\n",
    "\n",
    "    boards_names = [\n",
    "        board['name']\n",
    "        for board in boards_info\n",
    "    ]\n",
    "\n",
    "    budgets_sum_2020 = [\n",
    "        board['budget_billions']['2020']\n",
    "        for board in boards_info\n",
    "    ]\n",
    "\n",
    "    def area_to_color(area):\n",
    "        if area > 10000:\n",
    "            return 'red'\n",
    "        elif area > 2000:\n",
    "            return 'orange'\n",
    "        else:\n",
    "            return 'grey'\n",
    "\n",
    "    board_colors = [\n",
    "        area_to_color( board['geographic']['area_km_2'] )\n",
    "        for board in boards_info\n",
    "    ]\n",
    "\n",
    "    board_sizes = [\n",
    "        board['people']['patients'] / board['people']['staff']\n",
    "        for board in boards_info\n",
    "    ]\n",
    "\n",
    "    # budgets_sum_2020\n",
    "    bubble_graph(boards_names, budgets_sum_2020, board_colors, board_sizes)\n",
    "    ### END SOLUTION\n",
    "    \n",
    "</details>"
   ]
  },
  {
   "cell_type": "code",
   "execution_count": null,
   "id": "9ef6f4b1",
   "metadata": {},
   "outputs": [],
   "source": []
  },
  {
   "cell_type": "code",
   "execution_count": null,
   "id": "9c248309",
   "metadata": {},
   "outputs": [],
   "source": []
  },
  {
   "cell_type": "code",
   "execution_count": null,
   "id": "6125905f",
   "metadata": {},
   "outputs": [],
   "source": []
  },
  {
   "cell_type": "code",
   "execution_count": null,
   "id": "cf1bcc60",
   "metadata": {},
   "outputs": [],
   "source": []
  },
  {
   "cell_type": "code",
   "execution_count": null,
   "id": "70321559",
   "metadata": {},
   "outputs": [],
   "source": []
  },
  {
   "cell_type": "code",
   "execution_count": null,
   "id": "387430d4",
   "metadata": {},
   "outputs": [],
   "source": []
  },
  {
   "cell_type": "code",
   "execution_count": null,
   "id": "1f92f4ed",
   "metadata": {},
   "outputs": [],
   "source": []
  },
  {
   "cell_type": "code",
   "execution_count": null,
   "id": "bed8667c",
   "metadata": {},
   "outputs": [],
   "source": []
  },
  {
   "cell_type": "code",
   "execution_count": null,
   "id": "34d5103c",
   "metadata": {},
   "outputs": [],
   "source": []
  },
  {
   "cell_type": "code",
   "execution_count": null,
   "id": "9a81a964",
   "metadata": {},
   "outputs": [],
   "source": []
  },
  {
   "cell_type": "code",
   "execution_count": null,
   "id": "ce19538a",
   "metadata": {},
   "outputs": [],
   "source": []
  },
  {
   "cell_type": "code",
   "execution_count": null,
   "id": "a4854b48",
   "metadata": {},
   "outputs": [],
   "source": []
  },
  {
   "cell_type": "code",
   "execution_count": null,
   "id": "addb0146",
   "metadata": {},
   "outputs": [],
   "source": []
  },
  {
   "cell_type": "markdown",
   "id": "c8d19c44",
   "metadata": {},
   "source": [
    "### Third dataset: Cancer waiting times:\n",
    "\n",
    "cancer_waiting_times is a json dataset with numbers on how many cancer patients were treated within 1 month of being diagnosed.\n",
    "\n",
    "You will find in it information about year and quarter of when data was gathered, cancer type, numbers of patients, NHS board*\n",
    "\n",
    "*(board comes as an id. You can look it up in the variable boards_code_lookup) \n",
    "\n",
    "For more information about the data you can lookup the source:\n",
    "\n",
    "https://www.opendata.nhs.scot/dataset/cancer-waiting-times/resource/58527343-a930-4058-bf9e-3c6e5cb04010?inner_span=True"
   ]
  },
  {
   "cell_type": "code",
   "execution_count": null,
   "id": "215a2191",
   "metadata": {},
   "outputs": [],
   "source": [
    "pp.pprint(cancer_waiting_times[0])"
   ]
  },
  {
   "cell_type": "code",
   "execution_count": null,
   "id": "d91952ea",
   "metadata": {},
   "outputs": [],
   "source": [
    "pp.pprint(boards_code_lookup)"
   ]
  },
  {
   "cell_type": "code",
   "execution_count": null,
   "id": "754a9753",
   "metadata": {},
   "outputs": [],
   "source": []
  },
  {
   "cell_type": "code",
   "execution_count": null,
   "id": "dc6dcc51",
   "metadata": {},
   "outputs": [],
   "source": []
  },
  {
   "cell_type": "code",
   "execution_count": null,
   "id": "d6836149",
   "metadata": {},
   "outputs": [],
   "source": []
  },
  {
   "cell_type": "code",
   "execution_count": null,
   "id": "1bf58a5c",
   "metadata": {},
   "outputs": [],
   "source": []
  },
  {
   "cell_type": "code",
   "execution_count": null,
   "id": "9004a165",
   "metadata": {},
   "outputs": [],
   "source": []
  }
 ],
 "metadata": {
  "kernelspec": {
   "display_name": "Python 3 (ipykernel)",
   "language": "python",
   "name": "python3"
  },
  "language_info": {
   "codemirror_mode": {
    "name": "ipython",
    "version": 3
   },
   "file_extension": ".py",
   "mimetype": "text/x-python",
   "name": "python",
   "nbconvert_exporter": "python",
   "pygments_lexer": "ipython3",
   "version": "3.9.13"
  }
 },
 "nbformat": 4,
 "nbformat_minor": 5
}
