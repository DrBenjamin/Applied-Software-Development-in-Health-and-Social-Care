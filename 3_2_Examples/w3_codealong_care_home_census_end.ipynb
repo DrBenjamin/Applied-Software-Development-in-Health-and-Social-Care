{
 "cells": [
  {
   "cell_type": "markdown",
   "id": "b96704a9",
   "metadata": {},
   "source": [
    "## Starting Code"
   ]
  },
  {
   "cell_type": "code",
   "execution_count": 1,
   "id": "1740aaa6",
   "metadata": {},
   "outputs": [
    {
     "data": {
      "text/html": [
       "<style>.container { width:100% !important; }</style>"
      ],
      "text/plain": [
       "<IPython.core.display.HTML object>"
      ]
     },
     "metadata": {},
     "output_type": "display_data"
    }
   ],
   "source": [
    "# experimental: you can run this cell to see your code full-width\n",
    "from IPython.display import display, HTML\n",
    "display(HTML(\"<style>.container { width:100% !important; }</style>\"))"
   ]
  },
  {
   "cell_type": "code",
   "execution_count": null,
   "id": "2a61dd9e",
   "metadata": {},
   "outputs": [],
   "source": [
    "#  run this cell without changing it. It only works on Noteable.\n",
    "! printf \"\\n\\nLink below can be send to someone to share your Noteable session:\\n\\nhttps://noteable.edina.ac.uk/user/$(jupyter notebook list | grep -oP '(?<=user\\/).*(?=\\/\\?)' )/tree?token=$( jupyter notebook list | grep -oP '(?<=token=).*(?= ::)' )\\n\\n\""
   ]
  },
  {
   "cell_type": "code",
   "execution_count": 8,
   "id": "eeeb7919",
   "metadata": {},
   "outputs": [],
   "source": [
    "# the usual imports\n",
    "from plotly.subplots import make_subplots\n",
    "import plotly.graph_objects as go\n",
    "\n",
    "import pprint as pp\n",
    "from datetime import datetime, timedelta, date, timezone\n",
    "import json\n",
    "\n",
    "import pandas as pd\n",
    "import numpy as np"
   ]
  },
  {
   "cell_type": "code",
   "execution_count": 9,
   "id": "63a64500",
   "metadata": {},
   "outputs": [],
   "source": [
    "import plotly.graph_objects as go"
   ]
  },
  {
   "cell_type": "code",
   "execution_count": 4,
   "id": "7a557fba",
   "metadata": {},
   "outputs": [],
   "source": [
    "url = \"https://www.opendata.nhs.scot/dataset/75cca0a9-780d-40e0-9e1f-5f4796950794/resource/4ee7dc84-ca65-455c-9e76-b614091f389f/download/file1_average_weekly_charges.csv\""
   ]
  },
  {
   "cell_type": "code",
   "execution_count": 5,
   "id": "2794dc4e",
   "metadata": {},
   "outputs": [],
   "source": [
    "care_home_charges = pd.read_csv(url)"
   ]
  },
  {
   "cell_type": "code",
   "execution_count": 10,
   "id": "a7af0a0c",
   "metadata": {},
   "outputs": [
    {
     "data": {
      "text/html": [
       "<div>\n",
       "<style scoped>\n",
       "    .dataframe tbody tr th:only-of-type {\n",
       "        vertical-align: middle;\n",
       "    }\n",
       "\n",
       "    .dataframe tbody tr th {\n",
       "        vertical-align: top;\n",
       "    }\n",
       "\n",
       "    .dataframe thead th {\n",
       "        text-align: right;\n",
       "    }\n",
       "</style>\n",
       "<table border=\"1\" class=\"dataframe\">\n",
       "  <thead>\n",
       "    <tr style=\"text-align: right;\">\n",
       "      <th></th>\n",
       "      <th>Date</th>\n",
       "      <th>KeyStatistic</th>\n",
       "      <th>CA</th>\n",
       "      <th>MainClientGroup</th>\n",
       "      <th>Sector</th>\n",
       "      <th>Unit</th>\n",
       "      <th>Value</th>\n",
       "      <th>ValueQF</th>\n",
       "    </tr>\n",
       "  </thead>\n",
       "  <tbody>\n",
       "    <tr>\n",
       "      <th>0</th>\n",
       "      <td>20100331</td>\n",
       "      <td>Average Gross Weekly Charge for Self Funded Wi...</td>\n",
       "      <td>S12000005</td>\n",
       "      <td>Older People Aged 65 and Older</td>\n",
       "      <td>All Sectors</td>\n",
       "      <td>Pound Sterling</td>\n",
       "      <td>520.0</td>\n",
       "      <td>NaN</td>\n",
       "    </tr>\n",
       "    <tr>\n",
       "      <th>1</th>\n",
       "      <td>20110331</td>\n",
       "      <td>Average Gross Weekly Charge for Self Funded Wi...</td>\n",
       "      <td>S12000005</td>\n",
       "      <td>Older People Aged 65 and Older</td>\n",
       "      <td>All Sectors</td>\n",
       "      <td>Pound Sterling</td>\n",
       "      <td>626.0</td>\n",
       "      <td>NaN</td>\n",
       "    </tr>\n",
       "    <tr>\n",
       "      <th>2</th>\n",
       "      <td>20120331</td>\n",
       "      <td>Average Gross Weekly Charge for Self Funded Wi...</td>\n",
       "      <td>S12000005</td>\n",
       "      <td>Older People Aged 65 and Older</td>\n",
       "      <td>All Sectors</td>\n",
       "      <td>Pound Sterling</td>\n",
       "      <td>701.0</td>\n",
       "      <td>NaN</td>\n",
       "    </tr>\n",
       "    <tr>\n",
       "      <th>3</th>\n",
       "      <td>20130331</td>\n",
       "      <td>Average Gross Weekly Charge for Self Funded Wi...</td>\n",
       "      <td>S12000005</td>\n",
       "      <td>Older People Aged 65 and Older</td>\n",
       "      <td>All Sectors</td>\n",
       "      <td>Pound Sterling</td>\n",
       "      <td>773.0</td>\n",
       "      <td>NaN</td>\n",
       "    </tr>\n",
       "    <tr>\n",
       "      <th>4</th>\n",
       "      <td>20140331</td>\n",
       "      <td>Average Gross Weekly Charge for Self Funded Wi...</td>\n",
       "      <td>S12000005</td>\n",
       "      <td>Older People Aged 65 and Older</td>\n",
       "      <td>All Sectors</td>\n",
       "      <td>Pound Sterling</td>\n",
       "      <td>787.0</td>\n",
       "      <td>NaN</td>\n",
       "    </tr>\n",
       "  </tbody>\n",
       "</table>\n",
       "</div>"
      ],
      "text/plain": [
       "       Date                                       KeyStatistic         CA  \\\n",
       "0  20100331  Average Gross Weekly Charge for Self Funded Wi...  S12000005   \n",
       "1  20110331  Average Gross Weekly Charge for Self Funded Wi...  S12000005   \n",
       "2  20120331  Average Gross Weekly Charge for Self Funded Wi...  S12000005   \n",
       "3  20130331  Average Gross Weekly Charge for Self Funded Wi...  S12000005   \n",
       "4  20140331  Average Gross Weekly Charge for Self Funded Wi...  S12000005   \n",
       "\n",
       "                  MainClientGroup       Sector            Unit  Value ValueQF  \n",
       "0  Older People Aged 65 and Older  All Sectors  Pound Sterling  520.0     NaN  \n",
       "1  Older People Aged 65 and Older  All Sectors  Pound Sterling  626.0     NaN  \n",
       "2  Older People Aged 65 and Older  All Sectors  Pound Sterling  701.0     NaN  \n",
       "3  Older People Aged 65 and Older  All Sectors  Pound Sterling  773.0     NaN  \n",
       "4  Older People Aged 65 and Older  All Sectors  Pound Sterling  787.0     NaN  "
      ]
     },
     "execution_count": 10,
     "metadata": {},
     "output_type": "execute_result"
    }
   ],
   "source": [
    "care_home_charges.head()"
   ]
  },
  {
   "cell_type": "code",
   "execution_count": 7,
   "id": "13fc3cf9",
   "metadata": {},
   "outputs": [
    {
     "data": {
      "text/plain": [
       "{'Average Gross Weekly Charge for All Funded With Nursing Care',\n",
       " 'Average Gross Weekly Charge for All Funded Without Nursing Care',\n",
       " 'Average Gross Weekly Charge for Publicly Funded With Nursing Care',\n",
       " 'Average Gross Weekly Charge for Publicly Funded Without Nursing Care',\n",
       " 'Average Gross Weekly Charge for Self Funded With Nursing Care',\n",
       " 'Average Gross Weekly Charge for Self Funded Without Nursing Care'}"
      ]
     },
     "execution_count": 7,
     "metadata": {},
     "output_type": "execute_result"
    }
   ],
   "source": [
    "set(care_home_charges[\"KeyStatistic\"])"
   ]
  },
  {
   "cell_type": "code",
   "execution_count": 7,
   "id": "e4551bee",
   "metadata": {},
   "outputs": [
    {
     "data": {
      "text/html": [
       "<div>\n",
       "<style scoped>\n",
       "    .dataframe tbody tr th:only-of-type {\n",
       "        vertical-align: middle;\n",
       "    }\n",
       "\n",
       "    .dataframe tbody tr th {\n",
       "        vertical-align: top;\n",
       "    }\n",
       "\n",
       "    .dataframe thead th {\n",
       "        text-align: right;\n",
       "    }\n",
       "</style>\n",
       "<table border=\"1\" class=\"dataframe\">\n",
       "  <thead>\n",
       "    <tr style=\"text-align: right;\">\n",
       "      <th></th>\n",
       "      <th>Date</th>\n",
       "      <th>KeyStatistic</th>\n",
       "      <th>CA</th>\n",
       "      <th>Value</th>\n",
       "    </tr>\n",
       "  </thead>\n",
       "  <tbody>\n",
       "    <tr>\n",
       "      <th>0</th>\n",
       "      <td>20100331</td>\n",
       "      <td>Average Gross Weekly Charge for Self Funded Wi...</td>\n",
       "      <td>S12000005</td>\n",
       "      <td>520.0</td>\n",
       "    </tr>\n",
       "    <tr>\n",
       "      <th>1</th>\n",
       "      <td>20110331</td>\n",
       "      <td>Average Gross Weekly Charge for Self Funded Wi...</td>\n",
       "      <td>S12000005</td>\n",
       "      <td>626.0</td>\n",
       "    </tr>\n",
       "    <tr>\n",
       "      <th>2</th>\n",
       "      <td>20120331</td>\n",
       "      <td>Average Gross Weekly Charge for Self Funded Wi...</td>\n",
       "      <td>S12000005</td>\n",
       "      <td>701.0</td>\n",
       "    </tr>\n",
       "    <tr>\n",
       "      <th>3</th>\n",
       "      <td>20130331</td>\n",
       "      <td>Average Gross Weekly Charge for Self Funded Wi...</td>\n",
       "      <td>S12000005</td>\n",
       "      <td>773.0</td>\n",
       "    </tr>\n",
       "    <tr>\n",
       "      <th>4</th>\n",
       "      <td>20140331</td>\n",
       "      <td>Average Gross Weekly Charge for Self Funded Wi...</td>\n",
       "      <td>S12000005</td>\n",
       "      <td>787.0</td>\n",
       "    </tr>\n",
       "  </tbody>\n",
       "</table>\n",
       "</div>"
      ],
      "text/plain": [
       "       Date                                       KeyStatistic         CA  \\\n",
       "0  20100331  Average Gross Weekly Charge for Self Funded Wi...  S12000005   \n",
       "1  20110331  Average Gross Weekly Charge for Self Funded Wi...  S12000005   \n",
       "2  20120331  Average Gross Weekly Charge for Self Funded Wi...  S12000005   \n",
       "3  20130331  Average Gross Weekly Charge for Self Funded Wi...  S12000005   \n",
       "4  20140331  Average Gross Weekly Charge for Self Funded Wi...  S12000005   \n",
       "\n",
       "   Value  \n",
       "0  520.0  \n",
       "1  626.0  \n",
       "2  701.0  \n",
       "3  773.0  \n",
       "4  787.0  "
      ]
     },
     "execution_count": 7,
     "metadata": {},
     "output_type": "execute_result"
    }
   ],
   "source": [
    "care_home_charges_small = care_home_charges[[\"Date\", \"KeyStatistic\", \"CA\", \"Value\"]]\n",
    "care_home_charges_small.head()"
   ]
  },
  {
   "cell_type": "markdown",
   "id": "99dc74e0",
   "metadata": {},
   "source": [
    "### Making wider"
   ]
  },
  {
   "cell_type": "code",
   "execution_count": 12,
   "id": "7a6f4568",
   "metadata": {},
   "outputs": [
    {
     "data": {
      "text/html": [
       "<div>\n",
       "<style scoped>\n",
       "    .dataframe tbody tr th:only-of-type {\n",
       "        vertical-align: middle;\n",
       "    }\n",
       "\n",
       "    .dataframe tbody tr th {\n",
       "        vertical-align: top;\n",
       "    }\n",
       "\n",
       "    .dataframe thead th {\n",
       "        text-align: right;\n",
       "    }\n",
       "</style>\n",
       "<table border=\"1\" class=\"dataframe\">\n",
       "  <thead>\n",
       "    <tr style=\"text-align: right;\">\n",
       "      <th></th>\n",
       "      <th>KeyStatistic</th>\n",
       "      <th>Average Gross Weekly Charge for All Funded With Nursing Care</th>\n",
       "      <th>Average Gross Weekly Charge for All Funded Without Nursing Care</th>\n",
       "      <th>Average Gross Weekly Charge for Publicly Funded With Nursing Care</th>\n",
       "      <th>Average Gross Weekly Charge for Publicly Funded Without Nursing Care</th>\n",
       "      <th>Average Gross Weekly Charge for Self Funded With Nursing Care</th>\n",
       "      <th>Average Gross Weekly Charge for Self Funded Without Nursing Care</th>\n",
       "    </tr>\n",
       "    <tr>\n",
       "      <th>Date</th>\n",
       "      <th>CA</th>\n",
       "      <th></th>\n",
       "      <th></th>\n",
       "      <th></th>\n",
       "      <th></th>\n",
       "      <th></th>\n",
       "      <th></th>\n",
       "    </tr>\n",
       "  </thead>\n",
       "  <tbody>\n",
       "    <tr>\n",
       "      <th rowspan=\"5\" valign=\"top\">20100331</th>\n",
       "      <th>S12000005</th>\n",
       "      <td>NaN</td>\n",
       "      <td>NaN</td>\n",
       "      <td>NaN</td>\n",
       "      <td>NaN</td>\n",
       "      <td>520.0</td>\n",
       "      <td>520.0</td>\n",
       "    </tr>\n",
       "    <tr>\n",
       "      <th>S12000006</th>\n",
       "      <td>NaN</td>\n",
       "      <td>NaN</td>\n",
       "      <td>NaN</td>\n",
       "      <td>NaN</td>\n",
       "      <td>562.0</td>\n",
       "      <td>517.0</td>\n",
       "    </tr>\n",
       "    <tr>\n",
       "      <th>S12000008</th>\n",
       "      <td>NaN</td>\n",
       "      <td>NaN</td>\n",
       "      <td>NaN</td>\n",
       "      <td>NaN</td>\n",
       "      <td>605.0</td>\n",
       "      <td>556.0</td>\n",
       "    </tr>\n",
       "    <tr>\n",
       "      <th>S12000010</th>\n",
       "      <td>NaN</td>\n",
       "      <td>NaN</td>\n",
       "      <td>NaN</td>\n",
       "      <td>NaN</td>\n",
       "      <td>692.0</td>\n",
       "      <td>612.0</td>\n",
       "    </tr>\n",
       "    <tr>\n",
       "      <th>S12000011</th>\n",
       "      <td>NaN</td>\n",
       "      <td>NaN</td>\n",
       "      <td>NaN</td>\n",
       "      <td>NaN</td>\n",
       "      <td>676.0</td>\n",
       "      <td>641.0</td>\n",
       "    </tr>\n",
       "    <tr>\n",
       "      <th>...</th>\n",
       "      <th>...</th>\n",
       "      <td>...</td>\n",
       "      <td>...</td>\n",
       "      <td>...</td>\n",
       "      <td>...</td>\n",
       "      <td>...</td>\n",
       "      <td>...</td>\n",
       "    </tr>\n",
       "    <tr>\n",
       "      <th rowspan=\"5\" valign=\"top\">20230331</th>\n",
       "      <th>S12000047</th>\n",
       "      <td>NaN</td>\n",
       "      <td>NaN</td>\n",
       "      <td>NaN</td>\n",
       "      <td>NaN</td>\n",
       "      <td>1228.0</td>\n",
       "      <td>1121.0</td>\n",
       "    </tr>\n",
       "    <tr>\n",
       "      <th>S12000048</th>\n",
       "      <td>NaN</td>\n",
       "      <td>NaN</td>\n",
       "      <td>NaN</td>\n",
       "      <td>NaN</td>\n",
       "      <td>1347.0</td>\n",
       "      <td>1172.0</td>\n",
       "    </tr>\n",
       "    <tr>\n",
       "      <th>S12000049</th>\n",
       "      <td>NaN</td>\n",
       "      <td>NaN</td>\n",
       "      <td>NaN</td>\n",
       "      <td>NaN</td>\n",
       "      <td>1182.0</td>\n",
       "      <td>1074.0</td>\n",
       "    </tr>\n",
       "    <tr>\n",
       "      <th>S12000050</th>\n",
       "      <td>NaN</td>\n",
       "      <td>NaN</td>\n",
       "      <td>NaN</td>\n",
       "      <td>NaN</td>\n",
       "      <td>1114.0</td>\n",
       "      <td>981.0</td>\n",
       "    </tr>\n",
       "    <tr>\n",
       "      <th>S92000003</th>\n",
       "      <td>1122.0</td>\n",
       "      <td>1036.0</td>\n",
       "      <td>910.0</td>\n",
       "      <td>848.0</td>\n",
       "      <td>1328.0</td>\n",
       "      <td>1214.0</td>\n",
       "    </tr>\n",
       "  </tbody>\n",
       "</table>\n",
       "<p>462 rows × 6 columns</p>\n",
       "</div>"
      ],
      "text/plain": [
       "KeyStatistic        Average Gross Weekly Charge for All Funded With Nursing Care  \\\n",
       "Date     CA                                                                        \n",
       "20100331 S12000005                                                NaN              \n",
       "         S12000006                                                NaN              \n",
       "         S12000008                                                NaN              \n",
       "         S12000010                                                NaN              \n",
       "         S12000011                                                NaN              \n",
       "...                                                               ...              \n",
       "20230331 S12000047                                                NaN              \n",
       "         S12000048                                                NaN              \n",
       "         S12000049                                                NaN              \n",
       "         S12000050                                                NaN              \n",
       "         S92000003                                             1122.0              \n",
       "\n",
       "KeyStatistic        Average Gross Weekly Charge for All Funded Without Nursing Care  \\\n",
       "Date     CA                                                                           \n",
       "20100331 S12000005                                                NaN                 \n",
       "         S12000006                                                NaN                 \n",
       "         S12000008                                                NaN                 \n",
       "         S12000010                                                NaN                 \n",
       "         S12000011                                                NaN                 \n",
       "...                                                               ...                 \n",
       "20230331 S12000047                                                NaN                 \n",
       "         S12000048                                                NaN                 \n",
       "         S12000049                                                NaN                 \n",
       "         S12000050                                                NaN                 \n",
       "         S92000003                                             1036.0                 \n",
       "\n",
       "KeyStatistic        Average Gross Weekly Charge for Publicly Funded With Nursing Care  \\\n",
       "Date     CA                                                                             \n",
       "20100331 S12000005                                                NaN                   \n",
       "         S12000006                                                NaN                   \n",
       "         S12000008                                                NaN                   \n",
       "         S12000010                                                NaN                   \n",
       "         S12000011                                                NaN                   \n",
       "...                                                               ...                   \n",
       "20230331 S12000047                                                NaN                   \n",
       "         S12000048                                                NaN                   \n",
       "         S12000049                                                NaN                   \n",
       "         S12000050                                                NaN                   \n",
       "         S92000003                                              910.0                   \n",
       "\n",
       "KeyStatistic        Average Gross Weekly Charge for Publicly Funded Without Nursing Care  \\\n",
       "Date     CA                                                                                \n",
       "20100331 S12000005                                                NaN                      \n",
       "         S12000006                                                NaN                      \n",
       "         S12000008                                                NaN                      \n",
       "         S12000010                                                NaN                      \n",
       "         S12000011                                                NaN                      \n",
       "...                                                               ...                      \n",
       "20230331 S12000047                                                NaN                      \n",
       "         S12000048                                                NaN                      \n",
       "         S12000049                                                NaN                      \n",
       "         S12000050                                                NaN                      \n",
       "         S92000003                                              848.0                      \n",
       "\n",
       "KeyStatistic        Average Gross Weekly Charge for Self Funded With Nursing Care  \\\n",
       "Date     CA                                                                         \n",
       "20100331 S12000005                                              520.0               \n",
       "         S12000006                                              562.0               \n",
       "         S12000008                                              605.0               \n",
       "         S12000010                                              692.0               \n",
       "         S12000011                                              676.0               \n",
       "...                                                               ...               \n",
       "20230331 S12000047                                             1228.0               \n",
       "         S12000048                                             1347.0               \n",
       "         S12000049                                             1182.0               \n",
       "         S12000050                                             1114.0               \n",
       "         S92000003                                             1328.0               \n",
       "\n",
       "KeyStatistic        Average Gross Weekly Charge for Self Funded Without Nursing Care  \n",
       "Date     CA                                                                           \n",
       "20100331 S12000005                                              520.0                 \n",
       "         S12000006                                              517.0                 \n",
       "         S12000008                                              556.0                 \n",
       "         S12000010                                              612.0                 \n",
       "         S12000011                                              641.0                 \n",
       "...                                                               ...                 \n",
       "20230331 S12000047                                             1121.0                 \n",
       "         S12000048                                             1172.0                 \n",
       "         S12000049                                             1074.0                 \n",
       "         S12000050                                              981.0                 \n",
       "         S92000003                                             1214.0                 \n",
       "\n",
       "[462 rows x 6 columns]"
      ]
     },
     "execution_count": 12,
     "metadata": {},
     "output_type": "execute_result"
    }
   ],
   "source": [
    "# make care_home_charges into wide format\n",
    "care_home_charges_wide = care_home_charges.pivot(index = [\"Date\", \"CA\"], columns = \"KeyStatistic\", values = \"Value\")\n",
    "care_home_charges_wide"
   ]
  },
  {
   "cell_type": "code",
   "execution_count": 13,
   "id": "d0cc8c0f",
   "metadata": {},
   "outputs": [
    {
     "data": {
      "text/plain": [
       "['Average Gross Weekly Charge for All Funded With Nursing Care',\n",
       " 'Average Gross Weekly Charge for All Funded Without Nursing Care',\n",
       " 'Average Gross Weekly Charge for Publicly Funded With Nursing Care',\n",
       " 'Average Gross Weekly Charge for Publicly Funded Without Nursing Care',\n",
       " 'Average Gross Weekly Charge for Self Funded With Nursing Care',\n",
       " 'Average Gross Weekly Charge for Self Funded Without Nursing Care']"
      ]
     },
     "execution_count": 13,
     "metadata": {},
     "output_type": "execute_result"
    }
   ],
   "source": [
    "care_home_charges_wide.columns.values.tolist()"
   ]
  },
  {
   "cell_type": "code",
   "execution_count": 14,
   "id": "76deb876",
   "metadata": {},
   "outputs": [
    {
     "data": {
      "text/plain": [
       "{'Average Gross Weekly Charge for All Funded With Nursing Care',\n",
       " 'Average Gross Weekly Charge for All Funded Without Nursing Care',\n",
       " 'Average Gross Weekly Charge for Publicly Funded With Nursing Care',\n",
       " 'Average Gross Weekly Charge for Publicly Funded Without Nursing Care',\n",
       " 'Average Gross Weekly Charge for Self Funded With Nursing Care',\n",
       " 'Average Gross Weekly Charge for Self Funded Without Nursing Care'}"
      ]
     },
     "execution_count": 14,
     "metadata": {},
     "output_type": "execute_result"
    }
   ],
   "source": [
    "set(care_home_charges[\"KeyStatistic\"])"
   ]
  },
  {
   "cell_type": "code",
   "execution_count": 15,
   "id": "a3df4854",
   "metadata": {},
   "outputs": [
    {
     "data": {
      "text/plain": [
       "[520.0,\n",
       " 517.0,\n",
       " 556.0,\n",
       " 612.0,\n",
       " 641.0,\n",
       " 673.0,\n",
       " 579.0,\n",
       " 650.0,\n",
       " 494.0,\n",
       " 669.0,\n",
       " 590.0,\n",
       " 511.0,\n",
       " 831.0,\n",
       " 519.0,\n",
       " 1030.0,\n",
       " 551.0,\n",
       " 511.0,\n",
       " 584.0,\n",
       " 655.0,\n",
       " 633.0,\n",
       " 711.0,\n",
       " 647.0,\n",
       " 593.0,\n",
       " 550.0,\n",
       " 541.0,\n",
       " 524.0,\n",
       " 552.0,\n",
       " 709.0,\n",
       " 540.0,\n",
       " 557.0,\n",
       " 528.0,\n",
       " 500.0,\n",
       " 583.0,\n",
       " 589.0,\n",
       " 531.0,\n",
       " 543.0,\n",
       " 662.0,\n",
       " 659.0,\n",
       " 751.0,\n",
       " 593.0,\n",
       " 662.0,\n",
       " 534.0,\n",
       " 663.0,\n",
       " 633.0,\n",
       " 546.0,\n",
       " 737.0,\n",
       " 528.0,\n",
       " 953.0,\n",
       " 608.0,\n",
       " 519.0,\n",
       " 654.0,\n",
       " 661.0,\n",
       " 680.0,\n",
       " 708.0,\n",
       " 722.0,\n",
       " 592.0,\n",
       " 540.0,\n",
       " 618.0,\n",
       " 596.0,\n",
       " 591.0,\n",
       " 687.0,\n",
       " 554.0,\n",
       " 586.0,\n",
       " 563.0,\n",
       " 509.0,\n",
       " 606.0,\n",
       " 731.0,\n",
       " 556.0,\n",
       " 527.0,\n",
       " 681.0,\n",
       " 673.0,\n",
       " 786.0,\n",
       " 641.0,\n",
       " 701.0,\n",
       " 576.0,\n",
       " 685.0,\n",
       " 685.0,\n",
       " 563.0,\n",
       " 986.0,\n",
       " 555.0,\n",
       " 974.0,\n",
       " 622.0,\n",
       " 539.0,\n",
       " 672.0,\n",
       " 694.0,\n",
       " 685.0,\n",
       " 736.0,\n",
       " 758.0,\n",
       " 595.0,\n",
       " 518.0,\n",
       " 644.0,\n",
       " 586.0,\n",
       " 634.0,\n",
       " 717.0,\n",
       " 597.0,\n",
       " 622.0,\n",
       " 579.0,\n",
       " 514.0,\n",
       " 631.0,\n",
       " 731.0,\n",
       " 569.0,\n",
       " 563.0,\n",
       " 697.0,\n",
       " 653.0,\n",
       " 849.0,\n",
       " 660.0,\n",
       " 735.0,\n",
       " 609.0,\n",
       " 680.0,\n",
       " 706.0,\n",
       " 596.0,\n",
       " 949.0,\n",
       " 564.0,\n",
       " 989.0,\n",
       " 677.0,\n",
       " 546.0,\n",
       " 753.0,\n",
       " 741.0,\n",
       " 669.0,\n",
       " 796.0,\n",
       " 821.0,\n",
       " 635.0,\n",
       " 597.0,\n",
       " 641.0,\n",
       " 643.0,\n",
       " 632.0,\n",
       " 728.0,\n",
       " 621.0,\n",
       " 637.0,\n",
       " 591.0,\n",
       " 532.0,\n",
       " 661.0,\n",
       " 771.0,\n",
       " 604.0,\n",
       " 632.0,\n",
       " 718.0,\n",
       " 654.0,\n",
       " 799.0,\n",
       " 699.0,\n",
       " 763.0,\n",
       " 667.0,\n",
       " 654.0,\n",
       " 752.0,\n",
       " 641.0,\n",
       " 940.0,\n",
       " 581.0,\n",
       " 1081.0,\n",
       " 664.0,\n",
       " 569.0,\n",
       " 804.0,\n",
       " 767.0,\n",
       " 757.0,\n",
       " 853.0,\n",
       " 837.0,\n",
       " 638.0,\n",
       " 627.0,\n",
       " 676.0,\n",
       " 645.0,\n",
       " 678.0,\n",
       " 820.0,\n",
       " 630.0,\n",
       " 647.0,\n",
       " 599.0,\n",
       " 525.0,\n",
       " 686.0,\n",
       " 730.0,\n",
       " 607.0,\n",
       " 600.0,\n",
       " 795.0,\n",
       " 722.0,\n",
       " 833.0,\n",
       " 692.0,\n",
       " 792.0,\n",
       " 730.0,\n",
       " 758.0,\n",
       " 761.0,\n",
       " 667.0,\n",
       " 868.0,\n",
       " 572.0,\n",
       " 1051.0,\n",
       " 692.0,\n",
       " 607.0,\n",
       " 800.0,\n",
       " 842.0,\n",
       " 784.0,\n",
       " 842.0,\n",
       " 871.0,\n",
       " 673.0,\n",
       " 645.0,\n",
       " 691.0,\n",
       " 654.0,\n",
       " 693.0,\n",
       " 862.0,\n",
       " 675.0,\n",
       " 676.0,\n",
       " 623.0,\n",
       " 576.0,\n",
       " 714.0,\n",
       " 812.0,\n",
       " 632.0,\n",
       " 650.0,\n",
       " 811.0,\n",
       " 756.0,\n",
       " 871.0,\n",
       " 729.0,\n",
       " 833.0,\n",
       " 728.0,\n",
       " 807.0,\n",
       " 811.0,\n",
       " 695.0,\n",
       " 891.0,\n",
       " 641.0,\n",
       " 1052.0,\n",
       " 753.0,\n",
       " 662.0,\n",
       " 792.0,\n",
       " 934.0,\n",
       " 821.0,\n",
       " 871.0,\n",
       " 936.0,\n",
       " 728.0,\n",
       " 699.0,\n",
       " 721.0,\n",
       " 711.0,\n",
       " 727.0,\n",
       " 908.0,\n",
       " 721.0,\n",
       " 757.0,\n",
       " 644.0,\n",
       " 584.0,\n",
       " 757.0,\n",
       " 831.0,\n",
       " 677.0,\n",
       " 730.0,\n",
       " 845.0,\n",
       " 811.0,\n",
       " 835.0,\n",
       " 772.0,\n",
       " 873.0,\n",
       " 803.0,\n",
       " 896.0,\n",
       " 858.0,\n",
       " 694.0,\n",
       " 886.0,\n",
       " 731.0,\n",
       " 1076.0,\n",
       " 786.0,\n",
       " 676.0,\n",
       " 836.0,\n",
       " 887.0,\n",
       " 829.0,\n",
       " 892.0,\n",
       " 977.0,\n",
       " 828.0,\n",
       " 723.0,\n",
       " 762.0,\n",
       " 728.0,\n",
       " 790.0,\n",
       " 967.0,\n",
       " 767.0,\n",
       " 781.0,\n",
       " 698.0,\n",
       " 669.0,\n",
       " 794.0,\n",
       " 966.0,\n",
       " 689.0,\n",
       " 721.0,\n",
       " 878.0,\n",
       " 856.0,\n",
       " 806.0,\n",
       " 827.0,\n",
       " 909.0,\n",
       " 804.0,\n",
       " 955.0,\n",
       " 942.0,\n",
       " 713.0,\n",
       " 835.0,\n",
       " 757.0,\n",
       " 1094.0,\n",
       " 853.0,\n",
       " 705.0,\n",
       " 890.0,\n",
       " 1018.0,\n",
       " 908.0,\n",
       " 935.0,\n",
       " 1038.0,\n",
       " 905.0,\n",
       " 817.0,\n",
       " 735.0,\n",
       " 755.0,\n",
       " 842.0,\n",
       " 1008.0,\n",
       " 775.0,\n",
       " 825.0,\n",
       " 725.0,\n",
       " 700.0,\n",
       " 840.0,\n",
       " 910.0,\n",
       " 741.0,\n",
       " 782.0,\n",
       " 978.0,\n",
       " 784.0,\n",
       " 857.0,\n",
       " 870.0,\n",
       " 1003.0,\n",
       " 905.0,\n",
       " 872.0,\n",
       " 994.0,\n",
       " 772.0,\n",
       " 852.0,\n",
       " 823.0,\n",
       " 1093.0,\n",
       " 900.0,\n",
       " 770.0,\n",
       " 912.0,\n",
       " 1094.0,\n",
       " 871.0,\n",
       " 1092.0,\n",
       " 1125.0,\n",
       " 915.0,\n",
       " 841.0,\n",
       " 828.0,\n",
       " 802.0,\n",
       " 857.0,\n",
       " 1129.0,\n",
       " 846.0,\n",
       " 867.0,\n",
       " 801.0,\n",
       " 769.0,\n",
       " 894.0,\n",
       " nan,\n",
       " nan,\n",
       " nan,\n",
       " nan,\n",
       " nan,\n",
       " nan,\n",
       " nan,\n",
       " nan,\n",
       " nan,\n",
       " nan,\n",
       " nan,\n",
       " nan,\n",
       " nan,\n",
       " nan,\n",
       " nan,\n",
       " nan,\n",
       " nan,\n",
       " nan,\n",
       " nan,\n",
       " nan,\n",
       " nan,\n",
       " nan,\n",
       " nan,\n",
       " nan,\n",
       " nan,\n",
       " nan,\n",
       " nan,\n",
       " nan,\n",
       " nan,\n",
       " nan,\n",
       " nan,\n",
       " nan,\n",
       " nan,\n",
       " 769.0,\n",
       " 802.0,\n",
       " 904.0,\n",
       " 1047.0,\n",
       " 899.0,\n",
       " 763.0,\n",
       " 1084.0,\n",
       " 1043.0,\n",
       " 966.0,\n",
       " 1075.0,\n",
       " 1061.0,\n",
       " 799.0,\n",
       " 1036.0,\n",
       " 991.0,\n",
       " 1305.0,\n",
       " 934.0,\n",
       " 820.0,\n",
       " 1034.0,\n",
       " 1214.0,\n",
       " 1031.0,\n",
       " 1222.0,\n",
       " 1321.0,\n",
       " 1008.0,\n",
       " 901.0,\n",
       " 966.0,\n",
       " 930.0,\n",
       " 931.0,\n",
       " 1237.0,\n",
       " 948.0,\n",
       " 957.0,\n",
       " 886.0,\n",
       " 829.0,\n",
       " 995.0,\n",
       " 769.0,\n",
       " 849.0,\n",
       " 918.0,\n",
       " 1250.0,\n",
       " 961.0,\n",
       " 920.0,\n",
       " 1047.0,\n",
       " 1142.0,\n",
       " 1087.0,\n",
       " 1145.0,\n",
       " 1132.0,\n",
       " 938.0,\n",
       " 1189.0,\n",
       " 998.0,\n",
       " 1405.0,\n",
       " 1046.0,\n",
       " 911.0,\n",
       " 1125.0,\n",
       " 1415.0,\n",
       " 1097.0,\n",
       " 1220.0,\n",
       " 1390.0,\n",
       " 1064.0,\n",
       " 949.0,\n",
       " 1030.0,\n",
       " 1007.0,\n",
       " 987.0,\n",
       " 1296.0,\n",
       " 1013.0,\n",
       " 1017.0,\n",
       " 959.0,\n",
       " 922.0,\n",
       " 1077.0,\n",
       " 1250.0,\n",
       " 1108.0,\n",
       " 973.0,\n",
       " 1383.0,\n",
       " 1184.0,\n",
       " 1039.0,\n",
       " 1196.0,\n",
       " 1345.0,\n",
       " 1245.0,\n",
       " 1261.0,\n",
       " 1373.0,\n",
       " 967.0,\n",
       " 1216.0,\n",
       " 984.0,\n",
       " 1582.0,\n",
       " 1287.0,\n",
       " 1081.0,\n",
       " 1216.0,\n",
       " 1382.0,\n",
       " 1198.0,\n",
       " 1403.0,\n",
       " 1546.0,\n",
       " 1232.0,\n",
       " 1089.0,\n",
       " 1049.0,\n",
       " 1136.0,\n",
       " 1104.0,\n",
       " 1368.0,\n",
       " 1121.0,\n",
       " 1172.0,\n",
       " 1074.0,\n",
       " 981.0,\n",
       " 1214.0]"
      ]
     },
     "execution_count": 15,
     "metadata": {},
     "output_type": "execute_result"
    }
   ],
   "source": [
    "# selecting in wide format\n",
    "care_home_charges_wide[\"Average Gross Weekly Charge for Self Funded Without Nursing Care\"].values.tolist()"
   ]
  },
  {
   "cell_type": "code",
   "execution_count": 16,
   "id": "1e3662e5",
   "metadata": {},
   "outputs": [
    {
     "data": {
      "text/html": [
       "<div>\n",
       "<style scoped>\n",
       "    .dataframe tbody tr th:only-of-type {\n",
       "        vertical-align: middle;\n",
       "    }\n",
       "\n",
       "    .dataframe tbody tr th {\n",
       "        vertical-align: top;\n",
       "    }\n",
       "\n",
       "    .dataframe thead th {\n",
       "        text-align: right;\n",
       "    }\n",
       "</style>\n",
       "<table border=\"1\" class=\"dataframe\">\n",
       "  <thead>\n",
       "    <tr style=\"text-align: right;\">\n",
       "      <th></th>\n",
       "      <th>Date</th>\n",
       "      <th>KeyStatistic</th>\n",
       "      <th>CA</th>\n",
       "      <th>MainClientGroup</th>\n",
       "      <th>Sector</th>\n",
       "      <th>Unit</th>\n",
       "      <th>Value</th>\n",
       "      <th>ValueQF</th>\n",
       "    </tr>\n",
       "  </thead>\n",
       "  <tbody>\n",
       "    <tr>\n",
       "      <th>14</th>\n",
       "      <td>20100331</td>\n",
       "      <td>Average Gross Weekly Charge for Self Funded Wi...</td>\n",
       "      <td>S12000005</td>\n",
       "      <td>Older People Aged 65 and Older</td>\n",
       "      <td>All Sectors</td>\n",
       "      <td>Pound Sterling</td>\n",
       "      <td>520.0</td>\n",
       "      <td>NaN</td>\n",
       "    </tr>\n",
       "    <tr>\n",
       "      <th>15</th>\n",
       "      <td>20110331</td>\n",
       "      <td>Average Gross Weekly Charge for Self Funded Wi...</td>\n",
       "      <td>S12000005</td>\n",
       "      <td>Older People Aged 65 and Older</td>\n",
       "      <td>All Sectors</td>\n",
       "      <td>Pound Sterling</td>\n",
       "      <td>589.0</td>\n",
       "      <td>NaN</td>\n",
       "    </tr>\n",
       "    <tr>\n",
       "      <th>16</th>\n",
       "      <td>20120331</td>\n",
       "      <td>Average Gross Weekly Charge for Self Funded Wi...</td>\n",
       "      <td>S12000005</td>\n",
       "      <td>Older People Aged 65 and Older</td>\n",
       "      <td>All Sectors</td>\n",
       "      <td>Pound Sterling</td>\n",
       "      <td>731.0</td>\n",
       "      <td>NaN</td>\n",
       "    </tr>\n",
       "    <tr>\n",
       "      <th>17</th>\n",
       "      <td>20130331</td>\n",
       "      <td>Average Gross Weekly Charge for Self Funded Wi...</td>\n",
       "      <td>S12000005</td>\n",
       "      <td>Older People Aged 65 and Older</td>\n",
       "      <td>All Sectors</td>\n",
       "      <td>Pound Sterling</td>\n",
       "      <td>731.0</td>\n",
       "      <td>NaN</td>\n",
       "    </tr>\n",
       "    <tr>\n",
       "      <th>18</th>\n",
       "      <td>20140331</td>\n",
       "      <td>Average Gross Weekly Charge for Self Funded Wi...</td>\n",
       "      <td>S12000005</td>\n",
       "      <td>Older People Aged 65 and Older</td>\n",
       "      <td>All Sectors</td>\n",
       "      <td>Pound Sterling</td>\n",
       "      <td>771.0</td>\n",
       "      <td>NaN</td>\n",
       "    </tr>\n",
       "    <tr>\n",
       "      <th>...</th>\n",
       "      <td>...</td>\n",
       "      <td>...</td>\n",
       "      <td>...</td>\n",
       "      <td>...</td>\n",
       "      <td>...</td>\n",
       "      <td>...</td>\n",
       "      <td>...</td>\n",
       "      <td>...</td>\n",
       "    </tr>\n",
       "    <tr>\n",
       "      <th>975</th>\n",
       "      <td>20190331</td>\n",
       "      <td>Average Gross Weekly Charge for Self Funded Wi...</td>\n",
       "      <td>S92000003</td>\n",
       "      <td>Older People Aged 65 and Older</td>\n",
       "      <td>All Sectors</td>\n",
       "      <td>Pound Sterling</td>\n",
       "      <td>894.0</td>\n",
       "      <td>NaN</td>\n",
       "    </tr>\n",
       "    <tr>\n",
       "      <th>976</th>\n",
       "      <td>20200331</td>\n",
       "      <td>Average Gross Weekly Charge for Self Funded Wi...</td>\n",
       "      <td>S92000003</td>\n",
       "      <td>Older People Aged 65 and Older</td>\n",
       "      <td>All Sectors</td>\n",
       "      <td>Pound Sterling</td>\n",
       "      <td>NaN</td>\n",
       "      <td>:</td>\n",
       "    </tr>\n",
       "    <tr>\n",
       "      <th>977</th>\n",
       "      <td>20210331</td>\n",
       "      <td>Average Gross Weekly Charge for Self Funded Wi...</td>\n",
       "      <td>S92000003</td>\n",
       "      <td>Older People Aged 65 and Older</td>\n",
       "      <td>All Sectors</td>\n",
       "      <td>Pound Sterling</td>\n",
       "      <td>995.0</td>\n",
       "      <td>NaN</td>\n",
       "    </tr>\n",
       "    <tr>\n",
       "      <th>978</th>\n",
       "      <td>20220331</td>\n",
       "      <td>Average Gross Weekly Charge for Self Funded Wi...</td>\n",
       "      <td>S92000003</td>\n",
       "      <td>Older People Aged 65 and Older</td>\n",
       "      <td>All Sectors</td>\n",
       "      <td>Pound Sterling</td>\n",
       "      <td>1077.0</td>\n",
       "      <td>NaN</td>\n",
       "    </tr>\n",
       "    <tr>\n",
       "      <th>979</th>\n",
       "      <td>20230331</td>\n",
       "      <td>Average Gross Weekly Charge for Self Funded Wi...</td>\n",
       "      <td>S92000003</td>\n",
       "      <td>Older People Aged 65 and Older</td>\n",
       "      <td>All Sectors</td>\n",
       "      <td>Pound Sterling</td>\n",
       "      <td>1214.0</td>\n",
       "      <td>NaN</td>\n",
       "    </tr>\n",
       "  </tbody>\n",
       "</table>\n",
       "<p>462 rows × 8 columns</p>\n",
       "</div>"
      ],
      "text/plain": [
       "         Date                                       KeyStatistic         CA  \\\n",
       "14   20100331  Average Gross Weekly Charge for Self Funded Wi...  S12000005   \n",
       "15   20110331  Average Gross Weekly Charge for Self Funded Wi...  S12000005   \n",
       "16   20120331  Average Gross Weekly Charge for Self Funded Wi...  S12000005   \n",
       "17   20130331  Average Gross Weekly Charge for Self Funded Wi...  S12000005   \n",
       "18   20140331  Average Gross Weekly Charge for Self Funded Wi...  S12000005   \n",
       "..        ...                                                ...        ...   \n",
       "975  20190331  Average Gross Weekly Charge for Self Funded Wi...  S92000003   \n",
       "976  20200331  Average Gross Weekly Charge for Self Funded Wi...  S92000003   \n",
       "977  20210331  Average Gross Weekly Charge for Self Funded Wi...  S92000003   \n",
       "978  20220331  Average Gross Weekly Charge for Self Funded Wi...  S92000003   \n",
       "979  20230331  Average Gross Weekly Charge for Self Funded Wi...  S92000003   \n",
       "\n",
       "                    MainClientGroup       Sector            Unit   Value  \\\n",
       "14   Older People Aged 65 and Older  All Sectors  Pound Sterling   520.0   \n",
       "15   Older People Aged 65 and Older  All Sectors  Pound Sterling   589.0   \n",
       "16   Older People Aged 65 and Older  All Sectors  Pound Sterling   731.0   \n",
       "17   Older People Aged 65 and Older  All Sectors  Pound Sterling   731.0   \n",
       "18   Older People Aged 65 and Older  All Sectors  Pound Sterling   771.0   \n",
       "..                              ...          ...             ...     ...   \n",
       "975  Older People Aged 65 and Older  All Sectors  Pound Sterling   894.0   \n",
       "976  Older People Aged 65 and Older  All Sectors  Pound Sterling     NaN   \n",
       "977  Older People Aged 65 and Older  All Sectors  Pound Sterling   995.0   \n",
       "978  Older People Aged 65 and Older  All Sectors  Pound Sterling  1077.0   \n",
       "979  Older People Aged 65 and Older  All Sectors  Pound Sterling  1214.0   \n",
       "\n",
       "    ValueQF  \n",
       "14      NaN  \n",
       "15      NaN  \n",
       "16      NaN  \n",
       "17      NaN  \n",
       "18      NaN  \n",
       "..      ...  \n",
       "975     NaN  \n",
       "976       :  \n",
       "977     NaN  \n",
       "978     NaN  \n",
       "979     NaN  \n",
       "\n",
       "[462 rows x 8 columns]"
      ]
     },
     "execution_count": 16,
     "metadata": {},
     "output_type": "execute_result"
    }
   ],
   "source": [
    "# selecting in long format\n",
    "care_home_charges[care_home_charges[\"KeyStatistic\"] == \"Average Gross Weekly Charge for Self Funded Without Nursing Care\"]"
   ]
  },
  {
   "cell_type": "code",
   "execution_count": 23,
   "id": "7a3185f0",
   "metadata": {},
   "outputs": [
    {
     "data": {
      "text/plain": [
       "13      520.0\n",
       "14      589.0\n",
       "15      731.0\n",
       "16      731.0\n",
       "17      771.0\n",
       "        ...  \n",
       "905     840.0\n",
       "906     894.0\n",
       "907       NaN\n",
       "908     995.0\n",
       "909    1077.0\n",
       "Name: Value, Length: 429, dtype: float64"
      ]
     },
     "execution_count": 23,
     "metadata": {},
     "output_type": "execute_result"
    }
   ],
   "source": [
    "care_home_charges[care_home_charges[\"KeyStatistic\"] == \"Average Gross Weekly Charge for Self Funded Without Nursing Care\"][\"Value\"]"
   ]
  },
  {
   "cell_type": "code",
   "execution_count": 24,
   "id": "08f23380",
   "metadata": {},
   "outputs": [
    {
     "data": {
      "text/plain": [
       "Date      CA       \n",
       "20100331  S12000005     520.0\n",
       "          S12000006     517.0\n",
       "          S12000008     556.0\n",
       "          S12000010     612.0\n",
       "          S12000011     641.0\n",
       "                        ...  \n",
       "20220331  S12000047    1013.0\n",
       "          S12000048    1017.0\n",
       "          S12000049     959.0\n",
       "          S12000050     922.0\n",
       "          S92000003    1077.0\n",
       "Name: Average Gross Weekly Charge for Self Funded Without Nursing Care, Length: 429, dtype: float64"
      ]
     },
     "execution_count": 24,
     "metadata": {},
     "output_type": "execute_result"
    }
   ],
   "source": [
    "care_home_charges_wide[\"Average Gross Weekly Charge for Self Funded Without Nursing Care\"]"
   ]
  },
  {
   "cell_type": "code",
   "execution_count": 27,
   "id": "4e2b1132",
   "metadata": {},
   "outputs": [
    {
     "data": {
      "text/plain": [
       "[520.0,\n",
       " 589.0,\n",
       " 731.0,\n",
       " 731.0,\n",
       " 771.0,\n",
       " 730.0,\n",
       " 812.0,\n",
       " 831.0,\n",
       " 966.0,\n",
       " 910.0,\n",
       " nan,\n",
       " 769.0,\n",
       " 769.0,\n",
       " 517.0,\n",
       " 531.0,\n",
       " 556.0,\n",
       " 569.0,\n",
       " 604.0,\n",
       " 607.0,\n",
       " 632.0,\n",
       " 677.0,\n",
       " 689.0,\n",
       " 741.0,\n",
       " nan,\n",
       " 802.0,\n",
       " 849.0,\n",
       " 556.0,\n",
       " 543.0,\n",
       " 527.0,\n",
       " 563.0,\n",
       " 632.0,\n",
       " 600.0,\n",
       " 650.0,\n",
       " 730.0,\n",
       " 721.0,\n",
       " 782.0,\n",
       " nan,\n",
       " 904.0,\n",
       " 918.0,\n",
       " 612.0,\n",
       " 662.0,\n",
       " 681.0,\n",
       " 697.0,\n",
       " 718.0,\n",
       " 795.0,\n",
       " 811.0,\n",
       " 845.0,\n",
       " 878.0,\n",
       " 978.0,\n",
       " nan,\n",
       " 1047.0,\n",
       " 1250.0,\n",
       " 641.0,\n",
       " 659.0,\n",
       " 673.0,\n",
       " 653.0,\n",
       " 654.0,\n",
       " 722.0,\n",
       " 756.0,\n",
       " 811.0,\n",
       " 856.0,\n",
       " 784.0,\n",
       " nan,\n",
       " 899.0,\n",
       " 961.0,\n",
       " 673.0,\n",
       " 751.0,\n",
       " 786.0,\n",
       " 849.0,\n",
       " 799.0,\n",
       " 833.0,\n",
       " 871.0,\n",
       " 835.0,\n",
       " 806.0,\n",
       " 857.0,\n",
       " nan,\n",
       " 763.0,\n",
       " 920.0,\n",
       " 579.0,\n",
       " 593.0,\n",
       " 641.0,\n",
       " 660.0,\n",
       " 699.0,\n",
       " 692.0,\n",
       " 729.0,\n",
       " 772.0,\n",
       " 827.0,\n",
       " 870.0,\n",
       " nan,\n",
       " 1084.0,\n",
       " 1047.0,\n",
       " 650.0,\n",
       " 662.0,\n",
       " 701.0,\n",
       " 735.0,\n",
       " 763.0,\n",
       " 792.0,\n",
       " 833.0,\n",
       " 873.0,\n",
       " 909.0,\n",
       " 1003.0,\n",
       " nan,\n",
       " 1043.0,\n",
       " 1142.0,\n",
       " 494.0,\n",
       " 534.0,\n",
       " 576.0,\n",
       " 609.0,\n",
       " 667.0,\n",
       " 730.0,\n",
       " 728.0,\n",
       " 803.0,\n",
       " 804.0,\n",
       " 905.0,\n",
       " nan,\n",
       " 966.0,\n",
       " 1087.0,\n",
       " 669.0,\n",
       " 663.0,\n",
       " 685.0,\n",
       " 680.0,\n",
       " 654.0,\n",
       " 758.0,\n",
       " 807.0,\n",
       " 896.0,\n",
       " 955.0,\n",
       " 872.0,\n",
       " nan,\n",
       " 1075.0,\n",
       " 1145.0,\n",
       " 590.0,\n",
       " 633.0,\n",
       " 685.0,\n",
       " 706.0,\n",
       " 752.0,\n",
       " 761.0,\n",
       " 811.0,\n",
       " 858.0,\n",
       " 942.0,\n",
       " 994.0,\n",
       " nan,\n",
       " 1061.0,\n",
       " 1132.0,\n",
       " 511.0,\n",
       " 546.0,\n",
       " 563.0,\n",
       " 596.0,\n",
       " 641.0,\n",
       " 667.0,\n",
       " 695.0,\n",
       " 694.0,\n",
       " 713.0,\n",
       " 772.0,\n",
       " nan,\n",
       " 799.0,\n",
       " 938.0,\n",
       " 831.0,\n",
       " 737.0,\n",
       " 986.0,\n",
       " 949.0,\n",
       " 940.0,\n",
       " 868.0,\n",
       " 891.0,\n",
       " 886.0,\n",
       " 835.0,\n",
       " 852.0,\n",
       " nan,\n",
       " 1036.0,\n",
       " 1189.0,\n",
       " 519.0,\n",
       " 528.0,\n",
       " 555.0,\n",
       " 564.0,\n",
       " 581.0,\n",
       " 572.0,\n",
       " 641.0,\n",
       " 731.0,\n",
       " 757.0,\n",
       " 823.0,\n",
       " nan,\n",
       " 991.0,\n",
       " 998.0,\n",
       " 1030.0,\n",
       " 953.0,\n",
       " 974.0,\n",
       " 989.0,\n",
       " 1081.0,\n",
       " 1051.0,\n",
       " 1052.0,\n",
       " 1076.0,\n",
       " 1094.0,\n",
       " 1093.0,\n",
       " nan,\n",
       " 1305.0,\n",
       " 1405.0,\n",
       " 551.0,\n",
       " 608.0,\n",
       " 622.0,\n",
       " 677.0,\n",
       " 664.0,\n",
       " 692.0,\n",
       " 753.0,\n",
       " 786.0,\n",
       " 853.0,\n",
       " 900.0,\n",
       " nan,\n",
       " 934.0,\n",
       " 1046.0,\n",
       " 511.0,\n",
       " 519.0,\n",
       " 539.0,\n",
       " 546.0,\n",
       " 569.0,\n",
       " 607.0,\n",
       " 662.0,\n",
       " 676.0,\n",
       " 705.0,\n",
       " 770.0,\n",
       " nan,\n",
       " 820.0,\n",
       " 911.0,\n",
       " 584.0,\n",
       " 654.0,\n",
       " 672.0,\n",
       " 753.0,\n",
       " 804.0,\n",
       " 800.0,\n",
       " 792.0,\n",
       " 836.0,\n",
       " 890.0,\n",
       " 912.0,\n",
       " nan,\n",
       " 1034.0,\n",
       " 1125.0,\n",
       " 655.0,\n",
       " 661.0,\n",
       " 694.0,\n",
       " 741.0,\n",
       " 767.0,\n",
       " 842.0,\n",
       " 934.0,\n",
       " 887.0,\n",
       " 1018.0,\n",
       " 1094.0,\n",
       " nan,\n",
       " 1214.0,\n",
       " 1415.0,\n",
       " 633.0,\n",
       " 680.0,\n",
       " 685.0,\n",
       " 669.0,\n",
       " 757.0,\n",
       " 784.0,\n",
       " 821.0,\n",
       " 829.0,\n",
       " 908.0,\n",
       " 871.0,\n",
       " nan,\n",
       " 1031.0,\n",
       " 1097.0,\n",
       " 711.0,\n",
       " 708.0,\n",
       " 736.0,\n",
       " 796.0,\n",
       " 853.0,\n",
       " 842.0,\n",
       " 871.0,\n",
       " 892.0,\n",
       " 935.0,\n",
       " 1092.0,\n",
       " nan,\n",
       " 1222.0,\n",
       " 1220.0,\n",
       " 647.0,\n",
       " 722.0,\n",
       " 758.0,\n",
       " 821.0,\n",
       " 837.0,\n",
       " 871.0,\n",
       " 936.0,\n",
       " 977.0,\n",
       " 1038.0,\n",
       " 1125.0,\n",
       " nan,\n",
       " 1321.0,\n",
       " 1390.0,\n",
       " 593.0,\n",
       " 592.0,\n",
       " 595.0,\n",
       " 635.0,\n",
       " 638.0,\n",
       " 673.0,\n",
       " 728.0,\n",
       " 828.0,\n",
       " 905.0,\n",
       " 915.0,\n",
       " nan,\n",
       " 1008.0,\n",
       " 1064.0,\n",
       " 550.0,\n",
       " 540.0,\n",
       " 518.0,\n",
       " 597.0,\n",
       " 627.0,\n",
       " 645.0,\n",
       " 699.0,\n",
       " 723.0,\n",
       " 817.0,\n",
       " 841.0,\n",
       " nan,\n",
       " 901.0,\n",
       " 949.0,\n",
       " 541.0,\n",
       " 618.0,\n",
       " 644.0,\n",
       " 641.0,\n",
       " 676.0,\n",
       " 691.0,\n",
       " 721.0,\n",
       " 762.0,\n",
       " 735.0,\n",
       " 828.0,\n",
       " nan,\n",
       " 966.0,\n",
       " 1030.0,\n",
       " 524.0,\n",
       " 596.0,\n",
       " 586.0,\n",
       " 643.0,\n",
       " 645.0,\n",
       " 654.0,\n",
       " 711.0,\n",
       " 728.0,\n",
       " 755.0,\n",
       " 802.0,\n",
       " nan,\n",
       " 930.0,\n",
       " 1007.0,\n",
       " 552.0,\n",
       " 591.0,\n",
       " 634.0,\n",
       " 632.0,\n",
       " 678.0,\n",
       " 693.0,\n",
       " 727.0,\n",
       " 790.0,\n",
       " 842.0,\n",
       " 857.0,\n",
       " nan,\n",
       " 931.0,\n",
       " 987.0,\n",
       " 709.0,\n",
       " 687.0,\n",
       " 717.0,\n",
       " 728.0,\n",
       " 820.0,\n",
       " 862.0,\n",
       " 908.0,\n",
       " 967.0,\n",
       " 1008.0,\n",
       " 1129.0,\n",
       " nan,\n",
       " 1237.0,\n",
       " 1296.0,\n",
       " 540.0,\n",
       " 554.0,\n",
       " 597.0,\n",
       " 621.0,\n",
       " 630.0,\n",
       " 675.0,\n",
       " 721.0,\n",
       " 767.0,\n",
       " 775.0,\n",
       " 846.0,\n",
       " nan,\n",
       " 948.0,\n",
       " 1013.0,\n",
       " 557.0,\n",
       " 586.0,\n",
       " 622.0,\n",
       " 637.0,\n",
       " 647.0,\n",
       " 676.0,\n",
       " 757.0,\n",
       " 781.0,\n",
       " 825.0,\n",
       " 867.0,\n",
       " nan,\n",
       " 957.0,\n",
       " 1017.0,\n",
       " 528.0,\n",
       " 563.0,\n",
       " 579.0,\n",
       " 591.0,\n",
       " 599.0,\n",
       " 623.0,\n",
       " 644.0,\n",
       " 698.0,\n",
       " 725.0,\n",
       " 801.0,\n",
       " nan,\n",
       " 886.0,\n",
       " 959.0,\n",
       " 500.0,\n",
       " 509.0,\n",
       " 514.0,\n",
       " 532.0,\n",
       " 525.0,\n",
       " 576.0,\n",
       " 584.0,\n",
       " 669.0,\n",
       " 700.0,\n",
       " 769.0,\n",
       " nan,\n",
       " 829.0,\n",
       " 922.0,\n",
       " 583.0,\n",
       " 606.0,\n",
       " 631.0,\n",
       " 661.0,\n",
       " 686.0,\n",
       " 714.0,\n",
       " 757.0,\n",
       " 794.0,\n",
       " 840.0,\n",
       " 894.0,\n",
       " nan,\n",
       " 995.0,\n",
       " 1077.0]"
      ]
     },
     "execution_count": 27,
     "metadata": {},
     "output_type": "execute_result"
    }
   ],
   "source": [
    "care_home_charges_wide_sorted = care_home_charges_wide.sort_values([\"CA\",\"Date\"])\n",
    "care_home_charges_wide_sorted[\"Average Gross Weekly Charge for Self Funded Without Nursing Care\"].values.tolist()"
   ]
  },
  {
   "cell_type": "markdown",
   "id": "e0aa5251",
   "metadata": {},
   "source": [
    "### Manipulating"
   ]
  },
  {
   "cell_type": "code",
   "execution_count": 17,
   "id": "e80d0f6c",
   "metadata": {},
   "outputs": [
    {
     "data": {
      "text/plain": [
       "Index(['Average Gross Weekly Charge for All Funded With Nursing Care',\n",
       "       'Average Gross Weekly Charge for All Funded Without Nursing Care',\n",
       "       'Average Gross Weekly Charge for Publicly Funded With Nursing Care',\n",
       "       'Average Gross Weekly Charge for Publicly Funded Without Nursing Care',\n",
       "       'Average Gross Weekly Charge for Self Funded With Nursing Care',\n",
       "       'Average Gross Weekly Charge for Self Funded Without Nursing Care'],\n",
       "      dtype='object', name='KeyStatistic')"
      ]
     },
     "execution_count": 17,
     "metadata": {},
     "output_type": "execute_result"
    }
   ],
   "source": [
    "care_home_charges_wide.columns"
   ]
  },
  {
   "cell_type": "code",
   "execution_count": 18,
   "id": "166972fd",
   "metadata": {},
   "outputs": [
    {
     "data": {
      "text/html": [
       "<div>\n",
       "<style scoped>\n",
       "    .dataframe tbody tr th:only-of-type {\n",
       "        vertical-align: middle;\n",
       "    }\n",
       "\n",
       "    .dataframe tbody tr th {\n",
       "        vertical-align: top;\n",
       "    }\n",
       "\n",
       "    .dataframe thead th {\n",
       "        text-align: right;\n",
       "    }\n",
       "</style>\n",
       "<table border=\"1\" class=\"dataframe\">\n",
       "  <thead>\n",
       "    <tr style=\"text-align: right;\">\n",
       "      <th></th>\n",
       "      <th>KeyStatistic</th>\n",
       "      <th>All Funded With Nursing Care</th>\n",
       "      <th>All Funded Without Nursing Care</th>\n",
       "      <th>Publicly Funded With Nursing Care</th>\n",
       "      <th>Publicly Funded Without Nursing Care</th>\n",
       "      <th>Self Funded With Nursing Care</th>\n",
       "      <th>Self Funded Without Nursing Care</th>\n",
       "    </tr>\n",
       "    <tr>\n",
       "      <th>Date</th>\n",
       "      <th>CA</th>\n",
       "      <th></th>\n",
       "      <th></th>\n",
       "      <th></th>\n",
       "      <th></th>\n",
       "      <th></th>\n",
       "      <th></th>\n",
       "    </tr>\n",
       "  </thead>\n",
       "  <tbody>\n",
       "    <tr>\n",
       "      <th rowspan=\"5\" valign=\"top\">20100331</th>\n",
       "      <th>S12000005</th>\n",
       "      <td>NaN</td>\n",
       "      <td>NaN</td>\n",
       "      <td>NaN</td>\n",
       "      <td>NaN</td>\n",
       "      <td>520.0</td>\n",
       "      <td>520.0</td>\n",
       "    </tr>\n",
       "    <tr>\n",
       "      <th>S12000006</th>\n",
       "      <td>NaN</td>\n",
       "      <td>NaN</td>\n",
       "      <td>NaN</td>\n",
       "      <td>NaN</td>\n",
       "      <td>562.0</td>\n",
       "      <td>517.0</td>\n",
       "    </tr>\n",
       "    <tr>\n",
       "      <th>S12000008</th>\n",
       "      <td>NaN</td>\n",
       "      <td>NaN</td>\n",
       "      <td>NaN</td>\n",
       "      <td>NaN</td>\n",
       "      <td>605.0</td>\n",
       "      <td>556.0</td>\n",
       "    </tr>\n",
       "    <tr>\n",
       "      <th>S12000010</th>\n",
       "      <td>NaN</td>\n",
       "      <td>NaN</td>\n",
       "      <td>NaN</td>\n",
       "      <td>NaN</td>\n",
       "      <td>692.0</td>\n",
       "      <td>612.0</td>\n",
       "    </tr>\n",
       "    <tr>\n",
       "      <th>S12000011</th>\n",
       "      <td>NaN</td>\n",
       "      <td>NaN</td>\n",
       "      <td>NaN</td>\n",
       "      <td>NaN</td>\n",
       "      <td>676.0</td>\n",
       "      <td>641.0</td>\n",
       "    </tr>\n",
       "  </tbody>\n",
       "</table>\n",
       "</div>"
      ],
      "text/plain": [
       "KeyStatistic        All Funded With Nursing Care  \\\n",
       "Date     CA                                        \n",
       "20100331 S12000005                           NaN   \n",
       "         S12000006                           NaN   \n",
       "         S12000008                           NaN   \n",
       "         S12000010                           NaN   \n",
       "         S12000011                           NaN   \n",
       "\n",
       "KeyStatistic        All Funded Without Nursing Care  \\\n",
       "Date     CA                                           \n",
       "20100331 S12000005                              NaN   \n",
       "         S12000006                              NaN   \n",
       "         S12000008                              NaN   \n",
       "         S12000010                              NaN   \n",
       "         S12000011                              NaN   \n",
       "\n",
       "KeyStatistic        Publicly Funded With Nursing Care  \\\n",
       "Date     CA                                             \n",
       "20100331 S12000005                                NaN   \n",
       "         S12000006                                NaN   \n",
       "         S12000008                                NaN   \n",
       "         S12000010                                NaN   \n",
       "         S12000011                                NaN   \n",
       "\n",
       "KeyStatistic        Publicly Funded Without Nursing Care  \\\n",
       "Date     CA                                                \n",
       "20100331 S12000005                                   NaN   \n",
       "         S12000006                                   NaN   \n",
       "         S12000008                                   NaN   \n",
       "         S12000010                                   NaN   \n",
       "         S12000011                                   NaN   \n",
       "\n",
       "KeyStatistic        Self Funded With Nursing Care  \\\n",
       "Date     CA                                         \n",
       "20100331 S12000005                          520.0   \n",
       "         S12000006                          562.0   \n",
       "         S12000008                          605.0   \n",
       "         S12000010                          692.0   \n",
       "         S12000011                          676.0   \n",
       "\n",
       "KeyStatistic        Self Funded Without Nursing Care  \n",
       "Date     CA                                           \n",
       "20100331 S12000005                             520.0  \n",
       "         S12000006                             517.0  \n",
       "         S12000008                             556.0  \n",
       "         S12000010                             612.0  \n",
       "         S12000011                             641.0  "
      ]
     },
     "execution_count": 18,
     "metadata": {},
     "output_type": "execute_result"
    }
   ],
   "source": [
    "care_home_charges_wide.columns = care_home_charges_wide.columns.str.replace(\"Average Gross Weekly Charge for \",\"\")\n",
    "care_home_charges_wide.head()"
   ]
  },
  {
   "cell_type": "code",
   "execution_count": 20,
   "id": "84774f53",
   "metadata": {},
   "outputs": [
    {
     "data": {
      "text/html": [
       "<div>\n",
       "<style scoped>\n",
       "    .dataframe tbody tr th:only-of-type {\n",
       "        vertical-align: middle;\n",
       "    }\n",
       "\n",
       "    .dataframe tbody tr th {\n",
       "        vertical-align: top;\n",
       "    }\n",
       "\n",
       "    .dataframe thead th {\n",
       "        text-align: right;\n",
       "    }\n",
       "</style>\n",
       "<table border=\"1\" class=\"dataframe\">\n",
       "  <thead>\n",
       "    <tr style=\"text-align: right;\">\n",
       "      <th></th>\n",
       "      <th>KeyStatistic</th>\n",
       "      <th>All Funded With Nursing Care (GBP)</th>\n",
       "      <th>All Funded Without Nursing Care (GBP)</th>\n",
       "      <th>Publicly Funded With Nursing Care (GBP)</th>\n",
       "      <th>Publicly Funded Without Nursing Care (GBP)</th>\n",
       "      <th>Self Funded With Nursing Care (GBP)</th>\n",
       "      <th>Self Funded Without Nursing Care (GBP)</th>\n",
       "    </tr>\n",
       "    <tr>\n",
       "      <th>Date</th>\n",
       "      <th>CA</th>\n",
       "      <th></th>\n",
       "      <th></th>\n",
       "      <th></th>\n",
       "      <th></th>\n",
       "      <th></th>\n",
       "      <th></th>\n",
       "    </tr>\n",
       "  </thead>\n",
       "  <tbody>\n",
       "    <tr>\n",
       "      <th rowspan=\"5\" valign=\"top\">20100331</th>\n",
       "      <th>S12000005</th>\n",
       "      <td>NaN</td>\n",
       "      <td>NaN</td>\n",
       "      <td>NaN</td>\n",
       "      <td>NaN</td>\n",
       "      <td>520.0</td>\n",
       "      <td>520.0</td>\n",
       "    </tr>\n",
       "    <tr>\n",
       "      <th>S12000006</th>\n",
       "      <td>NaN</td>\n",
       "      <td>NaN</td>\n",
       "      <td>NaN</td>\n",
       "      <td>NaN</td>\n",
       "      <td>562.0</td>\n",
       "      <td>517.0</td>\n",
       "    </tr>\n",
       "    <tr>\n",
       "      <th>S12000008</th>\n",
       "      <td>NaN</td>\n",
       "      <td>NaN</td>\n",
       "      <td>NaN</td>\n",
       "      <td>NaN</td>\n",
       "      <td>605.0</td>\n",
       "      <td>556.0</td>\n",
       "    </tr>\n",
       "    <tr>\n",
       "      <th>S12000010</th>\n",
       "      <td>NaN</td>\n",
       "      <td>NaN</td>\n",
       "      <td>NaN</td>\n",
       "      <td>NaN</td>\n",
       "      <td>692.0</td>\n",
       "      <td>612.0</td>\n",
       "    </tr>\n",
       "    <tr>\n",
       "      <th>S12000011</th>\n",
       "      <td>NaN</td>\n",
       "      <td>NaN</td>\n",
       "      <td>NaN</td>\n",
       "      <td>NaN</td>\n",
       "      <td>676.0</td>\n",
       "      <td>641.0</td>\n",
       "    </tr>\n",
       "    <tr>\n",
       "      <th>...</th>\n",
       "      <th>...</th>\n",
       "      <td>...</td>\n",
       "      <td>...</td>\n",
       "      <td>...</td>\n",
       "      <td>...</td>\n",
       "      <td>...</td>\n",
       "      <td>...</td>\n",
       "    </tr>\n",
       "    <tr>\n",
       "      <th rowspan=\"5\" valign=\"top\">20230331</th>\n",
       "      <th>S12000047</th>\n",
       "      <td>NaN</td>\n",
       "      <td>NaN</td>\n",
       "      <td>NaN</td>\n",
       "      <td>NaN</td>\n",
       "      <td>1228.0</td>\n",
       "      <td>1121.0</td>\n",
       "    </tr>\n",
       "    <tr>\n",
       "      <th>S12000048</th>\n",
       "      <td>NaN</td>\n",
       "      <td>NaN</td>\n",
       "      <td>NaN</td>\n",
       "      <td>NaN</td>\n",
       "      <td>1347.0</td>\n",
       "      <td>1172.0</td>\n",
       "    </tr>\n",
       "    <tr>\n",
       "      <th>S12000049</th>\n",
       "      <td>NaN</td>\n",
       "      <td>NaN</td>\n",
       "      <td>NaN</td>\n",
       "      <td>NaN</td>\n",
       "      <td>1182.0</td>\n",
       "      <td>1074.0</td>\n",
       "    </tr>\n",
       "    <tr>\n",
       "      <th>S12000050</th>\n",
       "      <td>NaN</td>\n",
       "      <td>NaN</td>\n",
       "      <td>NaN</td>\n",
       "      <td>NaN</td>\n",
       "      <td>1114.0</td>\n",
       "      <td>981.0</td>\n",
       "    </tr>\n",
       "    <tr>\n",
       "      <th>S92000003</th>\n",
       "      <td>1122.0</td>\n",
       "      <td>1036.0</td>\n",
       "      <td>910.0</td>\n",
       "      <td>848.0</td>\n",
       "      <td>1328.0</td>\n",
       "      <td>1214.0</td>\n",
       "    </tr>\n",
       "  </tbody>\n",
       "</table>\n",
       "<p>462 rows × 6 columns</p>\n",
       "</div>"
      ],
      "text/plain": [
       "KeyStatistic        All Funded With Nursing Care (GBP)  \\\n",
       "Date     CA                                              \n",
       "20100331 S12000005                                 NaN   \n",
       "         S12000006                                 NaN   \n",
       "         S12000008                                 NaN   \n",
       "         S12000010                                 NaN   \n",
       "         S12000011                                 NaN   \n",
       "...                                                ...   \n",
       "20230331 S12000047                                 NaN   \n",
       "         S12000048                                 NaN   \n",
       "         S12000049                                 NaN   \n",
       "         S12000050                                 NaN   \n",
       "         S92000003                              1122.0   \n",
       "\n",
       "KeyStatistic        All Funded Without Nursing Care (GBP)  \\\n",
       "Date     CA                                                 \n",
       "20100331 S12000005                                    NaN   \n",
       "         S12000006                                    NaN   \n",
       "         S12000008                                    NaN   \n",
       "         S12000010                                    NaN   \n",
       "         S12000011                                    NaN   \n",
       "...                                                   ...   \n",
       "20230331 S12000047                                    NaN   \n",
       "         S12000048                                    NaN   \n",
       "         S12000049                                    NaN   \n",
       "         S12000050                                    NaN   \n",
       "         S92000003                                 1036.0   \n",
       "\n",
       "KeyStatistic        Publicly Funded With Nursing Care (GBP)  \\\n",
       "Date     CA                                                   \n",
       "20100331 S12000005                                      NaN   \n",
       "         S12000006                                      NaN   \n",
       "         S12000008                                      NaN   \n",
       "         S12000010                                      NaN   \n",
       "         S12000011                                      NaN   \n",
       "...                                                     ...   \n",
       "20230331 S12000047                                      NaN   \n",
       "         S12000048                                      NaN   \n",
       "         S12000049                                      NaN   \n",
       "         S12000050                                      NaN   \n",
       "         S92000003                                    910.0   \n",
       "\n",
       "KeyStatistic        Publicly Funded Without Nursing Care (GBP)  \\\n",
       "Date     CA                                                      \n",
       "20100331 S12000005                                         NaN   \n",
       "         S12000006                                         NaN   \n",
       "         S12000008                                         NaN   \n",
       "         S12000010                                         NaN   \n",
       "         S12000011                                         NaN   \n",
       "...                                                        ...   \n",
       "20230331 S12000047                                         NaN   \n",
       "         S12000048                                         NaN   \n",
       "         S12000049                                         NaN   \n",
       "         S12000050                                         NaN   \n",
       "         S92000003                                       848.0   \n",
       "\n",
       "KeyStatistic        Self Funded With Nursing Care (GBP)  \\\n",
       "Date     CA                                               \n",
       "20100331 S12000005                                520.0   \n",
       "         S12000006                                562.0   \n",
       "         S12000008                                605.0   \n",
       "         S12000010                                692.0   \n",
       "         S12000011                                676.0   \n",
       "...                                                 ...   \n",
       "20230331 S12000047                               1228.0   \n",
       "         S12000048                               1347.0   \n",
       "         S12000049                               1182.0   \n",
       "         S12000050                               1114.0   \n",
       "         S92000003                               1328.0   \n",
       "\n",
       "KeyStatistic        Self Funded Without Nursing Care (GBP)  \n",
       "Date     CA                                                 \n",
       "20100331 S12000005                                   520.0  \n",
       "         S12000006                                   517.0  \n",
       "         S12000008                                   556.0  \n",
       "         S12000010                                   612.0  \n",
       "         S12000011                                   641.0  \n",
       "...                                                    ...  \n",
       "20230331 S12000047                                  1121.0  \n",
       "         S12000048                                  1172.0  \n",
       "         S12000049                                  1074.0  \n",
       "         S12000050                                   981.0  \n",
       "         S92000003                                  1214.0  \n",
       "\n",
       "[462 rows x 6 columns]"
      ]
     },
     "execution_count": 20,
     "metadata": {},
     "output_type": "execute_result"
    }
   ],
   "source": [
    "care_home_charges_wide = care_home_charges_wide.add_suffix(\" (GBP)\")\n",
    "care_home_charges_wide"
   ]
  },
  {
   "cell_type": "code",
   "execution_count": 21,
   "id": "9fb85e37",
   "metadata": {},
   "outputs": [
    {
     "data": {
      "text/html": [
       "<div>\n",
       "<style scoped>\n",
       "    .dataframe tbody tr th:only-of-type {\n",
       "        vertical-align: middle;\n",
       "    }\n",
       "\n",
       "    .dataframe tbody tr th {\n",
       "        vertical-align: top;\n",
       "    }\n",
       "\n",
       "    .dataframe thead th {\n",
       "        text-align: right;\n",
       "    }\n",
       "</style>\n",
       "<table border=\"1\" class=\"dataframe\">\n",
       "  <thead>\n",
       "    <tr style=\"text-align: right;\">\n",
       "      <th>KeyStatistic</th>\n",
       "      <th>All Funded With Nursing Care (GBP)</th>\n",
       "      <th>All Funded Without Nursing Care (GBP)</th>\n",
       "      <th>Publicly Funded With Nursing Care (GBP)</th>\n",
       "      <th>Publicly Funded Without Nursing Care (GBP)</th>\n",
       "      <th>Self Funded With Nursing Care (GBP)</th>\n",
       "      <th>Self Funded Without Nursing Care (GBP)</th>\n",
       "    </tr>\n",
       "    <tr>\n",
       "      <th>Date</th>\n",
       "      <th></th>\n",
       "      <th></th>\n",
       "      <th></th>\n",
       "      <th></th>\n",
       "      <th></th>\n",
       "      <th></th>\n",
       "    </tr>\n",
       "  </thead>\n",
       "  <tbody>\n",
       "    <tr>\n",
       "      <th>20100331</th>\n",
       "      <td>0.0</td>\n",
       "      <td>0.0</td>\n",
       "      <td>0.0</td>\n",
       "      <td>0.0</td>\n",
       "      <td>20332.0</td>\n",
       "      <td>19861.0</td>\n",
       "    </tr>\n",
       "    <tr>\n",
       "      <th>20110331</th>\n",
       "      <td>623.0</td>\n",
       "      <td>572.0</td>\n",
       "      <td>561.0</td>\n",
       "      <td>531.0</td>\n",
       "      <td>21286.0</td>\n",
       "      <td>20578.0</td>\n",
       "    </tr>\n",
       "    <tr>\n",
       "      <th>20120331</th>\n",
       "      <td>637.0</td>\n",
       "      <td>592.0</td>\n",
       "      <td>574.0</td>\n",
       "      <td>542.0</td>\n",
       "      <td>22747.0</td>\n",
       "      <td>21663.0</td>\n",
       "    </tr>\n",
       "    <tr>\n",
       "      <th>20130331</th>\n",
       "      <td>659.0</td>\n",
       "      <td>615.0</td>\n",
       "      <td>591.0</td>\n",
       "      <td>556.0</td>\n",
       "      <td>23653.0</td>\n",
       "      <td>22471.0</td>\n",
       "    </tr>\n",
       "    <tr>\n",
       "      <th>20140331</th>\n",
       "      <td>681.0</td>\n",
       "      <td>633.0</td>\n",
       "      <td>607.0</td>\n",
       "      <td>574.0</td>\n",
       "      <td>24336.0</td>\n",
       "      <td>23378.0</td>\n",
       "    </tr>\n",
       "    <tr>\n",
       "      <th>20150331</th>\n",
       "      <td>698.0</td>\n",
       "      <td>652.0</td>\n",
       "      <td>616.0</td>\n",
       "      <td>583.0</td>\n",
       "      <td>25184.0</td>\n",
       "      <td>24098.0</td>\n",
       "    </tr>\n",
       "    <tr>\n",
       "      <th>20160331</th>\n",
       "      <td>733.0</td>\n",
       "      <td>683.0</td>\n",
       "      <td>642.0</td>\n",
       "      <td>605.0</td>\n",
       "      <td>26745.0</td>\n",
       "      <td>25445.0</td>\n",
       "    </tr>\n",
       "    <tr>\n",
       "      <th>20170331</th>\n",
       "      <td>776.0</td>\n",
       "      <td>717.0</td>\n",
       "      <td>682.0</td>\n",
       "      <td>635.0</td>\n",
       "      <td>28244.0</td>\n",
       "      <td>26708.0</td>\n",
       "    </tr>\n",
       "    <tr>\n",
       "      <th>20180331</th>\n",
       "      <td>820.0</td>\n",
       "      <td>755.0</td>\n",
       "      <td>709.0</td>\n",
       "      <td>666.0</td>\n",
       "      <td>29929.0</td>\n",
       "      <td>28026.0</td>\n",
       "    </tr>\n",
       "    <tr>\n",
       "      <th>20190331</th>\n",
       "      <td>873.0</td>\n",
       "      <td>799.0</td>\n",
       "      <td>746.0</td>\n",
       "      <td>690.0</td>\n",
       "      <td>31651.0</td>\n",
       "      <td>29549.0</td>\n",
       "    </tr>\n",
       "    <tr>\n",
       "      <th>20200331</th>\n",
       "      <td>0.0</td>\n",
       "      <td>0.0</td>\n",
       "      <td>0.0</td>\n",
       "      <td>0.0</td>\n",
       "      <td>0.0</td>\n",
       "      <td>0.0</td>\n",
       "    </tr>\n",
       "    <tr>\n",
       "      <th>20210331</th>\n",
       "      <td>954.0</td>\n",
       "      <td>874.0</td>\n",
       "      <td>795.0</td>\n",
       "      <td>740.0</td>\n",
       "      <td>35496.0</td>\n",
       "      <td>32708.0</td>\n",
       "    </tr>\n",
       "    <tr>\n",
       "      <th>20220331</th>\n",
       "      <td>1032.0</td>\n",
       "      <td>941.0</td>\n",
       "      <td>856.0</td>\n",
       "      <td>792.0</td>\n",
       "      <td>38039.0</td>\n",
       "      <td>35275.0</td>\n",
       "    </tr>\n",
       "    <tr>\n",
       "      <th>20230331</th>\n",
       "      <td>1122.0</td>\n",
       "      <td>1036.0</td>\n",
       "      <td>910.0</td>\n",
       "      <td>848.0</td>\n",
       "      <td>42509.0</td>\n",
       "      <td>39759.0</td>\n",
       "    </tr>\n",
       "  </tbody>\n",
       "</table>\n",
       "</div>"
      ],
      "text/plain": [
       "KeyStatistic  All Funded With Nursing Care (GBP)  \\\n",
       "Date                                               \n",
       "20100331                                     0.0   \n",
       "20110331                                   623.0   \n",
       "20120331                                   637.0   \n",
       "20130331                                   659.0   \n",
       "20140331                                   681.0   \n",
       "20150331                                   698.0   \n",
       "20160331                                   733.0   \n",
       "20170331                                   776.0   \n",
       "20180331                                   820.0   \n",
       "20190331                                   873.0   \n",
       "20200331                                     0.0   \n",
       "20210331                                   954.0   \n",
       "20220331                                  1032.0   \n",
       "20230331                                  1122.0   \n",
       "\n",
       "KeyStatistic  All Funded Without Nursing Care (GBP)  \\\n",
       "Date                                                  \n",
       "20100331                                        0.0   \n",
       "20110331                                      572.0   \n",
       "20120331                                      592.0   \n",
       "20130331                                      615.0   \n",
       "20140331                                      633.0   \n",
       "20150331                                      652.0   \n",
       "20160331                                      683.0   \n",
       "20170331                                      717.0   \n",
       "20180331                                      755.0   \n",
       "20190331                                      799.0   \n",
       "20200331                                        0.0   \n",
       "20210331                                      874.0   \n",
       "20220331                                      941.0   \n",
       "20230331                                     1036.0   \n",
       "\n",
       "KeyStatistic  Publicly Funded With Nursing Care (GBP)  \\\n",
       "Date                                                    \n",
       "20100331                                          0.0   \n",
       "20110331                                        561.0   \n",
       "20120331                                        574.0   \n",
       "20130331                                        591.0   \n",
       "20140331                                        607.0   \n",
       "20150331                                        616.0   \n",
       "20160331                                        642.0   \n",
       "20170331                                        682.0   \n",
       "20180331                                        709.0   \n",
       "20190331                                        746.0   \n",
       "20200331                                          0.0   \n",
       "20210331                                        795.0   \n",
       "20220331                                        856.0   \n",
       "20230331                                        910.0   \n",
       "\n",
       "KeyStatistic  Publicly Funded Without Nursing Care (GBP)  \\\n",
       "Date                                                       \n",
       "20100331                                             0.0   \n",
       "20110331                                           531.0   \n",
       "20120331                                           542.0   \n",
       "20130331                                           556.0   \n",
       "20140331                                           574.0   \n",
       "20150331                                           583.0   \n",
       "20160331                                           605.0   \n",
       "20170331                                           635.0   \n",
       "20180331                                           666.0   \n",
       "20190331                                           690.0   \n",
       "20200331                                             0.0   \n",
       "20210331                                           740.0   \n",
       "20220331                                           792.0   \n",
       "20230331                                           848.0   \n",
       "\n",
       "KeyStatistic  Self Funded With Nursing Care (GBP)  \\\n",
       "Date                                                \n",
       "20100331                                  20332.0   \n",
       "20110331                                  21286.0   \n",
       "20120331                                  22747.0   \n",
       "20130331                                  23653.0   \n",
       "20140331                                  24336.0   \n",
       "20150331                                  25184.0   \n",
       "20160331                                  26745.0   \n",
       "20170331                                  28244.0   \n",
       "20180331                                  29929.0   \n",
       "20190331                                  31651.0   \n",
       "20200331                                      0.0   \n",
       "20210331                                  35496.0   \n",
       "20220331                                  38039.0   \n",
       "20230331                                  42509.0   \n",
       "\n",
       "KeyStatistic  Self Funded Without Nursing Care (GBP)  \n",
       "Date                                                  \n",
       "20100331                                     19861.0  \n",
       "20110331                                     20578.0  \n",
       "20120331                                     21663.0  \n",
       "20130331                                     22471.0  \n",
       "20140331                                     23378.0  \n",
       "20150331                                     24098.0  \n",
       "20160331                                     25445.0  \n",
       "20170331                                     26708.0  \n",
       "20180331                                     28026.0  \n",
       "20190331                                     29549.0  \n",
       "20200331                                         0.0  \n",
       "20210331                                     32708.0  \n",
       "20220331                                     35275.0  \n",
       "20230331                                     39759.0  "
      ]
     },
     "execution_count": 21,
     "metadata": {},
     "output_type": "execute_result"
    }
   ],
   "source": [
    "# sum for all of Scotland\n",
    "care_home_charges_scot = care_home_charges_wide.groupby(\"Date\").sum()\n",
    "care_home_charges_scot"
   ]
  },
  {
   "cell_type": "markdown",
   "id": "32d711e2",
   "metadata": {},
   "source": [
    "### Plot"
   ]
  },
  {
   "cell_type": "code",
   "execution_count": 22,
   "id": "2bf4767b",
   "metadata": {},
   "outputs": [
    {
     "data": {
      "application/vnd.plotly.v1+json": {
       "config": {
        "plotlyServerURL": "https://plot.ly"
       },
       "data": [
        {
         "fill": "toself",
         "name": "2010",
         "r": [
          0,
          0,
          0,
          0,
          20332,
          19861
         ],
         "theta": [
          "All Funded With Nursing Care (GBP)",
          "All Funded Without Nursing Care (GBP)",
          "Publicly Funded With Nursing Care (GBP)",
          "Publicly Funded Without Nursing Care (GBP)",
          "Self Funded With Nursing Care (GBP)",
          "Self Funded Without Nursing Care (GBP)"
         ],
         "type": "scatterpolar"
        }
       ],
       "layout": {
        "template": {
         "data": {
          "bar": [
           {
            "error_x": {
             "color": "#2a3f5f"
            },
            "error_y": {
             "color": "#2a3f5f"
            },
            "marker": {
             "line": {
              "color": "#E5ECF6",
              "width": 0.5
             },
             "pattern": {
              "fillmode": "overlay",
              "size": 10,
              "solidity": 0.2
             }
            },
            "type": "bar"
           }
          ],
          "barpolar": [
           {
            "marker": {
             "line": {
              "color": "#E5ECF6",
              "width": 0.5
             },
             "pattern": {
              "fillmode": "overlay",
              "size": 10,
              "solidity": 0.2
             }
            },
            "type": "barpolar"
           }
          ],
          "carpet": [
           {
            "aaxis": {
             "endlinecolor": "#2a3f5f",
             "gridcolor": "white",
             "linecolor": "white",
             "minorgridcolor": "white",
             "startlinecolor": "#2a3f5f"
            },
            "baxis": {
             "endlinecolor": "#2a3f5f",
             "gridcolor": "white",
             "linecolor": "white",
             "minorgridcolor": "white",
             "startlinecolor": "#2a3f5f"
            },
            "type": "carpet"
           }
          ],
          "choropleth": [
           {
            "colorbar": {
             "outlinewidth": 0,
             "ticks": ""
            },
            "type": "choropleth"
           }
          ],
          "contour": [
           {
            "colorbar": {
             "outlinewidth": 0,
             "ticks": ""
            },
            "colorscale": [
             [
              0,
              "#0d0887"
             ],
             [
              0.1111111111111111,
              "#46039f"
             ],
             [
              0.2222222222222222,
              "#7201a8"
             ],
             [
              0.3333333333333333,
              "#9c179e"
             ],
             [
              0.4444444444444444,
              "#bd3786"
             ],
             [
              0.5555555555555556,
              "#d8576b"
             ],
             [
              0.6666666666666666,
              "#ed7953"
             ],
             [
              0.7777777777777778,
              "#fb9f3a"
             ],
             [
              0.8888888888888888,
              "#fdca26"
             ],
             [
              1,
              "#f0f921"
             ]
            ],
            "type": "contour"
           }
          ],
          "contourcarpet": [
           {
            "colorbar": {
             "outlinewidth": 0,
             "ticks": ""
            },
            "type": "contourcarpet"
           }
          ],
          "heatmap": [
           {
            "colorbar": {
             "outlinewidth": 0,
             "ticks": ""
            },
            "colorscale": [
             [
              0,
              "#0d0887"
             ],
             [
              0.1111111111111111,
              "#46039f"
             ],
             [
              0.2222222222222222,
              "#7201a8"
             ],
             [
              0.3333333333333333,
              "#9c179e"
             ],
             [
              0.4444444444444444,
              "#bd3786"
             ],
             [
              0.5555555555555556,
              "#d8576b"
             ],
             [
              0.6666666666666666,
              "#ed7953"
             ],
             [
              0.7777777777777778,
              "#fb9f3a"
             ],
             [
              0.8888888888888888,
              "#fdca26"
             ],
             [
              1,
              "#f0f921"
             ]
            ],
            "type": "heatmap"
           }
          ],
          "heatmapgl": [
           {
            "colorbar": {
             "outlinewidth": 0,
             "ticks": ""
            },
            "colorscale": [
             [
              0,
              "#0d0887"
             ],
             [
              0.1111111111111111,
              "#46039f"
             ],
             [
              0.2222222222222222,
              "#7201a8"
             ],
             [
              0.3333333333333333,
              "#9c179e"
             ],
             [
              0.4444444444444444,
              "#bd3786"
             ],
             [
              0.5555555555555556,
              "#d8576b"
             ],
             [
              0.6666666666666666,
              "#ed7953"
             ],
             [
              0.7777777777777778,
              "#fb9f3a"
             ],
             [
              0.8888888888888888,
              "#fdca26"
             ],
             [
              1,
              "#f0f921"
             ]
            ],
            "type": "heatmapgl"
           }
          ],
          "histogram": [
           {
            "marker": {
             "pattern": {
              "fillmode": "overlay",
              "size": 10,
              "solidity": 0.2
             }
            },
            "type": "histogram"
           }
          ],
          "histogram2d": [
           {
            "colorbar": {
             "outlinewidth": 0,
             "ticks": ""
            },
            "colorscale": [
             [
              0,
              "#0d0887"
             ],
             [
              0.1111111111111111,
              "#46039f"
             ],
             [
              0.2222222222222222,
              "#7201a8"
             ],
             [
              0.3333333333333333,
              "#9c179e"
             ],
             [
              0.4444444444444444,
              "#bd3786"
             ],
             [
              0.5555555555555556,
              "#d8576b"
             ],
             [
              0.6666666666666666,
              "#ed7953"
             ],
             [
              0.7777777777777778,
              "#fb9f3a"
             ],
             [
              0.8888888888888888,
              "#fdca26"
             ],
             [
              1,
              "#f0f921"
             ]
            ],
            "type": "histogram2d"
           }
          ],
          "histogram2dcontour": [
           {
            "colorbar": {
             "outlinewidth": 0,
             "ticks": ""
            },
            "colorscale": [
             [
              0,
              "#0d0887"
             ],
             [
              0.1111111111111111,
              "#46039f"
             ],
             [
              0.2222222222222222,
              "#7201a8"
             ],
             [
              0.3333333333333333,
              "#9c179e"
             ],
             [
              0.4444444444444444,
              "#bd3786"
             ],
             [
              0.5555555555555556,
              "#d8576b"
             ],
             [
              0.6666666666666666,
              "#ed7953"
             ],
             [
              0.7777777777777778,
              "#fb9f3a"
             ],
             [
              0.8888888888888888,
              "#fdca26"
             ],
             [
              1,
              "#f0f921"
             ]
            ],
            "type": "histogram2dcontour"
           }
          ],
          "mesh3d": [
           {
            "colorbar": {
             "outlinewidth": 0,
             "ticks": ""
            },
            "type": "mesh3d"
           }
          ],
          "parcoords": [
           {
            "line": {
             "colorbar": {
              "outlinewidth": 0,
              "ticks": ""
             }
            },
            "type": "parcoords"
           }
          ],
          "pie": [
           {
            "automargin": true,
            "type": "pie"
           }
          ],
          "scatter": [
           {
            "fillpattern": {
             "fillmode": "overlay",
             "size": 10,
             "solidity": 0.2
            },
            "type": "scatter"
           }
          ],
          "scatter3d": [
           {
            "line": {
             "colorbar": {
              "outlinewidth": 0,
              "ticks": ""
             }
            },
            "marker": {
             "colorbar": {
              "outlinewidth": 0,
              "ticks": ""
             }
            },
            "type": "scatter3d"
           }
          ],
          "scattercarpet": [
           {
            "marker": {
             "colorbar": {
              "outlinewidth": 0,
              "ticks": ""
             }
            },
            "type": "scattercarpet"
           }
          ],
          "scattergeo": [
           {
            "marker": {
             "colorbar": {
              "outlinewidth": 0,
              "ticks": ""
             }
            },
            "type": "scattergeo"
           }
          ],
          "scattergl": [
           {
            "marker": {
             "colorbar": {
              "outlinewidth": 0,
              "ticks": ""
             }
            },
            "type": "scattergl"
           }
          ],
          "scattermapbox": [
           {
            "marker": {
             "colorbar": {
              "outlinewidth": 0,
              "ticks": ""
             }
            },
            "type": "scattermapbox"
           }
          ],
          "scatterpolar": [
           {
            "marker": {
             "colorbar": {
              "outlinewidth": 0,
              "ticks": ""
             }
            },
            "type": "scatterpolar"
           }
          ],
          "scatterpolargl": [
           {
            "marker": {
             "colorbar": {
              "outlinewidth": 0,
              "ticks": ""
             }
            },
            "type": "scatterpolargl"
           }
          ],
          "scatterternary": [
           {
            "marker": {
             "colorbar": {
              "outlinewidth": 0,
              "ticks": ""
             }
            },
            "type": "scatterternary"
           }
          ],
          "surface": [
           {
            "colorbar": {
             "outlinewidth": 0,
             "ticks": ""
            },
            "colorscale": [
             [
              0,
              "#0d0887"
             ],
             [
              0.1111111111111111,
              "#46039f"
             ],
             [
              0.2222222222222222,
              "#7201a8"
             ],
             [
              0.3333333333333333,
              "#9c179e"
             ],
             [
              0.4444444444444444,
              "#bd3786"
             ],
             [
              0.5555555555555556,
              "#d8576b"
             ],
             [
              0.6666666666666666,
              "#ed7953"
             ],
             [
              0.7777777777777778,
              "#fb9f3a"
             ],
             [
              0.8888888888888888,
              "#fdca26"
             ],
             [
              1,
              "#f0f921"
             ]
            ],
            "type": "surface"
           }
          ],
          "table": [
           {
            "cells": {
             "fill": {
              "color": "#EBF0F8"
             },
             "line": {
              "color": "white"
             }
            },
            "header": {
             "fill": {
              "color": "#C8D4E3"
             },
             "line": {
              "color": "white"
             }
            },
            "type": "table"
           }
          ]
         },
         "layout": {
          "annotationdefaults": {
           "arrowcolor": "#2a3f5f",
           "arrowhead": 0,
           "arrowwidth": 1
          },
          "autotypenumbers": "strict",
          "coloraxis": {
           "colorbar": {
            "outlinewidth": 0,
            "ticks": ""
           }
          },
          "colorscale": {
           "diverging": [
            [
             0,
             "#8e0152"
            ],
            [
             0.1,
             "#c51b7d"
            ],
            [
             0.2,
             "#de77ae"
            ],
            [
             0.3,
             "#f1b6da"
            ],
            [
             0.4,
             "#fde0ef"
            ],
            [
             0.5,
             "#f7f7f7"
            ],
            [
             0.6,
             "#e6f5d0"
            ],
            [
             0.7,
             "#b8e186"
            ],
            [
             0.8,
             "#7fbc41"
            ],
            [
             0.9,
             "#4d9221"
            ],
            [
             1,
             "#276419"
            ]
           ],
           "sequential": [
            [
             0,
             "#0d0887"
            ],
            [
             0.1111111111111111,
             "#46039f"
            ],
            [
             0.2222222222222222,
             "#7201a8"
            ],
            [
             0.3333333333333333,
             "#9c179e"
            ],
            [
             0.4444444444444444,
             "#bd3786"
            ],
            [
             0.5555555555555556,
             "#d8576b"
            ],
            [
             0.6666666666666666,
             "#ed7953"
            ],
            [
             0.7777777777777778,
             "#fb9f3a"
            ],
            [
             0.8888888888888888,
             "#fdca26"
            ],
            [
             1,
             "#f0f921"
            ]
           ],
           "sequentialminus": [
            [
             0,
             "#0d0887"
            ],
            [
             0.1111111111111111,
             "#46039f"
            ],
            [
             0.2222222222222222,
             "#7201a8"
            ],
            [
             0.3333333333333333,
             "#9c179e"
            ],
            [
             0.4444444444444444,
             "#bd3786"
            ],
            [
             0.5555555555555556,
             "#d8576b"
            ],
            [
             0.6666666666666666,
             "#ed7953"
            ],
            [
             0.7777777777777778,
             "#fb9f3a"
            ],
            [
             0.8888888888888888,
             "#fdca26"
            ],
            [
             1,
             "#f0f921"
            ]
           ]
          },
          "colorway": [
           "#636efa",
           "#EF553B",
           "#00cc96",
           "#ab63fa",
           "#FFA15A",
           "#19d3f3",
           "#FF6692",
           "#B6E880",
           "#FF97FF",
           "#FECB52"
          ],
          "font": {
           "color": "#2a3f5f"
          },
          "geo": {
           "bgcolor": "white",
           "lakecolor": "white",
           "landcolor": "#E5ECF6",
           "showlakes": true,
           "showland": true,
           "subunitcolor": "white"
          },
          "hoverlabel": {
           "align": "left"
          },
          "hovermode": "closest",
          "mapbox": {
           "style": "light"
          },
          "paper_bgcolor": "white",
          "plot_bgcolor": "#E5ECF6",
          "polar": {
           "angularaxis": {
            "gridcolor": "white",
            "linecolor": "white",
            "ticks": ""
           },
           "bgcolor": "#E5ECF6",
           "radialaxis": {
            "gridcolor": "white",
            "linecolor": "white",
            "ticks": ""
           }
          },
          "scene": {
           "xaxis": {
            "backgroundcolor": "#E5ECF6",
            "gridcolor": "white",
            "gridwidth": 2,
            "linecolor": "white",
            "showbackground": true,
            "ticks": "",
            "zerolinecolor": "white"
           },
           "yaxis": {
            "backgroundcolor": "#E5ECF6",
            "gridcolor": "white",
            "gridwidth": 2,
            "linecolor": "white",
            "showbackground": true,
            "ticks": "",
            "zerolinecolor": "white"
           },
           "zaxis": {
            "backgroundcolor": "#E5ECF6",
            "gridcolor": "white",
            "gridwidth": 2,
            "linecolor": "white",
            "showbackground": true,
            "ticks": "",
            "zerolinecolor": "white"
           }
          },
          "shapedefaults": {
           "line": {
            "color": "#2a3f5f"
           }
          },
          "ternary": {
           "aaxis": {
            "gridcolor": "white",
            "linecolor": "white",
            "ticks": ""
           },
           "baxis": {
            "gridcolor": "white",
            "linecolor": "white",
            "ticks": ""
           },
           "bgcolor": "#E5ECF6",
           "caxis": {
            "gridcolor": "white",
            "linecolor": "white",
            "ticks": ""
           }
          },
          "title": {
           "x": 0.05
          },
          "xaxis": {
           "automargin": true,
           "gridcolor": "white",
           "linecolor": "white",
           "ticks": "",
           "title": {
            "standoff": 15
           },
           "zerolinecolor": "white",
           "zerolinewidth": 2
          },
          "yaxis": {
           "automargin": true,
           "gridcolor": "white",
           "linecolor": "white",
           "ticks": "",
           "title": {
            "standoff": 15
           },
           "zerolinecolor": "white",
           "zerolinewidth": 2
          }
         }
        }
       }
      }
     },
     "metadata": {},
     "output_type": "display_data"
    }
   ],
   "source": [
    "# Showing spider plot\n",
    "fig = go.Figure()\n",
    "\n",
    "fig.add_trace(go.Scatterpolar(\n",
    "    r = care_home_charges_scot.iloc[0].tolist(),\n",
    "    theta = care_home_charges_scot.columns.values.tolist(),\n",
    "    fill = \"toself\",\n",
    "    name = str(care_home_charges_scot.index[0]).replace(\"0331\",\"\")\n",
    "))\n",
    "\n",
    "fig.show()\n"
   ]
  },
  {
   "cell_type": "code",
   "execution_count": 23,
   "id": "680492a4",
   "metadata": {},
   "outputs": [
    {
     "data": {
      "text/plain": [
       "[0.0, 0.0, 0.0, 0.0, 20332.0, 19861.0]"
      ]
     },
     "execution_count": 23,
     "metadata": {},
     "output_type": "execute_result"
    }
   ],
   "source": [
    "care_home_charges_scot.iloc[0].tolist()"
   ]
  },
  {
   "cell_type": "code",
   "execution_count": 24,
   "id": "9e64217d",
   "metadata": {},
   "outputs": [
    {
     "data": {
      "text/plain": [
       "['All Funded With Nursing Care (GBP)',\n",
       " 'All Funded Without Nursing Care (GBP)',\n",
       " 'Publicly Funded With Nursing Care (GBP)',\n",
       " 'Publicly Funded Without Nursing Care (GBP)',\n",
       " 'Self Funded With Nursing Care (GBP)',\n",
       " 'Self Funded Without Nursing Care (GBP)']"
      ]
     },
     "execution_count": 24,
     "metadata": {},
     "output_type": "execute_result"
    }
   ],
   "source": [
    "care_home_charges_scot.columns.values.tolist()"
   ]
  },
  {
   "cell_type": "code",
   "execution_count": 25,
   "id": "53c4f869",
   "metadata": {},
   "outputs": [
    {
     "data": {
      "text/plain": [
       "20100331"
      ]
     },
     "execution_count": 25,
     "metadata": {},
     "output_type": "execute_result"
    }
   ],
   "source": [
    "care_home_charges_scot.index[0]"
   ]
  },
  {
   "cell_type": "code",
   "execution_count": 26,
   "id": "0a737668",
   "metadata": {},
   "outputs": [
    {
     "data": {
      "application/vnd.plotly.v1+json": {
       "config": {
        "plotlyServerURL": "https://plot.ly"
       },
       "data": [
        {
         "fill": "toself",
         "name": "2010",
         "r": [
          0,
          0,
          0,
          0,
          20332,
          19861
         ],
         "theta": [
          "All Funded With Nursing Care (GBP)",
          "All Funded Without Nursing Care (GBP)",
          "Publicly Funded With Nursing Care (GBP)",
          "Publicly Funded Without Nursing Care (GBP)",
          "Self Funded With Nursing Care (GBP)",
          "Self Funded Without Nursing Care (GBP)"
         ],
         "type": "scatterpolar"
        },
        {
         "fill": "toself",
         "name": "2011",
         "r": [
          623,
          572,
          561,
          531,
          21286,
          20578
         ],
         "theta": [
          "All Funded With Nursing Care (GBP)",
          "All Funded Without Nursing Care (GBP)",
          "Publicly Funded With Nursing Care (GBP)",
          "Publicly Funded Without Nursing Care (GBP)",
          "Self Funded With Nursing Care (GBP)",
          "Self Funded Without Nursing Care (GBP)"
         ],
         "type": "scatterpolar"
        }
       ],
       "layout": {
        "template": {
         "data": {
          "bar": [
           {
            "error_x": {
             "color": "#2a3f5f"
            },
            "error_y": {
             "color": "#2a3f5f"
            },
            "marker": {
             "line": {
              "color": "#E5ECF6",
              "width": 0.5
             },
             "pattern": {
              "fillmode": "overlay",
              "size": 10,
              "solidity": 0.2
             }
            },
            "type": "bar"
           }
          ],
          "barpolar": [
           {
            "marker": {
             "line": {
              "color": "#E5ECF6",
              "width": 0.5
             },
             "pattern": {
              "fillmode": "overlay",
              "size": 10,
              "solidity": 0.2
             }
            },
            "type": "barpolar"
           }
          ],
          "carpet": [
           {
            "aaxis": {
             "endlinecolor": "#2a3f5f",
             "gridcolor": "white",
             "linecolor": "white",
             "minorgridcolor": "white",
             "startlinecolor": "#2a3f5f"
            },
            "baxis": {
             "endlinecolor": "#2a3f5f",
             "gridcolor": "white",
             "linecolor": "white",
             "minorgridcolor": "white",
             "startlinecolor": "#2a3f5f"
            },
            "type": "carpet"
           }
          ],
          "choropleth": [
           {
            "colorbar": {
             "outlinewidth": 0,
             "ticks": ""
            },
            "type": "choropleth"
           }
          ],
          "contour": [
           {
            "colorbar": {
             "outlinewidth": 0,
             "ticks": ""
            },
            "colorscale": [
             [
              0,
              "#0d0887"
             ],
             [
              0.1111111111111111,
              "#46039f"
             ],
             [
              0.2222222222222222,
              "#7201a8"
             ],
             [
              0.3333333333333333,
              "#9c179e"
             ],
             [
              0.4444444444444444,
              "#bd3786"
             ],
             [
              0.5555555555555556,
              "#d8576b"
             ],
             [
              0.6666666666666666,
              "#ed7953"
             ],
             [
              0.7777777777777778,
              "#fb9f3a"
             ],
             [
              0.8888888888888888,
              "#fdca26"
             ],
             [
              1,
              "#f0f921"
             ]
            ],
            "type": "contour"
           }
          ],
          "contourcarpet": [
           {
            "colorbar": {
             "outlinewidth": 0,
             "ticks": ""
            },
            "type": "contourcarpet"
           }
          ],
          "heatmap": [
           {
            "colorbar": {
             "outlinewidth": 0,
             "ticks": ""
            },
            "colorscale": [
             [
              0,
              "#0d0887"
             ],
             [
              0.1111111111111111,
              "#46039f"
             ],
             [
              0.2222222222222222,
              "#7201a8"
             ],
             [
              0.3333333333333333,
              "#9c179e"
             ],
             [
              0.4444444444444444,
              "#bd3786"
             ],
             [
              0.5555555555555556,
              "#d8576b"
             ],
             [
              0.6666666666666666,
              "#ed7953"
             ],
             [
              0.7777777777777778,
              "#fb9f3a"
             ],
             [
              0.8888888888888888,
              "#fdca26"
             ],
             [
              1,
              "#f0f921"
             ]
            ],
            "type": "heatmap"
           }
          ],
          "heatmapgl": [
           {
            "colorbar": {
             "outlinewidth": 0,
             "ticks": ""
            },
            "colorscale": [
             [
              0,
              "#0d0887"
             ],
             [
              0.1111111111111111,
              "#46039f"
             ],
             [
              0.2222222222222222,
              "#7201a8"
             ],
             [
              0.3333333333333333,
              "#9c179e"
             ],
             [
              0.4444444444444444,
              "#bd3786"
             ],
             [
              0.5555555555555556,
              "#d8576b"
             ],
             [
              0.6666666666666666,
              "#ed7953"
             ],
             [
              0.7777777777777778,
              "#fb9f3a"
             ],
             [
              0.8888888888888888,
              "#fdca26"
             ],
             [
              1,
              "#f0f921"
             ]
            ],
            "type": "heatmapgl"
           }
          ],
          "histogram": [
           {
            "marker": {
             "pattern": {
              "fillmode": "overlay",
              "size": 10,
              "solidity": 0.2
             }
            },
            "type": "histogram"
           }
          ],
          "histogram2d": [
           {
            "colorbar": {
             "outlinewidth": 0,
             "ticks": ""
            },
            "colorscale": [
             [
              0,
              "#0d0887"
             ],
             [
              0.1111111111111111,
              "#46039f"
             ],
             [
              0.2222222222222222,
              "#7201a8"
             ],
             [
              0.3333333333333333,
              "#9c179e"
             ],
             [
              0.4444444444444444,
              "#bd3786"
             ],
             [
              0.5555555555555556,
              "#d8576b"
             ],
             [
              0.6666666666666666,
              "#ed7953"
             ],
             [
              0.7777777777777778,
              "#fb9f3a"
             ],
             [
              0.8888888888888888,
              "#fdca26"
             ],
             [
              1,
              "#f0f921"
             ]
            ],
            "type": "histogram2d"
           }
          ],
          "histogram2dcontour": [
           {
            "colorbar": {
             "outlinewidth": 0,
             "ticks": ""
            },
            "colorscale": [
             [
              0,
              "#0d0887"
             ],
             [
              0.1111111111111111,
              "#46039f"
             ],
             [
              0.2222222222222222,
              "#7201a8"
             ],
             [
              0.3333333333333333,
              "#9c179e"
             ],
             [
              0.4444444444444444,
              "#bd3786"
             ],
             [
              0.5555555555555556,
              "#d8576b"
             ],
             [
              0.6666666666666666,
              "#ed7953"
             ],
             [
              0.7777777777777778,
              "#fb9f3a"
             ],
             [
              0.8888888888888888,
              "#fdca26"
             ],
             [
              1,
              "#f0f921"
             ]
            ],
            "type": "histogram2dcontour"
           }
          ],
          "mesh3d": [
           {
            "colorbar": {
             "outlinewidth": 0,
             "ticks": ""
            },
            "type": "mesh3d"
           }
          ],
          "parcoords": [
           {
            "line": {
             "colorbar": {
              "outlinewidth": 0,
              "ticks": ""
             }
            },
            "type": "parcoords"
           }
          ],
          "pie": [
           {
            "automargin": true,
            "type": "pie"
           }
          ],
          "scatter": [
           {
            "fillpattern": {
             "fillmode": "overlay",
             "size": 10,
             "solidity": 0.2
            },
            "type": "scatter"
           }
          ],
          "scatter3d": [
           {
            "line": {
             "colorbar": {
              "outlinewidth": 0,
              "ticks": ""
             }
            },
            "marker": {
             "colorbar": {
              "outlinewidth": 0,
              "ticks": ""
             }
            },
            "type": "scatter3d"
           }
          ],
          "scattercarpet": [
           {
            "marker": {
             "colorbar": {
              "outlinewidth": 0,
              "ticks": ""
             }
            },
            "type": "scattercarpet"
           }
          ],
          "scattergeo": [
           {
            "marker": {
             "colorbar": {
              "outlinewidth": 0,
              "ticks": ""
             }
            },
            "type": "scattergeo"
           }
          ],
          "scattergl": [
           {
            "marker": {
             "colorbar": {
              "outlinewidth": 0,
              "ticks": ""
             }
            },
            "type": "scattergl"
           }
          ],
          "scattermapbox": [
           {
            "marker": {
             "colorbar": {
              "outlinewidth": 0,
              "ticks": ""
             }
            },
            "type": "scattermapbox"
           }
          ],
          "scatterpolar": [
           {
            "marker": {
             "colorbar": {
              "outlinewidth": 0,
              "ticks": ""
             }
            },
            "type": "scatterpolar"
           }
          ],
          "scatterpolargl": [
           {
            "marker": {
             "colorbar": {
              "outlinewidth": 0,
              "ticks": ""
             }
            },
            "type": "scatterpolargl"
           }
          ],
          "scatterternary": [
           {
            "marker": {
             "colorbar": {
              "outlinewidth": 0,
              "ticks": ""
             }
            },
            "type": "scatterternary"
           }
          ],
          "surface": [
           {
            "colorbar": {
             "outlinewidth": 0,
             "ticks": ""
            },
            "colorscale": [
             [
              0,
              "#0d0887"
             ],
             [
              0.1111111111111111,
              "#46039f"
             ],
             [
              0.2222222222222222,
              "#7201a8"
             ],
             [
              0.3333333333333333,
              "#9c179e"
             ],
             [
              0.4444444444444444,
              "#bd3786"
             ],
             [
              0.5555555555555556,
              "#d8576b"
             ],
             [
              0.6666666666666666,
              "#ed7953"
             ],
             [
              0.7777777777777778,
              "#fb9f3a"
             ],
             [
              0.8888888888888888,
              "#fdca26"
             ],
             [
              1,
              "#f0f921"
             ]
            ],
            "type": "surface"
           }
          ],
          "table": [
           {
            "cells": {
             "fill": {
              "color": "#EBF0F8"
             },
             "line": {
              "color": "white"
             }
            },
            "header": {
             "fill": {
              "color": "#C8D4E3"
             },
             "line": {
              "color": "white"
             }
            },
            "type": "table"
           }
          ]
         },
         "layout": {
          "annotationdefaults": {
           "arrowcolor": "#2a3f5f",
           "arrowhead": 0,
           "arrowwidth": 1
          },
          "autotypenumbers": "strict",
          "coloraxis": {
           "colorbar": {
            "outlinewidth": 0,
            "ticks": ""
           }
          },
          "colorscale": {
           "diverging": [
            [
             0,
             "#8e0152"
            ],
            [
             0.1,
             "#c51b7d"
            ],
            [
             0.2,
             "#de77ae"
            ],
            [
             0.3,
             "#f1b6da"
            ],
            [
             0.4,
             "#fde0ef"
            ],
            [
             0.5,
             "#f7f7f7"
            ],
            [
             0.6,
             "#e6f5d0"
            ],
            [
             0.7,
             "#b8e186"
            ],
            [
             0.8,
             "#7fbc41"
            ],
            [
             0.9,
             "#4d9221"
            ],
            [
             1,
             "#276419"
            ]
           ],
           "sequential": [
            [
             0,
             "#0d0887"
            ],
            [
             0.1111111111111111,
             "#46039f"
            ],
            [
             0.2222222222222222,
             "#7201a8"
            ],
            [
             0.3333333333333333,
             "#9c179e"
            ],
            [
             0.4444444444444444,
             "#bd3786"
            ],
            [
             0.5555555555555556,
             "#d8576b"
            ],
            [
             0.6666666666666666,
             "#ed7953"
            ],
            [
             0.7777777777777778,
             "#fb9f3a"
            ],
            [
             0.8888888888888888,
             "#fdca26"
            ],
            [
             1,
             "#f0f921"
            ]
           ],
           "sequentialminus": [
            [
             0,
             "#0d0887"
            ],
            [
             0.1111111111111111,
             "#46039f"
            ],
            [
             0.2222222222222222,
             "#7201a8"
            ],
            [
             0.3333333333333333,
             "#9c179e"
            ],
            [
             0.4444444444444444,
             "#bd3786"
            ],
            [
             0.5555555555555556,
             "#d8576b"
            ],
            [
             0.6666666666666666,
             "#ed7953"
            ],
            [
             0.7777777777777778,
             "#fb9f3a"
            ],
            [
             0.8888888888888888,
             "#fdca26"
            ],
            [
             1,
             "#f0f921"
            ]
           ]
          },
          "colorway": [
           "#636efa",
           "#EF553B",
           "#00cc96",
           "#ab63fa",
           "#FFA15A",
           "#19d3f3",
           "#FF6692",
           "#B6E880",
           "#FF97FF",
           "#FECB52"
          ],
          "font": {
           "color": "#2a3f5f"
          },
          "geo": {
           "bgcolor": "white",
           "lakecolor": "white",
           "landcolor": "#E5ECF6",
           "showlakes": true,
           "showland": true,
           "subunitcolor": "white"
          },
          "hoverlabel": {
           "align": "left"
          },
          "hovermode": "closest",
          "mapbox": {
           "style": "light"
          },
          "paper_bgcolor": "white",
          "plot_bgcolor": "#E5ECF6",
          "polar": {
           "angularaxis": {
            "gridcolor": "white",
            "linecolor": "white",
            "ticks": ""
           },
           "bgcolor": "#E5ECF6",
           "radialaxis": {
            "gridcolor": "white",
            "linecolor": "white",
            "ticks": ""
           }
          },
          "scene": {
           "xaxis": {
            "backgroundcolor": "#E5ECF6",
            "gridcolor": "white",
            "gridwidth": 2,
            "linecolor": "white",
            "showbackground": true,
            "ticks": "",
            "zerolinecolor": "white"
           },
           "yaxis": {
            "backgroundcolor": "#E5ECF6",
            "gridcolor": "white",
            "gridwidth": 2,
            "linecolor": "white",
            "showbackground": true,
            "ticks": "",
            "zerolinecolor": "white"
           },
           "zaxis": {
            "backgroundcolor": "#E5ECF6",
            "gridcolor": "white",
            "gridwidth": 2,
            "linecolor": "white",
            "showbackground": true,
            "ticks": "",
            "zerolinecolor": "white"
           }
          },
          "shapedefaults": {
           "line": {
            "color": "#2a3f5f"
           }
          },
          "ternary": {
           "aaxis": {
            "gridcolor": "white",
            "linecolor": "white",
            "ticks": ""
           },
           "baxis": {
            "gridcolor": "white",
            "linecolor": "white",
            "ticks": ""
           },
           "bgcolor": "#E5ECF6",
           "caxis": {
            "gridcolor": "white",
            "linecolor": "white",
            "ticks": ""
           }
          },
          "title": {
           "x": 0.05
          },
          "xaxis": {
           "automargin": true,
           "gridcolor": "white",
           "linecolor": "white",
           "ticks": "",
           "title": {
            "standoff": 15
           },
           "zerolinecolor": "white",
           "zerolinewidth": 2
          },
          "yaxis": {
           "automargin": true,
           "gridcolor": "white",
           "linecolor": "white",
           "ticks": "",
           "title": {
            "standoff": 15
           },
           "zerolinecolor": "white",
           "zerolinewidth": 2
          }
         }
        }
       }
      }
     },
     "metadata": {},
     "output_type": "display_data"
    }
   ],
   "source": [
    "# Showing spider plot with 2 years\n",
    "fig = go.Figure()\n",
    "\n",
    "fig.add_trace(go.Scatterpolar(\n",
    "    r = care_home_charges_scot.iloc[0].tolist(),\n",
    "    theta = care_home_charges_scot.columns.values.tolist(),\n",
    "    fill = \"toself\",\n",
    "    name = str(care_home_charges_scot.index[0]).replace(\"0331\",\"\")\n",
    "))\n",
    "\n",
    "fig.add_trace(go.Scatterpolar(\n",
    "    r = care_home_charges_scot.iloc[1].tolist(),\n",
    "    theta = care_home_charges_scot.columns.values.tolist(),\n",
    "    fill = \"toself\",\n",
    "    name = str(care_home_charges_scot.index[1]).replace(\"0331\",\"\")\n",
    "))\n",
    "\n",
    "fig.show()"
   ]
  },
  {
   "cell_type": "code",
   "execution_count": 27,
   "id": "0eb5b397",
   "metadata": {},
   "outputs": [
    {
     "data": {
      "application/vnd.plotly.v1+json": {
       "config": {
        "plotlyServerURL": "https://plot.ly"
       },
       "data": [
        {
         "fill": "toself",
         "name": "2010",
         "r": [
          0,
          0,
          0,
          0,
          20332,
          19861
         ],
         "theta": [
          "All Funded With Nursing Care (GBP)",
          "All Funded Without Nursing Care (GBP)",
          "Publicly Funded With Nursing Care (GBP)",
          "Publicly Funded Without Nursing Care (GBP)",
          "Self Funded With Nursing Care (GBP)",
          "Self Funded Without Nursing Care (GBP)"
         ],
         "type": "scatterpolar"
        },
        {
         "fill": "toself",
         "name": "2011",
         "r": [
          623,
          572,
          561,
          531,
          21286,
          20578
         ],
         "theta": [
          "All Funded With Nursing Care (GBP)",
          "All Funded Without Nursing Care (GBP)",
          "Publicly Funded With Nursing Care (GBP)",
          "Publicly Funded Without Nursing Care (GBP)",
          "Self Funded With Nursing Care (GBP)",
          "Self Funded Without Nursing Care (GBP)"
         ],
         "type": "scatterpolar"
        },
        {
         "fill": "toself",
         "name": "2012",
         "r": [
          637,
          592,
          574,
          542,
          22747,
          21663
         ],
         "theta": [
          "All Funded With Nursing Care (GBP)",
          "All Funded Without Nursing Care (GBP)",
          "Publicly Funded With Nursing Care (GBP)",
          "Publicly Funded Without Nursing Care (GBP)",
          "Self Funded With Nursing Care (GBP)",
          "Self Funded Without Nursing Care (GBP)"
         ],
         "type": "scatterpolar"
        },
        {
         "fill": "toself",
         "name": "2013",
         "r": [
          659,
          615,
          591,
          556,
          23653,
          22471
         ],
         "theta": [
          "All Funded With Nursing Care (GBP)",
          "All Funded Without Nursing Care (GBP)",
          "Publicly Funded With Nursing Care (GBP)",
          "Publicly Funded Without Nursing Care (GBP)",
          "Self Funded With Nursing Care (GBP)",
          "Self Funded Without Nursing Care (GBP)"
         ],
         "type": "scatterpolar"
        },
        {
         "fill": "toself",
         "name": "2014",
         "r": [
          681,
          633,
          607,
          574,
          24336,
          23378
         ],
         "theta": [
          "All Funded With Nursing Care (GBP)",
          "All Funded Without Nursing Care (GBP)",
          "Publicly Funded With Nursing Care (GBP)",
          "Publicly Funded Without Nursing Care (GBP)",
          "Self Funded With Nursing Care (GBP)",
          "Self Funded Without Nursing Care (GBP)"
         ],
         "type": "scatterpolar"
        },
        {
         "fill": "toself",
         "name": "2015",
         "r": [
          698,
          652,
          616,
          583,
          25184,
          24098
         ],
         "theta": [
          "All Funded With Nursing Care (GBP)",
          "All Funded Without Nursing Care (GBP)",
          "Publicly Funded With Nursing Care (GBP)",
          "Publicly Funded Without Nursing Care (GBP)",
          "Self Funded With Nursing Care (GBP)",
          "Self Funded Without Nursing Care (GBP)"
         ],
         "type": "scatterpolar"
        },
        {
         "fill": "toself",
         "name": "2016",
         "r": [
          733,
          683,
          642,
          605,
          26745,
          25445
         ],
         "theta": [
          "All Funded With Nursing Care (GBP)",
          "All Funded Without Nursing Care (GBP)",
          "Publicly Funded With Nursing Care (GBP)",
          "Publicly Funded Without Nursing Care (GBP)",
          "Self Funded With Nursing Care (GBP)",
          "Self Funded Without Nursing Care (GBP)"
         ],
         "type": "scatterpolar"
        },
        {
         "fill": "toself",
         "name": "2017",
         "r": [
          776,
          717,
          682,
          635,
          28244,
          26708
         ],
         "theta": [
          "All Funded With Nursing Care (GBP)",
          "All Funded Without Nursing Care (GBP)",
          "Publicly Funded With Nursing Care (GBP)",
          "Publicly Funded Without Nursing Care (GBP)",
          "Self Funded With Nursing Care (GBP)",
          "Self Funded Without Nursing Care (GBP)"
         ],
         "type": "scatterpolar"
        },
        {
         "fill": "toself",
         "name": "2018",
         "r": [
          820,
          755,
          709,
          666,
          29929,
          28026
         ],
         "theta": [
          "All Funded With Nursing Care (GBP)",
          "All Funded Without Nursing Care (GBP)",
          "Publicly Funded With Nursing Care (GBP)",
          "Publicly Funded Without Nursing Care (GBP)",
          "Self Funded With Nursing Care (GBP)",
          "Self Funded Without Nursing Care (GBP)"
         ],
         "type": "scatterpolar"
        },
        {
         "fill": "toself",
         "name": "2019",
         "r": [
          873,
          799,
          746,
          690,
          31651,
          29549
         ],
         "theta": [
          "All Funded With Nursing Care (GBP)",
          "All Funded Without Nursing Care (GBP)",
          "Publicly Funded With Nursing Care (GBP)",
          "Publicly Funded Without Nursing Care (GBP)",
          "Self Funded With Nursing Care (GBP)",
          "Self Funded Without Nursing Care (GBP)"
         ],
         "type": "scatterpolar"
        },
        {
         "fill": "toself",
         "name": "2020",
         "r": [
          0,
          0,
          0,
          0,
          0,
          0
         ],
         "theta": [
          "All Funded With Nursing Care (GBP)",
          "All Funded Without Nursing Care (GBP)",
          "Publicly Funded With Nursing Care (GBP)",
          "Publicly Funded Without Nursing Care (GBP)",
          "Self Funded With Nursing Care (GBP)",
          "Self Funded Without Nursing Care (GBP)"
         ],
         "type": "scatterpolar"
        },
        {
         "fill": "toself",
         "name": "2021",
         "r": [
          954,
          874,
          795,
          740,
          35496,
          32708
         ],
         "theta": [
          "All Funded With Nursing Care (GBP)",
          "All Funded Without Nursing Care (GBP)",
          "Publicly Funded With Nursing Care (GBP)",
          "Publicly Funded Without Nursing Care (GBP)",
          "Self Funded With Nursing Care (GBP)",
          "Self Funded Without Nursing Care (GBP)"
         ],
         "type": "scatterpolar"
        },
        {
         "fill": "toself",
         "name": "2022",
         "r": [
          1032,
          941,
          856,
          792,
          38039,
          35275
         ],
         "theta": [
          "All Funded With Nursing Care (GBP)",
          "All Funded Without Nursing Care (GBP)",
          "Publicly Funded With Nursing Care (GBP)",
          "Publicly Funded Without Nursing Care (GBP)",
          "Self Funded With Nursing Care (GBP)",
          "Self Funded Without Nursing Care (GBP)"
         ],
         "type": "scatterpolar"
        },
        {
         "fill": "toself",
         "name": "2023",
         "r": [
          1122,
          1036,
          910,
          848,
          42509,
          39759
         ],
         "theta": [
          "All Funded With Nursing Care (GBP)",
          "All Funded Without Nursing Care (GBP)",
          "Publicly Funded With Nursing Care (GBP)",
          "Publicly Funded Without Nursing Care (GBP)",
          "Self Funded With Nursing Care (GBP)",
          "Self Funded Without Nursing Care (GBP)"
         ],
         "type": "scatterpolar"
        }
       ],
       "layout": {
        "template": {
         "data": {
          "bar": [
           {
            "error_x": {
             "color": "#2a3f5f"
            },
            "error_y": {
             "color": "#2a3f5f"
            },
            "marker": {
             "line": {
              "color": "#E5ECF6",
              "width": 0.5
             },
             "pattern": {
              "fillmode": "overlay",
              "size": 10,
              "solidity": 0.2
             }
            },
            "type": "bar"
           }
          ],
          "barpolar": [
           {
            "marker": {
             "line": {
              "color": "#E5ECF6",
              "width": 0.5
             },
             "pattern": {
              "fillmode": "overlay",
              "size": 10,
              "solidity": 0.2
             }
            },
            "type": "barpolar"
           }
          ],
          "carpet": [
           {
            "aaxis": {
             "endlinecolor": "#2a3f5f",
             "gridcolor": "white",
             "linecolor": "white",
             "minorgridcolor": "white",
             "startlinecolor": "#2a3f5f"
            },
            "baxis": {
             "endlinecolor": "#2a3f5f",
             "gridcolor": "white",
             "linecolor": "white",
             "minorgridcolor": "white",
             "startlinecolor": "#2a3f5f"
            },
            "type": "carpet"
           }
          ],
          "choropleth": [
           {
            "colorbar": {
             "outlinewidth": 0,
             "ticks": ""
            },
            "type": "choropleth"
           }
          ],
          "contour": [
           {
            "colorbar": {
             "outlinewidth": 0,
             "ticks": ""
            },
            "colorscale": [
             [
              0,
              "#0d0887"
             ],
             [
              0.1111111111111111,
              "#46039f"
             ],
             [
              0.2222222222222222,
              "#7201a8"
             ],
             [
              0.3333333333333333,
              "#9c179e"
             ],
             [
              0.4444444444444444,
              "#bd3786"
             ],
             [
              0.5555555555555556,
              "#d8576b"
             ],
             [
              0.6666666666666666,
              "#ed7953"
             ],
             [
              0.7777777777777778,
              "#fb9f3a"
             ],
             [
              0.8888888888888888,
              "#fdca26"
             ],
             [
              1,
              "#f0f921"
             ]
            ],
            "type": "contour"
           }
          ],
          "contourcarpet": [
           {
            "colorbar": {
             "outlinewidth": 0,
             "ticks": ""
            },
            "type": "contourcarpet"
           }
          ],
          "heatmap": [
           {
            "colorbar": {
             "outlinewidth": 0,
             "ticks": ""
            },
            "colorscale": [
             [
              0,
              "#0d0887"
             ],
             [
              0.1111111111111111,
              "#46039f"
             ],
             [
              0.2222222222222222,
              "#7201a8"
             ],
             [
              0.3333333333333333,
              "#9c179e"
             ],
             [
              0.4444444444444444,
              "#bd3786"
             ],
             [
              0.5555555555555556,
              "#d8576b"
             ],
             [
              0.6666666666666666,
              "#ed7953"
             ],
             [
              0.7777777777777778,
              "#fb9f3a"
             ],
             [
              0.8888888888888888,
              "#fdca26"
             ],
             [
              1,
              "#f0f921"
             ]
            ],
            "type": "heatmap"
           }
          ],
          "heatmapgl": [
           {
            "colorbar": {
             "outlinewidth": 0,
             "ticks": ""
            },
            "colorscale": [
             [
              0,
              "#0d0887"
             ],
             [
              0.1111111111111111,
              "#46039f"
             ],
             [
              0.2222222222222222,
              "#7201a8"
             ],
             [
              0.3333333333333333,
              "#9c179e"
             ],
             [
              0.4444444444444444,
              "#bd3786"
             ],
             [
              0.5555555555555556,
              "#d8576b"
             ],
             [
              0.6666666666666666,
              "#ed7953"
             ],
             [
              0.7777777777777778,
              "#fb9f3a"
             ],
             [
              0.8888888888888888,
              "#fdca26"
             ],
             [
              1,
              "#f0f921"
             ]
            ],
            "type": "heatmapgl"
           }
          ],
          "histogram": [
           {
            "marker": {
             "pattern": {
              "fillmode": "overlay",
              "size": 10,
              "solidity": 0.2
             }
            },
            "type": "histogram"
           }
          ],
          "histogram2d": [
           {
            "colorbar": {
             "outlinewidth": 0,
             "ticks": ""
            },
            "colorscale": [
             [
              0,
              "#0d0887"
             ],
             [
              0.1111111111111111,
              "#46039f"
             ],
             [
              0.2222222222222222,
              "#7201a8"
             ],
             [
              0.3333333333333333,
              "#9c179e"
             ],
             [
              0.4444444444444444,
              "#bd3786"
             ],
             [
              0.5555555555555556,
              "#d8576b"
             ],
             [
              0.6666666666666666,
              "#ed7953"
             ],
             [
              0.7777777777777778,
              "#fb9f3a"
             ],
             [
              0.8888888888888888,
              "#fdca26"
             ],
             [
              1,
              "#f0f921"
             ]
            ],
            "type": "histogram2d"
           }
          ],
          "histogram2dcontour": [
           {
            "colorbar": {
             "outlinewidth": 0,
             "ticks": ""
            },
            "colorscale": [
             [
              0,
              "#0d0887"
             ],
             [
              0.1111111111111111,
              "#46039f"
             ],
             [
              0.2222222222222222,
              "#7201a8"
             ],
             [
              0.3333333333333333,
              "#9c179e"
             ],
             [
              0.4444444444444444,
              "#bd3786"
             ],
             [
              0.5555555555555556,
              "#d8576b"
             ],
             [
              0.6666666666666666,
              "#ed7953"
             ],
             [
              0.7777777777777778,
              "#fb9f3a"
             ],
             [
              0.8888888888888888,
              "#fdca26"
             ],
             [
              1,
              "#f0f921"
             ]
            ],
            "type": "histogram2dcontour"
           }
          ],
          "mesh3d": [
           {
            "colorbar": {
             "outlinewidth": 0,
             "ticks": ""
            },
            "type": "mesh3d"
           }
          ],
          "parcoords": [
           {
            "line": {
             "colorbar": {
              "outlinewidth": 0,
              "ticks": ""
             }
            },
            "type": "parcoords"
           }
          ],
          "pie": [
           {
            "automargin": true,
            "type": "pie"
           }
          ],
          "scatter": [
           {
            "fillpattern": {
             "fillmode": "overlay",
             "size": 10,
             "solidity": 0.2
            },
            "type": "scatter"
           }
          ],
          "scatter3d": [
           {
            "line": {
             "colorbar": {
              "outlinewidth": 0,
              "ticks": ""
             }
            },
            "marker": {
             "colorbar": {
              "outlinewidth": 0,
              "ticks": ""
             }
            },
            "type": "scatter3d"
           }
          ],
          "scattercarpet": [
           {
            "marker": {
             "colorbar": {
              "outlinewidth": 0,
              "ticks": ""
             }
            },
            "type": "scattercarpet"
           }
          ],
          "scattergeo": [
           {
            "marker": {
             "colorbar": {
              "outlinewidth": 0,
              "ticks": ""
             }
            },
            "type": "scattergeo"
           }
          ],
          "scattergl": [
           {
            "marker": {
             "colorbar": {
              "outlinewidth": 0,
              "ticks": ""
             }
            },
            "type": "scattergl"
           }
          ],
          "scattermapbox": [
           {
            "marker": {
             "colorbar": {
              "outlinewidth": 0,
              "ticks": ""
             }
            },
            "type": "scattermapbox"
           }
          ],
          "scatterpolar": [
           {
            "marker": {
             "colorbar": {
              "outlinewidth": 0,
              "ticks": ""
             }
            },
            "type": "scatterpolar"
           }
          ],
          "scatterpolargl": [
           {
            "marker": {
             "colorbar": {
              "outlinewidth": 0,
              "ticks": ""
             }
            },
            "type": "scatterpolargl"
           }
          ],
          "scatterternary": [
           {
            "marker": {
             "colorbar": {
              "outlinewidth": 0,
              "ticks": ""
             }
            },
            "type": "scatterternary"
           }
          ],
          "surface": [
           {
            "colorbar": {
             "outlinewidth": 0,
             "ticks": ""
            },
            "colorscale": [
             [
              0,
              "#0d0887"
             ],
             [
              0.1111111111111111,
              "#46039f"
             ],
             [
              0.2222222222222222,
              "#7201a8"
             ],
             [
              0.3333333333333333,
              "#9c179e"
             ],
             [
              0.4444444444444444,
              "#bd3786"
             ],
             [
              0.5555555555555556,
              "#d8576b"
             ],
             [
              0.6666666666666666,
              "#ed7953"
             ],
             [
              0.7777777777777778,
              "#fb9f3a"
             ],
             [
              0.8888888888888888,
              "#fdca26"
             ],
             [
              1,
              "#f0f921"
             ]
            ],
            "type": "surface"
           }
          ],
          "table": [
           {
            "cells": {
             "fill": {
              "color": "#EBF0F8"
             },
             "line": {
              "color": "white"
             }
            },
            "header": {
             "fill": {
              "color": "#C8D4E3"
             },
             "line": {
              "color": "white"
             }
            },
            "type": "table"
           }
          ]
         },
         "layout": {
          "annotationdefaults": {
           "arrowcolor": "#2a3f5f",
           "arrowhead": 0,
           "arrowwidth": 1
          },
          "autotypenumbers": "strict",
          "coloraxis": {
           "colorbar": {
            "outlinewidth": 0,
            "ticks": ""
           }
          },
          "colorscale": {
           "diverging": [
            [
             0,
             "#8e0152"
            ],
            [
             0.1,
             "#c51b7d"
            ],
            [
             0.2,
             "#de77ae"
            ],
            [
             0.3,
             "#f1b6da"
            ],
            [
             0.4,
             "#fde0ef"
            ],
            [
             0.5,
             "#f7f7f7"
            ],
            [
             0.6,
             "#e6f5d0"
            ],
            [
             0.7,
             "#b8e186"
            ],
            [
             0.8,
             "#7fbc41"
            ],
            [
             0.9,
             "#4d9221"
            ],
            [
             1,
             "#276419"
            ]
           ],
           "sequential": [
            [
             0,
             "#0d0887"
            ],
            [
             0.1111111111111111,
             "#46039f"
            ],
            [
             0.2222222222222222,
             "#7201a8"
            ],
            [
             0.3333333333333333,
             "#9c179e"
            ],
            [
             0.4444444444444444,
             "#bd3786"
            ],
            [
             0.5555555555555556,
             "#d8576b"
            ],
            [
             0.6666666666666666,
             "#ed7953"
            ],
            [
             0.7777777777777778,
             "#fb9f3a"
            ],
            [
             0.8888888888888888,
             "#fdca26"
            ],
            [
             1,
             "#f0f921"
            ]
           ],
           "sequentialminus": [
            [
             0,
             "#0d0887"
            ],
            [
             0.1111111111111111,
             "#46039f"
            ],
            [
             0.2222222222222222,
             "#7201a8"
            ],
            [
             0.3333333333333333,
             "#9c179e"
            ],
            [
             0.4444444444444444,
             "#bd3786"
            ],
            [
             0.5555555555555556,
             "#d8576b"
            ],
            [
             0.6666666666666666,
             "#ed7953"
            ],
            [
             0.7777777777777778,
             "#fb9f3a"
            ],
            [
             0.8888888888888888,
             "#fdca26"
            ],
            [
             1,
             "#f0f921"
            ]
           ]
          },
          "colorway": [
           "#636efa",
           "#EF553B",
           "#00cc96",
           "#ab63fa",
           "#FFA15A",
           "#19d3f3",
           "#FF6692",
           "#B6E880",
           "#FF97FF",
           "#FECB52"
          ],
          "font": {
           "color": "#2a3f5f"
          },
          "geo": {
           "bgcolor": "white",
           "lakecolor": "white",
           "landcolor": "#E5ECF6",
           "showlakes": true,
           "showland": true,
           "subunitcolor": "white"
          },
          "hoverlabel": {
           "align": "left"
          },
          "hovermode": "closest",
          "mapbox": {
           "style": "light"
          },
          "paper_bgcolor": "white",
          "plot_bgcolor": "#E5ECF6",
          "polar": {
           "angularaxis": {
            "gridcolor": "white",
            "linecolor": "white",
            "ticks": ""
           },
           "bgcolor": "#E5ECF6",
           "radialaxis": {
            "gridcolor": "white",
            "linecolor": "white",
            "ticks": ""
           }
          },
          "scene": {
           "xaxis": {
            "backgroundcolor": "#E5ECF6",
            "gridcolor": "white",
            "gridwidth": 2,
            "linecolor": "white",
            "showbackground": true,
            "ticks": "",
            "zerolinecolor": "white"
           },
           "yaxis": {
            "backgroundcolor": "#E5ECF6",
            "gridcolor": "white",
            "gridwidth": 2,
            "linecolor": "white",
            "showbackground": true,
            "ticks": "",
            "zerolinecolor": "white"
           },
           "zaxis": {
            "backgroundcolor": "#E5ECF6",
            "gridcolor": "white",
            "gridwidth": 2,
            "linecolor": "white",
            "showbackground": true,
            "ticks": "",
            "zerolinecolor": "white"
           }
          },
          "shapedefaults": {
           "line": {
            "color": "#2a3f5f"
           }
          },
          "ternary": {
           "aaxis": {
            "gridcolor": "white",
            "linecolor": "white",
            "ticks": ""
           },
           "baxis": {
            "gridcolor": "white",
            "linecolor": "white",
            "ticks": ""
           },
           "bgcolor": "#E5ECF6",
           "caxis": {
            "gridcolor": "white",
            "linecolor": "white",
            "ticks": ""
           }
          },
          "title": {
           "x": 0.05
          },
          "xaxis": {
           "automargin": true,
           "gridcolor": "white",
           "linecolor": "white",
           "ticks": "",
           "title": {
            "standoff": 15
           },
           "zerolinecolor": "white",
           "zerolinewidth": 2
          },
          "yaxis": {
           "automargin": true,
           "gridcolor": "white",
           "linecolor": "white",
           "ticks": "",
           "title": {
            "standoff": 15
           },
           "zerolinecolor": "white",
           "zerolinewidth": 2
          }
         }
        }
       }
      }
     },
     "metadata": {},
     "output_type": "display_data"
    }
   ],
   "source": [
    "# Showing spider plot with all years\n",
    "fig = go.Figure()\n",
    "\n",
    "for year_i in range(0, len(care_home_charges_scot)):\n",
    "    fig.add_trace(go.Scatterpolar(\n",
    "        r = care_home_charges_scot.iloc[year_i].tolist(),\n",
    "        theta = care_home_charges_scot.columns.values.tolist(),\n",
    "        fill = \"toself\",\n",
    "        name = str(care_home_charges_scot.index[year_i]).replace(\"0331\",\"\")\n",
    "    ))\n",
    "\n",
    "\n",
    "fig.show()"
   ]
  },
  {
   "cell_type": "code",
   "execution_count": 28,
   "id": "63634ccb",
   "metadata": {},
   "outputs": [
    {
     "data": {
      "text/plain": [
       "14"
      ]
     },
     "execution_count": 28,
     "metadata": {},
     "output_type": "execute_result"
    }
   ],
   "source": [
    "len(care_home_charges_scot)"
   ]
  },
  {
   "cell_type": "markdown",
   "id": "cebb4a3c",
   "metadata": {},
   "source": [
    "### Percentage"
   ]
  },
  {
   "cell_type": "code",
   "execution_count": 29,
   "id": "91f3641f",
   "metadata": {},
   "outputs": [
    {
     "data": {
      "text/html": [
       "<div>\n",
       "<style scoped>\n",
       "    .dataframe tbody tr th:only-of-type {\n",
       "        vertical-align: middle;\n",
       "    }\n",
       "\n",
       "    .dataframe tbody tr th {\n",
       "        vertical-align: top;\n",
       "    }\n",
       "\n",
       "    .dataframe thead th {\n",
       "        text-align: right;\n",
       "    }\n",
       "</style>\n",
       "<table border=\"1\" class=\"dataframe\">\n",
       "  <thead>\n",
       "    <tr style=\"text-align: right;\">\n",
       "      <th>KeyStatistic</th>\n",
       "      <th>All Funded With Nursing Care (GBP)</th>\n",
       "      <th>All Funded Without Nursing Care (GBP)</th>\n",
       "      <th>Publicly Funded With Nursing Care (GBP)</th>\n",
       "      <th>Publicly Funded Without Nursing Care (GBP)</th>\n",
       "      <th>Self Funded With Nursing Care (GBP)</th>\n",
       "      <th>Self Funded Without Nursing Care (GBP)</th>\n",
       "    </tr>\n",
       "    <tr>\n",
       "      <th>Date</th>\n",
       "      <th></th>\n",
       "      <th></th>\n",
       "      <th></th>\n",
       "      <th></th>\n",
       "      <th></th>\n",
       "      <th></th>\n",
       "    </tr>\n",
       "  </thead>\n",
       "  <tbody>\n",
       "    <tr>\n",
       "      <th>20100331</th>\n",
       "      <td>0.0</td>\n",
       "      <td>0.0</td>\n",
       "      <td>0.0</td>\n",
       "      <td>0.0</td>\n",
       "      <td>20332.0</td>\n",
       "      <td>19861.0</td>\n",
       "    </tr>\n",
       "    <tr>\n",
       "      <th>20110331</th>\n",
       "      <td>623.0</td>\n",
       "      <td>572.0</td>\n",
       "      <td>561.0</td>\n",
       "      <td>531.0</td>\n",
       "      <td>21286.0</td>\n",
       "      <td>20578.0</td>\n",
       "    </tr>\n",
       "    <tr>\n",
       "      <th>20120331</th>\n",
       "      <td>637.0</td>\n",
       "      <td>592.0</td>\n",
       "      <td>574.0</td>\n",
       "      <td>542.0</td>\n",
       "      <td>22747.0</td>\n",
       "      <td>21663.0</td>\n",
       "    </tr>\n",
       "    <tr>\n",
       "      <th>20130331</th>\n",
       "      <td>659.0</td>\n",
       "      <td>615.0</td>\n",
       "      <td>591.0</td>\n",
       "      <td>556.0</td>\n",
       "      <td>23653.0</td>\n",
       "      <td>22471.0</td>\n",
       "    </tr>\n",
       "    <tr>\n",
       "      <th>20140331</th>\n",
       "      <td>681.0</td>\n",
       "      <td>633.0</td>\n",
       "      <td>607.0</td>\n",
       "      <td>574.0</td>\n",
       "      <td>24336.0</td>\n",
       "      <td>23378.0</td>\n",
       "    </tr>\n",
       "    <tr>\n",
       "      <th>20150331</th>\n",
       "      <td>698.0</td>\n",
       "      <td>652.0</td>\n",
       "      <td>616.0</td>\n",
       "      <td>583.0</td>\n",
       "      <td>25184.0</td>\n",
       "      <td>24098.0</td>\n",
       "    </tr>\n",
       "    <tr>\n",
       "      <th>20160331</th>\n",
       "      <td>733.0</td>\n",
       "      <td>683.0</td>\n",
       "      <td>642.0</td>\n",
       "      <td>605.0</td>\n",
       "      <td>26745.0</td>\n",
       "      <td>25445.0</td>\n",
       "    </tr>\n",
       "    <tr>\n",
       "      <th>20170331</th>\n",
       "      <td>776.0</td>\n",
       "      <td>717.0</td>\n",
       "      <td>682.0</td>\n",
       "      <td>635.0</td>\n",
       "      <td>28244.0</td>\n",
       "      <td>26708.0</td>\n",
       "    </tr>\n",
       "    <tr>\n",
       "      <th>20180331</th>\n",
       "      <td>820.0</td>\n",
       "      <td>755.0</td>\n",
       "      <td>709.0</td>\n",
       "      <td>666.0</td>\n",
       "      <td>29929.0</td>\n",
       "      <td>28026.0</td>\n",
       "    </tr>\n",
       "    <tr>\n",
       "      <th>20190331</th>\n",
       "      <td>873.0</td>\n",
       "      <td>799.0</td>\n",
       "      <td>746.0</td>\n",
       "      <td>690.0</td>\n",
       "      <td>31651.0</td>\n",
       "      <td>29549.0</td>\n",
       "    </tr>\n",
       "    <tr>\n",
       "      <th>20200331</th>\n",
       "      <td>0.0</td>\n",
       "      <td>0.0</td>\n",
       "      <td>0.0</td>\n",
       "      <td>0.0</td>\n",
       "      <td>0.0</td>\n",
       "      <td>0.0</td>\n",
       "    </tr>\n",
       "    <tr>\n",
       "      <th>20210331</th>\n",
       "      <td>954.0</td>\n",
       "      <td>874.0</td>\n",
       "      <td>795.0</td>\n",
       "      <td>740.0</td>\n",
       "      <td>35496.0</td>\n",
       "      <td>32708.0</td>\n",
       "    </tr>\n",
       "    <tr>\n",
       "      <th>20220331</th>\n",
       "      <td>1032.0</td>\n",
       "      <td>941.0</td>\n",
       "      <td>856.0</td>\n",
       "      <td>792.0</td>\n",
       "      <td>38039.0</td>\n",
       "      <td>35275.0</td>\n",
       "    </tr>\n",
       "    <tr>\n",
       "      <th>20230331</th>\n",
       "      <td>1122.0</td>\n",
       "      <td>1036.0</td>\n",
       "      <td>910.0</td>\n",
       "      <td>848.0</td>\n",
       "      <td>42509.0</td>\n",
       "      <td>39759.0</td>\n",
       "    </tr>\n",
       "  </tbody>\n",
       "</table>\n",
       "</div>"
      ],
      "text/plain": [
       "KeyStatistic  All Funded With Nursing Care (GBP)  \\\n",
       "Date                                               \n",
       "20100331                                     0.0   \n",
       "20110331                                   623.0   \n",
       "20120331                                   637.0   \n",
       "20130331                                   659.0   \n",
       "20140331                                   681.0   \n",
       "20150331                                   698.0   \n",
       "20160331                                   733.0   \n",
       "20170331                                   776.0   \n",
       "20180331                                   820.0   \n",
       "20190331                                   873.0   \n",
       "20200331                                     0.0   \n",
       "20210331                                   954.0   \n",
       "20220331                                  1032.0   \n",
       "20230331                                  1122.0   \n",
       "\n",
       "KeyStatistic  All Funded Without Nursing Care (GBP)  \\\n",
       "Date                                                  \n",
       "20100331                                        0.0   \n",
       "20110331                                      572.0   \n",
       "20120331                                      592.0   \n",
       "20130331                                      615.0   \n",
       "20140331                                      633.0   \n",
       "20150331                                      652.0   \n",
       "20160331                                      683.0   \n",
       "20170331                                      717.0   \n",
       "20180331                                      755.0   \n",
       "20190331                                      799.0   \n",
       "20200331                                        0.0   \n",
       "20210331                                      874.0   \n",
       "20220331                                      941.0   \n",
       "20230331                                     1036.0   \n",
       "\n",
       "KeyStatistic  Publicly Funded With Nursing Care (GBP)  \\\n",
       "Date                                                    \n",
       "20100331                                          0.0   \n",
       "20110331                                        561.0   \n",
       "20120331                                        574.0   \n",
       "20130331                                        591.0   \n",
       "20140331                                        607.0   \n",
       "20150331                                        616.0   \n",
       "20160331                                        642.0   \n",
       "20170331                                        682.0   \n",
       "20180331                                        709.0   \n",
       "20190331                                        746.0   \n",
       "20200331                                          0.0   \n",
       "20210331                                        795.0   \n",
       "20220331                                        856.0   \n",
       "20230331                                        910.0   \n",
       "\n",
       "KeyStatistic  Publicly Funded Without Nursing Care (GBP)  \\\n",
       "Date                                                       \n",
       "20100331                                             0.0   \n",
       "20110331                                           531.0   \n",
       "20120331                                           542.0   \n",
       "20130331                                           556.0   \n",
       "20140331                                           574.0   \n",
       "20150331                                           583.0   \n",
       "20160331                                           605.0   \n",
       "20170331                                           635.0   \n",
       "20180331                                           666.0   \n",
       "20190331                                           690.0   \n",
       "20200331                                             0.0   \n",
       "20210331                                           740.0   \n",
       "20220331                                           792.0   \n",
       "20230331                                           848.0   \n",
       "\n",
       "KeyStatistic  Self Funded With Nursing Care (GBP)  \\\n",
       "Date                                                \n",
       "20100331                                  20332.0   \n",
       "20110331                                  21286.0   \n",
       "20120331                                  22747.0   \n",
       "20130331                                  23653.0   \n",
       "20140331                                  24336.0   \n",
       "20150331                                  25184.0   \n",
       "20160331                                  26745.0   \n",
       "20170331                                  28244.0   \n",
       "20180331                                  29929.0   \n",
       "20190331                                  31651.0   \n",
       "20200331                                      0.0   \n",
       "20210331                                  35496.0   \n",
       "20220331                                  38039.0   \n",
       "20230331                                  42509.0   \n",
       "\n",
       "KeyStatistic  Self Funded Without Nursing Care (GBP)  \n",
       "Date                                                  \n",
       "20100331                                     19861.0  \n",
       "20110331                                     20578.0  \n",
       "20120331                                     21663.0  \n",
       "20130331                                     22471.0  \n",
       "20140331                                     23378.0  \n",
       "20150331                                     24098.0  \n",
       "20160331                                     25445.0  \n",
       "20170331                                     26708.0  \n",
       "20180331                                     28026.0  \n",
       "20190331                                     29549.0  \n",
       "20200331                                         0.0  \n",
       "20210331                                     32708.0  \n",
       "20220331                                     35275.0  \n",
       "20230331                                     39759.0  "
      ]
     },
     "execution_count": 29,
     "metadata": {},
     "output_type": "execute_result"
    }
   ],
   "source": [
    "care_home_charges_scot"
   ]
  },
  {
   "cell_type": "code",
   "execution_count": 30,
   "id": "12c1ad37",
   "metadata": {},
   "outputs": [],
   "source": [
    "care_home_charges_scot[\"Annual total\"] = care_home_charges_scot.sum(axis = 1)"
   ]
  },
  {
   "cell_type": "code",
   "execution_count": 31,
   "id": "0061cf50",
   "metadata": {},
   "outputs": [
    {
     "data": {
      "text/plain": [
       "Date\n",
       "20100331     80386.0\n",
       "20110331     88302.0\n",
       "20120331     93510.0\n",
       "20130331     97090.0\n",
       "20140331    100418.0\n",
       "20150331    103662.0\n",
       "20160331    109706.0\n",
       "20170331    115524.0\n",
       "20180331    121810.0\n",
       "20190331    128616.0\n",
       "20200331         0.0\n",
       "20210331    143134.0\n",
       "20220331    153870.0\n",
       "20230331    172368.0\n",
       "dtype: float64"
      ]
     },
     "execution_count": 31,
     "metadata": {},
     "output_type": "execute_result"
    }
   ],
   "source": [
    "care_home_charges_scot.sum(axis = 1)"
   ]
  },
  {
   "cell_type": "code",
   "execution_count": 32,
   "id": "592d1fea",
   "metadata": {},
   "outputs": [
    {
     "data": {
      "text/html": [
       "<div>\n",
       "<style scoped>\n",
       "    .dataframe tbody tr th:only-of-type {\n",
       "        vertical-align: middle;\n",
       "    }\n",
       "\n",
       "    .dataframe tbody tr th {\n",
       "        vertical-align: top;\n",
       "    }\n",
       "\n",
       "    .dataframe thead th {\n",
       "        text-align: right;\n",
       "    }\n",
       "</style>\n",
       "<table border=\"1\" class=\"dataframe\">\n",
       "  <thead>\n",
       "    <tr style=\"text-align: right;\">\n",
       "      <th>KeyStatistic</th>\n",
       "      <th>All Funded With Nursing Care (GBP)</th>\n",
       "      <th>All Funded Without Nursing Care (GBP)</th>\n",
       "      <th>Publicly Funded With Nursing Care (GBP)</th>\n",
       "      <th>Publicly Funded Without Nursing Care (GBP)</th>\n",
       "      <th>Self Funded With Nursing Care (GBP)</th>\n",
       "      <th>Self Funded Without Nursing Care (GBP)</th>\n",
       "      <th>Annual total</th>\n",
       "    </tr>\n",
       "    <tr>\n",
       "      <th>Date</th>\n",
       "      <th></th>\n",
       "      <th></th>\n",
       "      <th></th>\n",
       "      <th></th>\n",
       "      <th></th>\n",
       "      <th></th>\n",
       "      <th></th>\n",
       "    </tr>\n",
       "  </thead>\n",
       "  <tbody>\n",
       "    <tr>\n",
       "      <th>20100331</th>\n",
       "      <td>0.0</td>\n",
       "      <td>0.0</td>\n",
       "      <td>0.0</td>\n",
       "      <td>0.0</td>\n",
       "      <td>20332.0</td>\n",
       "      <td>19861.0</td>\n",
       "      <td>40193.0</td>\n",
       "    </tr>\n",
       "    <tr>\n",
       "      <th>20110331</th>\n",
       "      <td>623.0</td>\n",
       "      <td>572.0</td>\n",
       "      <td>561.0</td>\n",
       "      <td>531.0</td>\n",
       "      <td>21286.0</td>\n",
       "      <td>20578.0</td>\n",
       "      <td>44151.0</td>\n",
       "    </tr>\n",
       "    <tr>\n",
       "      <th>20120331</th>\n",
       "      <td>637.0</td>\n",
       "      <td>592.0</td>\n",
       "      <td>574.0</td>\n",
       "      <td>542.0</td>\n",
       "      <td>22747.0</td>\n",
       "      <td>21663.0</td>\n",
       "      <td>46755.0</td>\n",
       "    </tr>\n",
       "    <tr>\n",
       "      <th>20130331</th>\n",
       "      <td>659.0</td>\n",
       "      <td>615.0</td>\n",
       "      <td>591.0</td>\n",
       "      <td>556.0</td>\n",
       "      <td>23653.0</td>\n",
       "      <td>22471.0</td>\n",
       "      <td>48545.0</td>\n",
       "    </tr>\n",
       "    <tr>\n",
       "      <th>20140331</th>\n",
       "      <td>681.0</td>\n",
       "      <td>633.0</td>\n",
       "      <td>607.0</td>\n",
       "      <td>574.0</td>\n",
       "      <td>24336.0</td>\n",
       "      <td>23378.0</td>\n",
       "      <td>50209.0</td>\n",
       "    </tr>\n",
       "    <tr>\n",
       "      <th>20150331</th>\n",
       "      <td>698.0</td>\n",
       "      <td>652.0</td>\n",
       "      <td>616.0</td>\n",
       "      <td>583.0</td>\n",
       "      <td>25184.0</td>\n",
       "      <td>24098.0</td>\n",
       "      <td>51831.0</td>\n",
       "    </tr>\n",
       "    <tr>\n",
       "      <th>20160331</th>\n",
       "      <td>733.0</td>\n",
       "      <td>683.0</td>\n",
       "      <td>642.0</td>\n",
       "      <td>605.0</td>\n",
       "      <td>26745.0</td>\n",
       "      <td>25445.0</td>\n",
       "      <td>54853.0</td>\n",
       "    </tr>\n",
       "    <tr>\n",
       "      <th>20170331</th>\n",
       "      <td>776.0</td>\n",
       "      <td>717.0</td>\n",
       "      <td>682.0</td>\n",
       "      <td>635.0</td>\n",
       "      <td>28244.0</td>\n",
       "      <td>26708.0</td>\n",
       "      <td>57762.0</td>\n",
       "    </tr>\n",
       "    <tr>\n",
       "      <th>20180331</th>\n",
       "      <td>820.0</td>\n",
       "      <td>755.0</td>\n",
       "      <td>709.0</td>\n",
       "      <td>666.0</td>\n",
       "      <td>29929.0</td>\n",
       "      <td>28026.0</td>\n",
       "      <td>60905.0</td>\n",
       "    </tr>\n",
       "    <tr>\n",
       "      <th>20190331</th>\n",
       "      <td>873.0</td>\n",
       "      <td>799.0</td>\n",
       "      <td>746.0</td>\n",
       "      <td>690.0</td>\n",
       "      <td>31651.0</td>\n",
       "      <td>29549.0</td>\n",
       "      <td>64308.0</td>\n",
       "    </tr>\n",
       "    <tr>\n",
       "      <th>20200331</th>\n",
       "      <td>0.0</td>\n",
       "      <td>0.0</td>\n",
       "      <td>0.0</td>\n",
       "      <td>0.0</td>\n",
       "      <td>0.0</td>\n",
       "      <td>0.0</td>\n",
       "      <td>0.0</td>\n",
       "    </tr>\n",
       "    <tr>\n",
       "      <th>20210331</th>\n",
       "      <td>954.0</td>\n",
       "      <td>874.0</td>\n",
       "      <td>795.0</td>\n",
       "      <td>740.0</td>\n",
       "      <td>35496.0</td>\n",
       "      <td>32708.0</td>\n",
       "      <td>71567.0</td>\n",
       "    </tr>\n",
       "    <tr>\n",
       "      <th>20220331</th>\n",
       "      <td>1032.0</td>\n",
       "      <td>941.0</td>\n",
       "      <td>856.0</td>\n",
       "      <td>792.0</td>\n",
       "      <td>38039.0</td>\n",
       "      <td>35275.0</td>\n",
       "      <td>76935.0</td>\n",
       "    </tr>\n",
       "    <tr>\n",
       "      <th>20230331</th>\n",
       "      <td>1122.0</td>\n",
       "      <td>1036.0</td>\n",
       "      <td>910.0</td>\n",
       "      <td>848.0</td>\n",
       "      <td>42509.0</td>\n",
       "      <td>39759.0</td>\n",
       "      <td>86184.0</td>\n",
       "    </tr>\n",
       "  </tbody>\n",
       "</table>\n",
       "</div>"
      ],
      "text/plain": [
       "KeyStatistic  All Funded With Nursing Care (GBP)  \\\n",
       "Date                                               \n",
       "20100331                                     0.0   \n",
       "20110331                                   623.0   \n",
       "20120331                                   637.0   \n",
       "20130331                                   659.0   \n",
       "20140331                                   681.0   \n",
       "20150331                                   698.0   \n",
       "20160331                                   733.0   \n",
       "20170331                                   776.0   \n",
       "20180331                                   820.0   \n",
       "20190331                                   873.0   \n",
       "20200331                                     0.0   \n",
       "20210331                                   954.0   \n",
       "20220331                                  1032.0   \n",
       "20230331                                  1122.0   \n",
       "\n",
       "KeyStatistic  All Funded Without Nursing Care (GBP)  \\\n",
       "Date                                                  \n",
       "20100331                                        0.0   \n",
       "20110331                                      572.0   \n",
       "20120331                                      592.0   \n",
       "20130331                                      615.0   \n",
       "20140331                                      633.0   \n",
       "20150331                                      652.0   \n",
       "20160331                                      683.0   \n",
       "20170331                                      717.0   \n",
       "20180331                                      755.0   \n",
       "20190331                                      799.0   \n",
       "20200331                                        0.0   \n",
       "20210331                                      874.0   \n",
       "20220331                                      941.0   \n",
       "20230331                                     1036.0   \n",
       "\n",
       "KeyStatistic  Publicly Funded With Nursing Care (GBP)  \\\n",
       "Date                                                    \n",
       "20100331                                          0.0   \n",
       "20110331                                        561.0   \n",
       "20120331                                        574.0   \n",
       "20130331                                        591.0   \n",
       "20140331                                        607.0   \n",
       "20150331                                        616.0   \n",
       "20160331                                        642.0   \n",
       "20170331                                        682.0   \n",
       "20180331                                        709.0   \n",
       "20190331                                        746.0   \n",
       "20200331                                          0.0   \n",
       "20210331                                        795.0   \n",
       "20220331                                        856.0   \n",
       "20230331                                        910.0   \n",
       "\n",
       "KeyStatistic  Publicly Funded Without Nursing Care (GBP)  \\\n",
       "Date                                                       \n",
       "20100331                                             0.0   \n",
       "20110331                                           531.0   \n",
       "20120331                                           542.0   \n",
       "20130331                                           556.0   \n",
       "20140331                                           574.0   \n",
       "20150331                                           583.0   \n",
       "20160331                                           605.0   \n",
       "20170331                                           635.0   \n",
       "20180331                                           666.0   \n",
       "20190331                                           690.0   \n",
       "20200331                                             0.0   \n",
       "20210331                                           740.0   \n",
       "20220331                                           792.0   \n",
       "20230331                                           848.0   \n",
       "\n",
       "KeyStatistic  Self Funded With Nursing Care (GBP)  \\\n",
       "Date                                                \n",
       "20100331                                  20332.0   \n",
       "20110331                                  21286.0   \n",
       "20120331                                  22747.0   \n",
       "20130331                                  23653.0   \n",
       "20140331                                  24336.0   \n",
       "20150331                                  25184.0   \n",
       "20160331                                  26745.0   \n",
       "20170331                                  28244.0   \n",
       "20180331                                  29929.0   \n",
       "20190331                                  31651.0   \n",
       "20200331                                      0.0   \n",
       "20210331                                  35496.0   \n",
       "20220331                                  38039.0   \n",
       "20230331                                  42509.0   \n",
       "\n",
       "KeyStatistic  Self Funded Without Nursing Care (GBP)  Annual total  \n",
       "Date                                                                \n",
       "20100331                                     19861.0       40193.0  \n",
       "20110331                                     20578.0       44151.0  \n",
       "20120331                                     21663.0       46755.0  \n",
       "20130331                                     22471.0       48545.0  \n",
       "20140331                                     23378.0       50209.0  \n",
       "20150331                                     24098.0       51831.0  \n",
       "20160331                                     25445.0       54853.0  \n",
       "20170331                                     26708.0       57762.0  \n",
       "20180331                                     28026.0       60905.0  \n",
       "20190331                                     29549.0       64308.0  \n",
       "20200331                                         0.0           0.0  \n",
       "20210331                                     32708.0       71567.0  \n",
       "20220331                                     35275.0       76935.0  \n",
       "20230331                                     39759.0       86184.0  "
      ]
     },
     "execution_count": 32,
     "metadata": {},
     "output_type": "execute_result"
    }
   ],
   "source": [
    "care_home_charges_scot"
   ]
  },
  {
   "cell_type": "code",
   "execution_count": 33,
   "id": "cca255ba",
   "metadata": {},
   "outputs": [
    {
     "data": {
      "text/html": [
       "<div>\n",
       "<style scoped>\n",
       "    .dataframe tbody tr th:only-of-type {\n",
       "        vertical-align: middle;\n",
       "    }\n",
       "\n",
       "    .dataframe tbody tr th {\n",
       "        vertical-align: top;\n",
       "    }\n",
       "\n",
       "    .dataframe thead th {\n",
       "        text-align: right;\n",
       "    }\n",
       "</style>\n",
       "<table border=\"1\" class=\"dataframe\">\n",
       "  <thead>\n",
       "    <tr style=\"text-align: right;\">\n",
       "      <th>KeyStatistic</th>\n",
       "      <th>All Funded With Nursing Care (GBP)</th>\n",
       "      <th>All Funded Without Nursing Care (GBP)</th>\n",
       "      <th>Publicly Funded With Nursing Care (GBP)</th>\n",
       "      <th>Publicly Funded Without Nursing Care (GBP)</th>\n",
       "      <th>Self Funded With Nursing Care (GBP)</th>\n",
       "      <th>Self Funded Without Nursing Care (GBP)</th>\n",
       "      <th>Annual total</th>\n",
       "    </tr>\n",
       "    <tr>\n",
       "      <th>Date</th>\n",
       "      <th></th>\n",
       "      <th></th>\n",
       "      <th></th>\n",
       "      <th></th>\n",
       "      <th></th>\n",
       "      <th></th>\n",
       "      <th></th>\n",
       "    </tr>\n",
       "  </thead>\n",
       "  <tbody>\n",
       "    <tr>\n",
       "      <th>20100331</th>\n",
       "      <td>0.000000</td>\n",
       "      <td>0.000000</td>\n",
       "      <td>0.000000</td>\n",
       "      <td>0.000000</td>\n",
       "      <td>0.505859</td>\n",
       "      <td>0.494141</td>\n",
       "      <td>1.0</td>\n",
       "    </tr>\n",
       "    <tr>\n",
       "      <th>20110331</th>\n",
       "      <td>0.014111</td>\n",
       "      <td>0.012956</td>\n",
       "      <td>0.012706</td>\n",
       "      <td>0.012027</td>\n",
       "      <td>0.482118</td>\n",
       "      <td>0.466082</td>\n",
       "      <td>1.0</td>\n",
       "    </tr>\n",
       "    <tr>\n",
       "      <th>20120331</th>\n",
       "      <td>0.013624</td>\n",
       "      <td>0.012662</td>\n",
       "      <td>0.012277</td>\n",
       "      <td>0.011592</td>\n",
       "      <td>0.486515</td>\n",
       "      <td>0.463330</td>\n",
       "      <td>1.0</td>\n",
       "    </tr>\n",
       "    <tr>\n",
       "      <th>20130331</th>\n",
       "      <td>0.013575</td>\n",
       "      <td>0.012669</td>\n",
       "      <td>0.012174</td>\n",
       "      <td>0.011453</td>\n",
       "      <td>0.487239</td>\n",
       "      <td>0.462890</td>\n",
       "      <td>1.0</td>\n",
       "    </tr>\n",
       "    <tr>\n",
       "      <th>20140331</th>\n",
       "      <td>0.013563</td>\n",
       "      <td>0.012607</td>\n",
       "      <td>0.012089</td>\n",
       "      <td>0.011432</td>\n",
       "      <td>0.484694</td>\n",
       "      <td>0.465614</td>\n",
       "      <td>1.0</td>\n",
       "    </tr>\n",
       "    <tr>\n",
       "      <th>20150331</th>\n",
       "      <td>0.013467</td>\n",
       "      <td>0.012579</td>\n",
       "      <td>0.011885</td>\n",
       "      <td>0.011248</td>\n",
       "      <td>0.485887</td>\n",
       "      <td>0.464934</td>\n",
       "      <td>1.0</td>\n",
       "    </tr>\n",
       "    <tr>\n",
       "      <th>20160331</th>\n",
       "      <td>0.013363</td>\n",
       "      <td>0.012451</td>\n",
       "      <td>0.011704</td>\n",
       "      <td>0.011029</td>\n",
       "      <td>0.487576</td>\n",
       "      <td>0.463876</td>\n",
       "      <td>1.0</td>\n",
       "    </tr>\n",
       "    <tr>\n",
       "      <th>20170331</th>\n",
       "      <td>0.013434</td>\n",
       "      <td>0.012413</td>\n",
       "      <td>0.011807</td>\n",
       "      <td>0.010993</td>\n",
       "      <td>0.488972</td>\n",
       "      <td>0.462380</td>\n",
       "      <td>1.0</td>\n",
       "    </tr>\n",
       "    <tr>\n",
       "      <th>20180331</th>\n",
       "      <td>0.013464</td>\n",
       "      <td>0.012396</td>\n",
       "      <td>0.011641</td>\n",
       "      <td>0.010935</td>\n",
       "      <td>0.491405</td>\n",
       "      <td>0.460159</td>\n",
       "      <td>1.0</td>\n",
       "    </tr>\n",
       "    <tr>\n",
       "      <th>20190331</th>\n",
       "      <td>0.013575</td>\n",
       "      <td>0.012425</td>\n",
       "      <td>0.011600</td>\n",
       "      <td>0.010730</td>\n",
       "      <td>0.492178</td>\n",
       "      <td>0.459492</td>\n",
       "      <td>1.0</td>\n",
       "    </tr>\n",
       "    <tr>\n",
       "      <th>20200331</th>\n",
       "      <td>NaN</td>\n",
       "      <td>NaN</td>\n",
       "      <td>NaN</td>\n",
       "      <td>NaN</td>\n",
       "      <td>NaN</td>\n",
       "      <td>NaN</td>\n",
       "      <td>NaN</td>\n",
       "    </tr>\n",
       "    <tr>\n",
       "      <th>20210331</th>\n",
       "      <td>0.013330</td>\n",
       "      <td>0.012212</td>\n",
       "      <td>0.011108</td>\n",
       "      <td>0.010340</td>\n",
       "      <td>0.495983</td>\n",
       "      <td>0.457026</td>\n",
       "      <td>1.0</td>\n",
       "    </tr>\n",
       "    <tr>\n",
       "      <th>20220331</th>\n",
       "      <td>0.013414</td>\n",
       "      <td>0.012231</td>\n",
       "      <td>0.011126</td>\n",
       "      <td>0.010294</td>\n",
       "      <td>0.494430</td>\n",
       "      <td>0.458504</td>\n",
       "      <td>1.0</td>\n",
       "    </tr>\n",
       "    <tr>\n",
       "      <th>20230331</th>\n",
       "      <td>0.013019</td>\n",
       "      <td>0.012021</td>\n",
       "      <td>0.010559</td>\n",
       "      <td>0.009839</td>\n",
       "      <td>0.493235</td>\n",
       "      <td>0.461327</td>\n",
       "      <td>1.0</td>\n",
       "    </tr>\n",
       "  </tbody>\n",
       "</table>\n",
       "</div>"
      ],
      "text/plain": [
       "KeyStatistic  All Funded With Nursing Care (GBP)  \\\n",
       "Date                                               \n",
       "20100331                                0.000000   \n",
       "20110331                                0.014111   \n",
       "20120331                                0.013624   \n",
       "20130331                                0.013575   \n",
       "20140331                                0.013563   \n",
       "20150331                                0.013467   \n",
       "20160331                                0.013363   \n",
       "20170331                                0.013434   \n",
       "20180331                                0.013464   \n",
       "20190331                                0.013575   \n",
       "20200331                                     NaN   \n",
       "20210331                                0.013330   \n",
       "20220331                                0.013414   \n",
       "20230331                                0.013019   \n",
       "\n",
       "KeyStatistic  All Funded Without Nursing Care (GBP)  \\\n",
       "Date                                                  \n",
       "20100331                                   0.000000   \n",
       "20110331                                   0.012956   \n",
       "20120331                                   0.012662   \n",
       "20130331                                   0.012669   \n",
       "20140331                                   0.012607   \n",
       "20150331                                   0.012579   \n",
       "20160331                                   0.012451   \n",
       "20170331                                   0.012413   \n",
       "20180331                                   0.012396   \n",
       "20190331                                   0.012425   \n",
       "20200331                                        NaN   \n",
       "20210331                                   0.012212   \n",
       "20220331                                   0.012231   \n",
       "20230331                                   0.012021   \n",
       "\n",
       "KeyStatistic  Publicly Funded With Nursing Care (GBP)  \\\n",
       "Date                                                    \n",
       "20100331                                     0.000000   \n",
       "20110331                                     0.012706   \n",
       "20120331                                     0.012277   \n",
       "20130331                                     0.012174   \n",
       "20140331                                     0.012089   \n",
       "20150331                                     0.011885   \n",
       "20160331                                     0.011704   \n",
       "20170331                                     0.011807   \n",
       "20180331                                     0.011641   \n",
       "20190331                                     0.011600   \n",
       "20200331                                          NaN   \n",
       "20210331                                     0.011108   \n",
       "20220331                                     0.011126   \n",
       "20230331                                     0.010559   \n",
       "\n",
       "KeyStatistic  Publicly Funded Without Nursing Care (GBP)  \\\n",
       "Date                                                       \n",
       "20100331                                        0.000000   \n",
       "20110331                                        0.012027   \n",
       "20120331                                        0.011592   \n",
       "20130331                                        0.011453   \n",
       "20140331                                        0.011432   \n",
       "20150331                                        0.011248   \n",
       "20160331                                        0.011029   \n",
       "20170331                                        0.010993   \n",
       "20180331                                        0.010935   \n",
       "20190331                                        0.010730   \n",
       "20200331                                             NaN   \n",
       "20210331                                        0.010340   \n",
       "20220331                                        0.010294   \n",
       "20230331                                        0.009839   \n",
       "\n",
       "KeyStatistic  Self Funded With Nursing Care (GBP)  \\\n",
       "Date                                                \n",
       "20100331                                 0.505859   \n",
       "20110331                                 0.482118   \n",
       "20120331                                 0.486515   \n",
       "20130331                                 0.487239   \n",
       "20140331                                 0.484694   \n",
       "20150331                                 0.485887   \n",
       "20160331                                 0.487576   \n",
       "20170331                                 0.488972   \n",
       "20180331                                 0.491405   \n",
       "20190331                                 0.492178   \n",
       "20200331                                      NaN   \n",
       "20210331                                 0.495983   \n",
       "20220331                                 0.494430   \n",
       "20230331                                 0.493235   \n",
       "\n",
       "KeyStatistic  Self Funded Without Nursing Care (GBP)  Annual total  \n",
       "Date                                                                \n",
       "20100331                                    0.494141           1.0  \n",
       "20110331                                    0.466082           1.0  \n",
       "20120331                                    0.463330           1.0  \n",
       "20130331                                    0.462890           1.0  \n",
       "20140331                                    0.465614           1.0  \n",
       "20150331                                    0.464934           1.0  \n",
       "20160331                                    0.463876           1.0  \n",
       "20170331                                    0.462380           1.0  \n",
       "20180331                                    0.460159           1.0  \n",
       "20190331                                    0.459492           1.0  \n",
       "20200331                                         NaN           NaN  \n",
       "20210331                                    0.457026           1.0  \n",
       "20220331                                    0.458504           1.0  \n",
       "20230331                                    0.461327           1.0  "
      ]
     },
     "execution_count": 33,
     "metadata": {},
     "output_type": "execute_result"
    }
   ],
   "source": [
    "care_home_charges_scot_perc = care_home_charges_scot.div(care_home_charges_scot[\"Annual total\"], axis = 0)\n",
    "care_home_charges_scot_perc"
   ]
  },
  {
   "cell_type": "code",
   "execution_count": 34,
   "id": "e164ff64",
   "metadata": {},
   "outputs": [
    {
     "data": {
      "text/html": [
       "<div>\n",
       "<style scoped>\n",
       "    .dataframe tbody tr th:only-of-type {\n",
       "        vertical-align: middle;\n",
       "    }\n",
       "\n",
       "    .dataframe tbody tr th {\n",
       "        vertical-align: top;\n",
       "    }\n",
       "\n",
       "    .dataframe thead th {\n",
       "        text-align: right;\n",
       "    }\n",
       "</style>\n",
       "<table border=\"1\" class=\"dataframe\">\n",
       "  <thead>\n",
       "    <tr style=\"text-align: right;\">\n",
       "      <th>KeyStatistic</th>\n",
       "      <th>All Funded With Nursing Care (GBP)</th>\n",
       "      <th>All Funded Without Nursing Care (GBP)</th>\n",
       "      <th>Publicly Funded With Nursing Care (GBP)</th>\n",
       "      <th>Publicly Funded Without Nursing Care (GBP)</th>\n",
       "      <th>Self Funded With Nursing Care (GBP)</th>\n",
       "      <th>Self Funded Without Nursing Care (GBP)</th>\n",
       "    </tr>\n",
       "    <tr>\n",
       "      <th>Date</th>\n",
       "      <th></th>\n",
       "      <th></th>\n",
       "      <th></th>\n",
       "      <th></th>\n",
       "      <th></th>\n",
       "      <th></th>\n",
       "    </tr>\n",
       "  </thead>\n",
       "  <tbody>\n",
       "    <tr>\n",
       "      <th>20100331</th>\n",
       "      <td>0.000000</td>\n",
       "      <td>0.000000</td>\n",
       "      <td>0.000000</td>\n",
       "      <td>0.000000</td>\n",
       "      <td>0.505859</td>\n",
       "      <td>0.494141</td>\n",
       "    </tr>\n",
       "    <tr>\n",
       "      <th>20110331</th>\n",
       "      <td>0.014111</td>\n",
       "      <td>0.012956</td>\n",
       "      <td>0.012706</td>\n",
       "      <td>0.012027</td>\n",
       "      <td>0.482118</td>\n",
       "      <td>0.466082</td>\n",
       "    </tr>\n",
       "    <tr>\n",
       "      <th>20120331</th>\n",
       "      <td>0.013624</td>\n",
       "      <td>0.012662</td>\n",
       "      <td>0.012277</td>\n",
       "      <td>0.011592</td>\n",
       "      <td>0.486515</td>\n",
       "      <td>0.463330</td>\n",
       "    </tr>\n",
       "    <tr>\n",
       "      <th>20130331</th>\n",
       "      <td>0.013575</td>\n",
       "      <td>0.012669</td>\n",
       "      <td>0.012174</td>\n",
       "      <td>0.011453</td>\n",
       "      <td>0.487239</td>\n",
       "      <td>0.462890</td>\n",
       "    </tr>\n",
       "    <tr>\n",
       "      <th>20140331</th>\n",
       "      <td>0.013563</td>\n",
       "      <td>0.012607</td>\n",
       "      <td>0.012089</td>\n",
       "      <td>0.011432</td>\n",
       "      <td>0.484694</td>\n",
       "      <td>0.465614</td>\n",
       "    </tr>\n",
       "    <tr>\n",
       "      <th>20150331</th>\n",
       "      <td>0.013467</td>\n",
       "      <td>0.012579</td>\n",
       "      <td>0.011885</td>\n",
       "      <td>0.011248</td>\n",
       "      <td>0.485887</td>\n",
       "      <td>0.464934</td>\n",
       "    </tr>\n",
       "    <tr>\n",
       "      <th>20160331</th>\n",
       "      <td>0.013363</td>\n",
       "      <td>0.012451</td>\n",
       "      <td>0.011704</td>\n",
       "      <td>0.011029</td>\n",
       "      <td>0.487576</td>\n",
       "      <td>0.463876</td>\n",
       "    </tr>\n",
       "    <tr>\n",
       "      <th>20170331</th>\n",
       "      <td>0.013434</td>\n",
       "      <td>0.012413</td>\n",
       "      <td>0.011807</td>\n",
       "      <td>0.010993</td>\n",
       "      <td>0.488972</td>\n",
       "      <td>0.462380</td>\n",
       "    </tr>\n",
       "    <tr>\n",
       "      <th>20180331</th>\n",
       "      <td>0.013464</td>\n",
       "      <td>0.012396</td>\n",
       "      <td>0.011641</td>\n",
       "      <td>0.010935</td>\n",
       "      <td>0.491405</td>\n",
       "      <td>0.460159</td>\n",
       "    </tr>\n",
       "    <tr>\n",
       "      <th>20190331</th>\n",
       "      <td>0.013575</td>\n",
       "      <td>0.012425</td>\n",
       "      <td>0.011600</td>\n",
       "      <td>0.010730</td>\n",
       "      <td>0.492178</td>\n",
       "      <td>0.459492</td>\n",
       "    </tr>\n",
       "    <tr>\n",
       "      <th>20200331</th>\n",
       "      <td>NaN</td>\n",
       "      <td>NaN</td>\n",
       "      <td>NaN</td>\n",
       "      <td>NaN</td>\n",
       "      <td>NaN</td>\n",
       "      <td>NaN</td>\n",
       "    </tr>\n",
       "    <tr>\n",
       "      <th>20210331</th>\n",
       "      <td>0.013330</td>\n",
       "      <td>0.012212</td>\n",
       "      <td>0.011108</td>\n",
       "      <td>0.010340</td>\n",
       "      <td>0.495983</td>\n",
       "      <td>0.457026</td>\n",
       "    </tr>\n",
       "    <tr>\n",
       "      <th>20220331</th>\n",
       "      <td>0.013414</td>\n",
       "      <td>0.012231</td>\n",
       "      <td>0.011126</td>\n",
       "      <td>0.010294</td>\n",
       "      <td>0.494430</td>\n",
       "      <td>0.458504</td>\n",
       "    </tr>\n",
       "    <tr>\n",
       "      <th>20230331</th>\n",
       "      <td>0.013019</td>\n",
       "      <td>0.012021</td>\n",
       "      <td>0.010559</td>\n",
       "      <td>0.009839</td>\n",
       "      <td>0.493235</td>\n",
       "      <td>0.461327</td>\n",
       "    </tr>\n",
       "  </tbody>\n",
       "</table>\n",
       "</div>"
      ],
      "text/plain": [
       "KeyStatistic  All Funded With Nursing Care (GBP)  \\\n",
       "Date                                               \n",
       "20100331                                0.000000   \n",
       "20110331                                0.014111   \n",
       "20120331                                0.013624   \n",
       "20130331                                0.013575   \n",
       "20140331                                0.013563   \n",
       "20150331                                0.013467   \n",
       "20160331                                0.013363   \n",
       "20170331                                0.013434   \n",
       "20180331                                0.013464   \n",
       "20190331                                0.013575   \n",
       "20200331                                     NaN   \n",
       "20210331                                0.013330   \n",
       "20220331                                0.013414   \n",
       "20230331                                0.013019   \n",
       "\n",
       "KeyStatistic  All Funded Without Nursing Care (GBP)  \\\n",
       "Date                                                  \n",
       "20100331                                   0.000000   \n",
       "20110331                                   0.012956   \n",
       "20120331                                   0.012662   \n",
       "20130331                                   0.012669   \n",
       "20140331                                   0.012607   \n",
       "20150331                                   0.012579   \n",
       "20160331                                   0.012451   \n",
       "20170331                                   0.012413   \n",
       "20180331                                   0.012396   \n",
       "20190331                                   0.012425   \n",
       "20200331                                        NaN   \n",
       "20210331                                   0.012212   \n",
       "20220331                                   0.012231   \n",
       "20230331                                   0.012021   \n",
       "\n",
       "KeyStatistic  Publicly Funded With Nursing Care (GBP)  \\\n",
       "Date                                                    \n",
       "20100331                                     0.000000   \n",
       "20110331                                     0.012706   \n",
       "20120331                                     0.012277   \n",
       "20130331                                     0.012174   \n",
       "20140331                                     0.012089   \n",
       "20150331                                     0.011885   \n",
       "20160331                                     0.011704   \n",
       "20170331                                     0.011807   \n",
       "20180331                                     0.011641   \n",
       "20190331                                     0.011600   \n",
       "20200331                                          NaN   \n",
       "20210331                                     0.011108   \n",
       "20220331                                     0.011126   \n",
       "20230331                                     0.010559   \n",
       "\n",
       "KeyStatistic  Publicly Funded Without Nursing Care (GBP)  \\\n",
       "Date                                                       \n",
       "20100331                                        0.000000   \n",
       "20110331                                        0.012027   \n",
       "20120331                                        0.011592   \n",
       "20130331                                        0.011453   \n",
       "20140331                                        0.011432   \n",
       "20150331                                        0.011248   \n",
       "20160331                                        0.011029   \n",
       "20170331                                        0.010993   \n",
       "20180331                                        0.010935   \n",
       "20190331                                        0.010730   \n",
       "20200331                                             NaN   \n",
       "20210331                                        0.010340   \n",
       "20220331                                        0.010294   \n",
       "20230331                                        0.009839   \n",
       "\n",
       "KeyStatistic  Self Funded With Nursing Care (GBP)  \\\n",
       "Date                                                \n",
       "20100331                                 0.505859   \n",
       "20110331                                 0.482118   \n",
       "20120331                                 0.486515   \n",
       "20130331                                 0.487239   \n",
       "20140331                                 0.484694   \n",
       "20150331                                 0.485887   \n",
       "20160331                                 0.487576   \n",
       "20170331                                 0.488972   \n",
       "20180331                                 0.491405   \n",
       "20190331                                 0.492178   \n",
       "20200331                                      NaN   \n",
       "20210331                                 0.495983   \n",
       "20220331                                 0.494430   \n",
       "20230331                                 0.493235   \n",
       "\n",
       "KeyStatistic  Self Funded Without Nursing Care (GBP)  \n",
       "Date                                                  \n",
       "20100331                                    0.494141  \n",
       "20110331                                    0.466082  \n",
       "20120331                                    0.463330  \n",
       "20130331                                    0.462890  \n",
       "20140331                                    0.465614  \n",
       "20150331                                    0.464934  \n",
       "20160331                                    0.463876  \n",
       "20170331                                    0.462380  \n",
       "20180331                                    0.460159  \n",
       "20190331                                    0.459492  \n",
       "20200331                                         NaN  \n",
       "20210331                                    0.457026  \n",
       "20220331                                    0.458504  \n",
       "20230331                                    0.461327  "
      ]
     },
     "execution_count": 34,
     "metadata": {},
     "output_type": "execute_result"
    }
   ],
   "source": [
    "care_home_charges_scot_perc = care_home_charges_scot_perc.drop(columns = \"Annual total\")\n",
    "care_home_charges_scot_perc"
   ]
  },
  {
   "cell_type": "code",
   "execution_count": 35,
   "id": "a40fe6f0",
   "metadata": {},
   "outputs": [
    {
     "data": {
      "text/html": [
       "<div>\n",
       "<style scoped>\n",
       "    .dataframe tbody tr th:only-of-type {\n",
       "        vertical-align: middle;\n",
       "    }\n",
       "\n",
       "    .dataframe tbody tr th {\n",
       "        vertical-align: top;\n",
       "    }\n",
       "\n",
       "    .dataframe thead th {\n",
       "        text-align: right;\n",
       "    }\n",
       "</style>\n",
       "<table border=\"1\" class=\"dataframe\">\n",
       "  <thead>\n",
       "    <tr style=\"text-align: right;\">\n",
       "      <th>KeyStatistic</th>\n",
       "      <th>All Funded With Nursing Care (GBP)</th>\n",
       "      <th>All Funded Without Nursing Care (GBP)</th>\n",
       "      <th>Publicly Funded With Nursing Care (GBP)</th>\n",
       "      <th>Publicly Funded Without Nursing Care (GBP)</th>\n",
       "      <th>Self Funded With Nursing Care (GBP)</th>\n",
       "      <th>Self Funded Without Nursing Care (GBP)</th>\n",
       "    </tr>\n",
       "    <tr>\n",
       "      <th>Date</th>\n",
       "      <th></th>\n",
       "      <th></th>\n",
       "      <th></th>\n",
       "      <th></th>\n",
       "      <th></th>\n",
       "      <th></th>\n",
       "    </tr>\n",
       "  </thead>\n",
       "  <tbody>\n",
       "    <tr>\n",
       "      <th>20100331</th>\n",
       "      <td>0.000000</td>\n",
       "      <td>0.000000</td>\n",
       "      <td>0.000000</td>\n",
       "      <td>0.000000</td>\n",
       "      <td>0.505859</td>\n",
       "      <td>0.494141</td>\n",
       "    </tr>\n",
       "    <tr>\n",
       "      <th>20110331</th>\n",
       "      <td>0.014111</td>\n",
       "      <td>0.012956</td>\n",
       "      <td>0.012706</td>\n",
       "      <td>0.012027</td>\n",
       "      <td>0.482118</td>\n",
       "      <td>0.466082</td>\n",
       "    </tr>\n",
       "    <tr>\n",
       "      <th>20120331</th>\n",
       "      <td>0.013624</td>\n",
       "      <td>0.012662</td>\n",
       "      <td>0.012277</td>\n",
       "      <td>0.011592</td>\n",
       "      <td>0.486515</td>\n",
       "      <td>0.463330</td>\n",
       "    </tr>\n",
       "    <tr>\n",
       "      <th>20130331</th>\n",
       "      <td>0.013575</td>\n",
       "      <td>0.012669</td>\n",
       "      <td>0.012174</td>\n",
       "      <td>0.011453</td>\n",
       "      <td>0.487239</td>\n",
       "      <td>0.462890</td>\n",
       "    </tr>\n",
       "    <tr>\n",
       "      <th>20140331</th>\n",
       "      <td>0.013563</td>\n",
       "      <td>0.012607</td>\n",
       "      <td>0.012089</td>\n",
       "      <td>0.011432</td>\n",
       "      <td>0.484694</td>\n",
       "      <td>0.465614</td>\n",
       "    </tr>\n",
       "    <tr>\n",
       "      <th>20150331</th>\n",
       "      <td>0.013467</td>\n",
       "      <td>0.012579</td>\n",
       "      <td>0.011885</td>\n",
       "      <td>0.011248</td>\n",
       "      <td>0.485887</td>\n",
       "      <td>0.464934</td>\n",
       "    </tr>\n",
       "    <tr>\n",
       "      <th>20160331</th>\n",
       "      <td>0.013363</td>\n",
       "      <td>0.012451</td>\n",
       "      <td>0.011704</td>\n",
       "      <td>0.011029</td>\n",
       "      <td>0.487576</td>\n",
       "      <td>0.463876</td>\n",
       "    </tr>\n",
       "    <tr>\n",
       "      <th>20170331</th>\n",
       "      <td>0.013434</td>\n",
       "      <td>0.012413</td>\n",
       "      <td>0.011807</td>\n",
       "      <td>0.010993</td>\n",
       "      <td>0.488972</td>\n",
       "      <td>0.462380</td>\n",
       "    </tr>\n",
       "    <tr>\n",
       "      <th>20180331</th>\n",
       "      <td>0.013464</td>\n",
       "      <td>0.012396</td>\n",
       "      <td>0.011641</td>\n",
       "      <td>0.010935</td>\n",
       "      <td>0.491405</td>\n",
       "      <td>0.460159</td>\n",
       "    </tr>\n",
       "    <tr>\n",
       "      <th>20190331</th>\n",
       "      <td>0.013575</td>\n",
       "      <td>0.012425</td>\n",
       "      <td>0.011600</td>\n",
       "      <td>0.010730</td>\n",
       "      <td>0.492178</td>\n",
       "      <td>0.459492</td>\n",
       "    </tr>\n",
       "    <tr>\n",
       "      <th>20200331</th>\n",
       "      <td>NaN</td>\n",
       "      <td>NaN</td>\n",
       "      <td>NaN</td>\n",
       "      <td>NaN</td>\n",
       "      <td>NaN</td>\n",
       "      <td>NaN</td>\n",
       "    </tr>\n",
       "    <tr>\n",
       "      <th>20210331</th>\n",
       "      <td>0.013330</td>\n",
       "      <td>0.012212</td>\n",
       "      <td>0.011108</td>\n",
       "      <td>0.010340</td>\n",
       "      <td>0.495983</td>\n",
       "      <td>0.457026</td>\n",
       "    </tr>\n",
       "    <tr>\n",
       "      <th>20220331</th>\n",
       "      <td>0.013414</td>\n",
       "      <td>0.012231</td>\n",
       "      <td>0.011126</td>\n",
       "      <td>0.010294</td>\n",
       "      <td>0.494430</td>\n",
       "      <td>0.458504</td>\n",
       "    </tr>\n",
       "    <tr>\n",
       "      <th>20230331</th>\n",
       "      <td>0.013019</td>\n",
       "      <td>0.012021</td>\n",
       "      <td>0.010559</td>\n",
       "      <td>0.009839</td>\n",
       "      <td>0.493235</td>\n",
       "      <td>0.461327</td>\n",
       "    </tr>\n",
       "  </tbody>\n",
       "</table>\n",
       "</div>"
      ],
      "text/plain": [
       "KeyStatistic  All Funded With Nursing Care (GBP)  \\\n",
       "Date                                               \n",
       "20100331                                0.000000   \n",
       "20110331                                0.014111   \n",
       "20120331                                0.013624   \n",
       "20130331                                0.013575   \n",
       "20140331                                0.013563   \n",
       "20150331                                0.013467   \n",
       "20160331                                0.013363   \n",
       "20170331                                0.013434   \n",
       "20180331                                0.013464   \n",
       "20190331                                0.013575   \n",
       "20200331                                     NaN   \n",
       "20210331                                0.013330   \n",
       "20220331                                0.013414   \n",
       "20230331                                0.013019   \n",
       "\n",
       "KeyStatistic  All Funded Without Nursing Care (GBP)  \\\n",
       "Date                                                  \n",
       "20100331                                   0.000000   \n",
       "20110331                                   0.012956   \n",
       "20120331                                   0.012662   \n",
       "20130331                                   0.012669   \n",
       "20140331                                   0.012607   \n",
       "20150331                                   0.012579   \n",
       "20160331                                   0.012451   \n",
       "20170331                                   0.012413   \n",
       "20180331                                   0.012396   \n",
       "20190331                                   0.012425   \n",
       "20200331                                        NaN   \n",
       "20210331                                   0.012212   \n",
       "20220331                                   0.012231   \n",
       "20230331                                   0.012021   \n",
       "\n",
       "KeyStatistic  Publicly Funded With Nursing Care (GBP)  \\\n",
       "Date                                                    \n",
       "20100331                                     0.000000   \n",
       "20110331                                     0.012706   \n",
       "20120331                                     0.012277   \n",
       "20130331                                     0.012174   \n",
       "20140331                                     0.012089   \n",
       "20150331                                     0.011885   \n",
       "20160331                                     0.011704   \n",
       "20170331                                     0.011807   \n",
       "20180331                                     0.011641   \n",
       "20190331                                     0.011600   \n",
       "20200331                                          NaN   \n",
       "20210331                                     0.011108   \n",
       "20220331                                     0.011126   \n",
       "20230331                                     0.010559   \n",
       "\n",
       "KeyStatistic  Publicly Funded Without Nursing Care (GBP)  \\\n",
       "Date                                                       \n",
       "20100331                                        0.000000   \n",
       "20110331                                        0.012027   \n",
       "20120331                                        0.011592   \n",
       "20130331                                        0.011453   \n",
       "20140331                                        0.011432   \n",
       "20150331                                        0.011248   \n",
       "20160331                                        0.011029   \n",
       "20170331                                        0.010993   \n",
       "20180331                                        0.010935   \n",
       "20190331                                        0.010730   \n",
       "20200331                                             NaN   \n",
       "20210331                                        0.010340   \n",
       "20220331                                        0.010294   \n",
       "20230331                                        0.009839   \n",
       "\n",
       "KeyStatistic  Self Funded With Nursing Care (GBP)  \\\n",
       "Date                                                \n",
       "20100331                                 0.505859   \n",
       "20110331                                 0.482118   \n",
       "20120331                                 0.486515   \n",
       "20130331                                 0.487239   \n",
       "20140331                                 0.484694   \n",
       "20150331                                 0.485887   \n",
       "20160331                                 0.487576   \n",
       "20170331                                 0.488972   \n",
       "20180331                                 0.491405   \n",
       "20190331                                 0.492178   \n",
       "20200331                                      NaN   \n",
       "20210331                                 0.495983   \n",
       "20220331                                 0.494430   \n",
       "20230331                                 0.493235   \n",
       "\n",
       "KeyStatistic  Self Funded Without Nursing Care (GBP)  \n",
       "Date                                                  \n",
       "20100331                                    0.494141  \n",
       "20110331                                    0.466082  \n",
       "20120331                                    0.463330  \n",
       "20130331                                    0.462890  \n",
       "20140331                                    0.465614  \n",
       "20150331                                    0.464934  \n",
       "20160331                                    0.463876  \n",
       "20170331                                    0.462380  \n",
       "20180331                                    0.460159  \n",
       "20190331                                    0.459492  \n",
       "20200331                                         NaN  \n",
       "20210331                                    0.457026  \n",
       "20220331                                    0.458504  \n",
       "20230331                                    0.461327  "
      ]
     },
     "execution_count": 35,
     "metadata": {},
     "output_type": "execute_result"
    }
   ],
   "source": [
    "care_home_charges_scot_perc"
   ]
  },
  {
   "cell_type": "code",
   "execution_count": 36,
   "id": "659f1999",
   "metadata": {},
   "outputs": [
    {
     "data": {
      "application/vnd.plotly.v1+json": {
       "config": {
        "plotlyServerURL": "https://plot.ly"
       },
       "data": [
        {
         "fill": "toself",
         "name": "2010",
         "r": [
          0,
          0,
          0,
          0,
          0.5058592292190183,
          0.4941407707809818
         ],
         "theta": [
          "All Funded With Nursing Care (GBP)",
          "All Funded Without Nursing Care (GBP)",
          "Publicly Funded With Nursing Care (GBP)",
          "Publicly Funded Without Nursing Care (GBP)",
          "Self Funded With Nursing Care (GBP)",
          "Self Funded Without Nursing Care (GBP)"
         ],
         "type": "scatterpolar"
        }
       ],
       "layout": {
        "template": {
         "data": {
          "bar": [
           {
            "error_x": {
             "color": "#2a3f5f"
            },
            "error_y": {
             "color": "#2a3f5f"
            },
            "marker": {
             "line": {
              "color": "#E5ECF6",
              "width": 0.5
             },
             "pattern": {
              "fillmode": "overlay",
              "size": 10,
              "solidity": 0.2
             }
            },
            "type": "bar"
           }
          ],
          "barpolar": [
           {
            "marker": {
             "line": {
              "color": "#E5ECF6",
              "width": 0.5
             },
             "pattern": {
              "fillmode": "overlay",
              "size": 10,
              "solidity": 0.2
             }
            },
            "type": "barpolar"
           }
          ],
          "carpet": [
           {
            "aaxis": {
             "endlinecolor": "#2a3f5f",
             "gridcolor": "white",
             "linecolor": "white",
             "minorgridcolor": "white",
             "startlinecolor": "#2a3f5f"
            },
            "baxis": {
             "endlinecolor": "#2a3f5f",
             "gridcolor": "white",
             "linecolor": "white",
             "minorgridcolor": "white",
             "startlinecolor": "#2a3f5f"
            },
            "type": "carpet"
           }
          ],
          "choropleth": [
           {
            "colorbar": {
             "outlinewidth": 0,
             "ticks": ""
            },
            "type": "choropleth"
           }
          ],
          "contour": [
           {
            "colorbar": {
             "outlinewidth": 0,
             "ticks": ""
            },
            "colorscale": [
             [
              0,
              "#0d0887"
             ],
             [
              0.1111111111111111,
              "#46039f"
             ],
             [
              0.2222222222222222,
              "#7201a8"
             ],
             [
              0.3333333333333333,
              "#9c179e"
             ],
             [
              0.4444444444444444,
              "#bd3786"
             ],
             [
              0.5555555555555556,
              "#d8576b"
             ],
             [
              0.6666666666666666,
              "#ed7953"
             ],
             [
              0.7777777777777778,
              "#fb9f3a"
             ],
             [
              0.8888888888888888,
              "#fdca26"
             ],
             [
              1,
              "#f0f921"
             ]
            ],
            "type": "contour"
           }
          ],
          "contourcarpet": [
           {
            "colorbar": {
             "outlinewidth": 0,
             "ticks": ""
            },
            "type": "contourcarpet"
           }
          ],
          "heatmap": [
           {
            "colorbar": {
             "outlinewidth": 0,
             "ticks": ""
            },
            "colorscale": [
             [
              0,
              "#0d0887"
             ],
             [
              0.1111111111111111,
              "#46039f"
             ],
             [
              0.2222222222222222,
              "#7201a8"
             ],
             [
              0.3333333333333333,
              "#9c179e"
             ],
             [
              0.4444444444444444,
              "#bd3786"
             ],
             [
              0.5555555555555556,
              "#d8576b"
             ],
             [
              0.6666666666666666,
              "#ed7953"
             ],
             [
              0.7777777777777778,
              "#fb9f3a"
             ],
             [
              0.8888888888888888,
              "#fdca26"
             ],
             [
              1,
              "#f0f921"
             ]
            ],
            "type": "heatmap"
           }
          ],
          "heatmapgl": [
           {
            "colorbar": {
             "outlinewidth": 0,
             "ticks": ""
            },
            "colorscale": [
             [
              0,
              "#0d0887"
             ],
             [
              0.1111111111111111,
              "#46039f"
             ],
             [
              0.2222222222222222,
              "#7201a8"
             ],
             [
              0.3333333333333333,
              "#9c179e"
             ],
             [
              0.4444444444444444,
              "#bd3786"
             ],
             [
              0.5555555555555556,
              "#d8576b"
             ],
             [
              0.6666666666666666,
              "#ed7953"
             ],
             [
              0.7777777777777778,
              "#fb9f3a"
             ],
             [
              0.8888888888888888,
              "#fdca26"
             ],
             [
              1,
              "#f0f921"
             ]
            ],
            "type": "heatmapgl"
           }
          ],
          "histogram": [
           {
            "marker": {
             "pattern": {
              "fillmode": "overlay",
              "size": 10,
              "solidity": 0.2
             }
            },
            "type": "histogram"
           }
          ],
          "histogram2d": [
           {
            "colorbar": {
             "outlinewidth": 0,
             "ticks": ""
            },
            "colorscale": [
             [
              0,
              "#0d0887"
             ],
             [
              0.1111111111111111,
              "#46039f"
             ],
             [
              0.2222222222222222,
              "#7201a8"
             ],
             [
              0.3333333333333333,
              "#9c179e"
             ],
             [
              0.4444444444444444,
              "#bd3786"
             ],
             [
              0.5555555555555556,
              "#d8576b"
             ],
             [
              0.6666666666666666,
              "#ed7953"
             ],
             [
              0.7777777777777778,
              "#fb9f3a"
             ],
             [
              0.8888888888888888,
              "#fdca26"
             ],
             [
              1,
              "#f0f921"
             ]
            ],
            "type": "histogram2d"
           }
          ],
          "histogram2dcontour": [
           {
            "colorbar": {
             "outlinewidth": 0,
             "ticks": ""
            },
            "colorscale": [
             [
              0,
              "#0d0887"
             ],
             [
              0.1111111111111111,
              "#46039f"
             ],
             [
              0.2222222222222222,
              "#7201a8"
             ],
             [
              0.3333333333333333,
              "#9c179e"
             ],
             [
              0.4444444444444444,
              "#bd3786"
             ],
             [
              0.5555555555555556,
              "#d8576b"
             ],
             [
              0.6666666666666666,
              "#ed7953"
             ],
             [
              0.7777777777777778,
              "#fb9f3a"
             ],
             [
              0.8888888888888888,
              "#fdca26"
             ],
             [
              1,
              "#f0f921"
             ]
            ],
            "type": "histogram2dcontour"
           }
          ],
          "mesh3d": [
           {
            "colorbar": {
             "outlinewidth": 0,
             "ticks": ""
            },
            "type": "mesh3d"
           }
          ],
          "parcoords": [
           {
            "line": {
             "colorbar": {
              "outlinewidth": 0,
              "ticks": ""
             }
            },
            "type": "parcoords"
           }
          ],
          "pie": [
           {
            "automargin": true,
            "type": "pie"
           }
          ],
          "scatter": [
           {
            "fillpattern": {
             "fillmode": "overlay",
             "size": 10,
             "solidity": 0.2
            },
            "type": "scatter"
           }
          ],
          "scatter3d": [
           {
            "line": {
             "colorbar": {
              "outlinewidth": 0,
              "ticks": ""
             }
            },
            "marker": {
             "colorbar": {
              "outlinewidth": 0,
              "ticks": ""
             }
            },
            "type": "scatter3d"
           }
          ],
          "scattercarpet": [
           {
            "marker": {
             "colorbar": {
              "outlinewidth": 0,
              "ticks": ""
             }
            },
            "type": "scattercarpet"
           }
          ],
          "scattergeo": [
           {
            "marker": {
             "colorbar": {
              "outlinewidth": 0,
              "ticks": ""
             }
            },
            "type": "scattergeo"
           }
          ],
          "scattergl": [
           {
            "marker": {
             "colorbar": {
              "outlinewidth": 0,
              "ticks": ""
             }
            },
            "type": "scattergl"
           }
          ],
          "scattermapbox": [
           {
            "marker": {
             "colorbar": {
              "outlinewidth": 0,
              "ticks": ""
             }
            },
            "type": "scattermapbox"
           }
          ],
          "scatterpolar": [
           {
            "marker": {
             "colorbar": {
              "outlinewidth": 0,
              "ticks": ""
             }
            },
            "type": "scatterpolar"
           }
          ],
          "scatterpolargl": [
           {
            "marker": {
             "colorbar": {
              "outlinewidth": 0,
              "ticks": ""
             }
            },
            "type": "scatterpolargl"
           }
          ],
          "scatterternary": [
           {
            "marker": {
             "colorbar": {
              "outlinewidth": 0,
              "ticks": ""
             }
            },
            "type": "scatterternary"
           }
          ],
          "surface": [
           {
            "colorbar": {
             "outlinewidth": 0,
             "ticks": ""
            },
            "colorscale": [
             [
              0,
              "#0d0887"
             ],
             [
              0.1111111111111111,
              "#46039f"
             ],
             [
              0.2222222222222222,
              "#7201a8"
             ],
             [
              0.3333333333333333,
              "#9c179e"
             ],
             [
              0.4444444444444444,
              "#bd3786"
             ],
             [
              0.5555555555555556,
              "#d8576b"
             ],
             [
              0.6666666666666666,
              "#ed7953"
             ],
             [
              0.7777777777777778,
              "#fb9f3a"
             ],
             [
              0.8888888888888888,
              "#fdca26"
             ],
             [
              1,
              "#f0f921"
             ]
            ],
            "type": "surface"
           }
          ],
          "table": [
           {
            "cells": {
             "fill": {
              "color": "#EBF0F8"
             },
             "line": {
              "color": "white"
             }
            },
            "header": {
             "fill": {
              "color": "#C8D4E3"
             },
             "line": {
              "color": "white"
             }
            },
            "type": "table"
           }
          ]
         },
         "layout": {
          "annotationdefaults": {
           "arrowcolor": "#2a3f5f",
           "arrowhead": 0,
           "arrowwidth": 1
          },
          "autotypenumbers": "strict",
          "coloraxis": {
           "colorbar": {
            "outlinewidth": 0,
            "ticks": ""
           }
          },
          "colorscale": {
           "diverging": [
            [
             0,
             "#8e0152"
            ],
            [
             0.1,
             "#c51b7d"
            ],
            [
             0.2,
             "#de77ae"
            ],
            [
             0.3,
             "#f1b6da"
            ],
            [
             0.4,
             "#fde0ef"
            ],
            [
             0.5,
             "#f7f7f7"
            ],
            [
             0.6,
             "#e6f5d0"
            ],
            [
             0.7,
             "#b8e186"
            ],
            [
             0.8,
             "#7fbc41"
            ],
            [
             0.9,
             "#4d9221"
            ],
            [
             1,
             "#276419"
            ]
           ],
           "sequential": [
            [
             0,
             "#0d0887"
            ],
            [
             0.1111111111111111,
             "#46039f"
            ],
            [
             0.2222222222222222,
             "#7201a8"
            ],
            [
             0.3333333333333333,
             "#9c179e"
            ],
            [
             0.4444444444444444,
             "#bd3786"
            ],
            [
             0.5555555555555556,
             "#d8576b"
            ],
            [
             0.6666666666666666,
             "#ed7953"
            ],
            [
             0.7777777777777778,
             "#fb9f3a"
            ],
            [
             0.8888888888888888,
             "#fdca26"
            ],
            [
             1,
             "#f0f921"
            ]
           ],
           "sequentialminus": [
            [
             0,
             "#0d0887"
            ],
            [
             0.1111111111111111,
             "#46039f"
            ],
            [
             0.2222222222222222,
             "#7201a8"
            ],
            [
             0.3333333333333333,
             "#9c179e"
            ],
            [
             0.4444444444444444,
             "#bd3786"
            ],
            [
             0.5555555555555556,
             "#d8576b"
            ],
            [
             0.6666666666666666,
             "#ed7953"
            ],
            [
             0.7777777777777778,
             "#fb9f3a"
            ],
            [
             0.8888888888888888,
             "#fdca26"
            ],
            [
             1,
             "#f0f921"
            ]
           ]
          },
          "colorway": [
           "#636efa",
           "#EF553B",
           "#00cc96",
           "#ab63fa",
           "#FFA15A",
           "#19d3f3",
           "#FF6692",
           "#B6E880",
           "#FF97FF",
           "#FECB52"
          ],
          "font": {
           "color": "#2a3f5f"
          },
          "geo": {
           "bgcolor": "white",
           "lakecolor": "white",
           "landcolor": "#E5ECF6",
           "showlakes": true,
           "showland": true,
           "subunitcolor": "white"
          },
          "hoverlabel": {
           "align": "left"
          },
          "hovermode": "closest",
          "mapbox": {
           "style": "light"
          },
          "paper_bgcolor": "white",
          "plot_bgcolor": "#E5ECF6",
          "polar": {
           "angularaxis": {
            "gridcolor": "white",
            "linecolor": "white",
            "ticks": ""
           },
           "bgcolor": "#E5ECF6",
           "radialaxis": {
            "gridcolor": "white",
            "linecolor": "white",
            "ticks": ""
           }
          },
          "scene": {
           "xaxis": {
            "backgroundcolor": "#E5ECF6",
            "gridcolor": "white",
            "gridwidth": 2,
            "linecolor": "white",
            "showbackground": true,
            "ticks": "",
            "zerolinecolor": "white"
           },
           "yaxis": {
            "backgroundcolor": "#E5ECF6",
            "gridcolor": "white",
            "gridwidth": 2,
            "linecolor": "white",
            "showbackground": true,
            "ticks": "",
            "zerolinecolor": "white"
           },
           "zaxis": {
            "backgroundcolor": "#E5ECF6",
            "gridcolor": "white",
            "gridwidth": 2,
            "linecolor": "white",
            "showbackground": true,
            "ticks": "",
            "zerolinecolor": "white"
           }
          },
          "shapedefaults": {
           "line": {
            "color": "#2a3f5f"
           }
          },
          "ternary": {
           "aaxis": {
            "gridcolor": "white",
            "linecolor": "white",
            "ticks": ""
           },
           "baxis": {
            "gridcolor": "white",
            "linecolor": "white",
            "ticks": ""
           },
           "bgcolor": "#E5ECF6",
           "caxis": {
            "gridcolor": "white",
            "linecolor": "white",
            "ticks": ""
           }
          },
          "title": {
           "x": 0.05
          },
          "xaxis": {
           "automargin": true,
           "gridcolor": "white",
           "linecolor": "white",
           "ticks": "",
           "title": {
            "standoff": 15
           },
           "zerolinecolor": "white",
           "zerolinewidth": 2
          },
          "yaxis": {
           "automargin": true,
           "gridcolor": "white",
           "linecolor": "white",
           "ticks": "",
           "title": {
            "standoff": 15
           },
           "zerolinecolor": "white",
           "zerolinewidth": 2
          }
         }
        }
       }
      }
     },
     "metadata": {},
     "output_type": "display_data"
    }
   ],
   "source": [
    "# Showing spider plot (percentage in 2010)\n",
    "fig = go.Figure()\n",
    "\n",
    "fig.add_trace(go.Scatterpolar(\n",
    "    r = care_home_charges_scot_perc.iloc[0].tolist(),\n",
    "    theta = care_home_charges_scot_perc.columns.values.tolist(),\n",
    "    fill = \"toself\",\n",
    "    name = str(care_home_charges_scot_perc.index[0]).replace(\"0331\",\"\")\n",
    "))\n",
    "\n",
    "fig.show()\n"
   ]
  },
  {
   "cell_type": "code",
   "execution_count": 37,
   "id": "f8206331",
   "metadata": {},
   "outputs": [
    {
     "data": {
      "application/vnd.plotly.v1+json": {
       "config": {
        "plotlyServerURL": "https://plot.ly"
       },
       "data": [
        {
         "fill": "toself",
         "name": "2010",
         "r": [
          0,
          0,
          0,
          0,
          0.5058592292190183,
          0.4941407707809818
         ],
         "theta": [
          "All Funded With Nursing Care (GBP)",
          "All Funded Without Nursing Care (GBP)",
          "Publicly Funded With Nursing Care (GBP)",
          "Publicly Funded Without Nursing Care (GBP)",
          "Self Funded With Nursing Care (GBP)",
          "Self Funded Without Nursing Care (GBP)"
         ],
         "type": "scatterpolar"
        },
        {
         "fill": "toself",
         "name": "2011",
         "r": [
          0.014110665670086748,
          0.01295553894589024,
          0.012706393966161581,
          0.012026907657810695,
          0.4821181853185658,
          0.4660823084414849
         ],
         "theta": [
          "All Funded With Nursing Care (GBP)",
          "All Funded Without Nursing Care (GBP)",
          "Publicly Funded With Nursing Care (GBP)",
          "Publicly Funded Without Nursing Care (GBP)",
          "Self Funded With Nursing Care (GBP)",
          "Self Funded Without Nursing Care (GBP)"
         ],
         "type": "scatterpolar"
        },
        {
         "fill": "toself",
         "name": "2012",
         "r": [
          0.013624211314297936,
          0.01266174740669447,
          0.012276761843653086,
          0.011592343064912844,
          0.4865148112501337,
          0.46333012512030797
         ],
         "theta": [
          "All Funded With Nursing Care (GBP)",
          "All Funded Without Nursing Care (GBP)",
          "Publicly Funded With Nursing Care (GBP)",
          "Publicly Funded Without Nursing Care (GBP)",
          "Self Funded With Nursing Care (GBP)",
          "Self Funded Without Nursing Care (GBP)"
         ],
         "type": "scatterpolar"
        },
        {
         "fill": "toself",
         "name": "2013",
         "r": [
          0.0135750334740962,
          0.012668657946235451,
          0.012174271294675043,
          0.011453290761149449,
          0.487238644556597,
          0.4628901019672469
         ],
         "theta": [
          "All Funded With Nursing Care (GBP)",
          "All Funded Without Nursing Care (GBP)",
          "Publicly Funded With Nursing Care (GBP)",
          "Publicly Funded Without Nursing Care (GBP)",
          "Self Funded With Nursing Care (GBP)",
          "Self Funded Without Nursing Care (GBP)"
         ],
         "type": "scatterpolar"
        },
        {
         "fill": "toself",
         "name": "2014",
         "r": [
          0.013563305383496982,
          0.012607301479814375,
          0.012089466031986297,
          0.011432213348204505,
          0.4846939791670816,
          0.46561373458941624
         ],
         "theta": [
          "All Funded With Nursing Care (GBP)",
          "All Funded Without Nursing Care (GBP)",
          "Publicly Funded With Nursing Care (GBP)",
          "Publicly Funded Without Nursing Care (GBP)",
          "Self Funded With Nursing Care (GBP)",
          "Self Funded Without Nursing Care (GBP)"
         ],
         "type": "scatterpolar"
        },
        {
         "fill": "toself",
         "name": "2015",
         "r": [
          0.013466844166618433,
          0.012579344407786845,
          0.011884779379136038,
          0.011248094769539465,
          0.48588682448727594,
          0.46493411278964325
         ],
         "theta": [
          "All Funded With Nursing Care (GBP)",
          "All Funded Without Nursing Care (GBP)",
          "Publicly Funded With Nursing Care (GBP)",
          "Publicly Funded Without Nursing Care (GBP)",
          "Self Funded With Nursing Care (GBP)",
          "Self Funded Without Nursing Care (GBP)"
         ],
         "type": "scatterpolar"
        },
        {
         "fill": "toself",
         "name": "2016",
         "r": [
          0.013362988350682734,
          0.012451461178057718,
          0.011704008896505205,
          0.011029478788762693,
          0.48757588463712104,
          0.4638761781488706
         ],
         "theta": [
          "All Funded With Nursing Care (GBP)",
          "All Funded Without Nursing Care (GBP)",
          "Publicly Funded With Nursing Care (GBP)",
          "Publicly Funded Without Nursing Care (GBP)",
          "Self Funded With Nursing Care (GBP)",
          "Self Funded Without Nursing Care (GBP)"
         ],
         "type": "scatterpolar"
        },
        {
         "fill": "toself",
         "name": "2017",
         "r": [
          0.01343443786572487,
          0.012413005089851459,
          0.011807070392299435,
          0.010993386655586718,
          0.48897198850455315,
          0.4623801114919843
         ],
         "theta": [
          "All Funded With Nursing Care (GBP)",
          "All Funded Without Nursing Care (GBP)",
          "Publicly Funded With Nursing Care (GBP)",
          "Publicly Funded Without Nursing Care (GBP)",
          "Self Funded With Nursing Care (GBP)",
          "Self Funded Without Nursing Care (GBP)"
         ],
         "type": "scatterpolar"
        },
        {
         "fill": "toself",
         "name": "2018",
         "r": [
          0.013463590838190626,
          0.012396354979065757,
          0.011641080371069699,
          0.010935062802725557,
          0.4914046465807405,
          0.46015926442820787
         ],
         "theta": [
          "All Funded With Nursing Care (GBP)",
          "All Funded Without Nursing Care (GBP)",
          "Publicly Funded With Nursing Care (GBP)",
          "Publicly Funded Without Nursing Care (GBP)",
          "Self Funded With Nursing Care (GBP)",
          "Self Funded Without Nursing Care (GBP)"
         ],
         "type": "scatterpolar"
        },
        {
         "fill": "toself",
         "name": "2019",
         "r": [
          0.01357529389811532,
          0.012424581700566026,
          0.011600422964483423,
          0.01072961373390558,
          0.49217826708963114,
          0.4594918206132985
         ],
         "theta": [
          "All Funded With Nursing Care (GBP)",
          "All Funded Without Nursing Care (GBP)",
          "Publicly Funded With Nursing Care (GBP)",
          "Publicly Funded Without Nursing Care (GBP)",
          "Self Funded With Nursing Care (GBP)",
          "Self Funded Without Nursing Care (GBP)"
         ],
         "type": "scatterpolar"
        },
        {
         "fill": "toself",
         "name": "2020",
         "r": [
          null,
          null,
          null,
          null,
          null,
          null
         ],
         "theta": [
          "All Funded With Nursing Care (GBP)",
          "All Funded Without Nursing Care (GBP)",
          "Publicly Funded With Nursing Care (GBP)",
          "Publicly Funded Without Nursing Care (GBP)",
          "Self Funded With Nursing Care (GBP)",
          "Self Funded Without Nursing Care (GBP)"
         ],
         "type": "scatterpolar"
        },
        {
         "fill": "toself",
         "name": "2021",
         "r": [
          0.013330166138024508,
          0.012212332499615744,
          0.01110847178168709,
          0.010339961155281066,
          0.4959827853619685,
          0.4570262830634231
         ],
         "theta": [
          "All Funded With Nursing Care (GBP)",
          "All Funded Without Nursing Care (GBP)",
          "Publicly Funded With Nursing Care (GBP)",
          "Publicly Funded Without Nursing Care (GBP)",
          "Self Funded With Nursing Care (GBP)",
          "Self Funded Without Nursing Care (GBP)"
         ],
         "type": "scatterpolar"
        },
        {
         "fill": "toself",
         "name": "2022",
         "r": [
          0.013413920842269448,
          0.012231104178852278,
          0.011126275427308768,
          0.010294404367323064,
          0.4944303632936895,
          0.45850393189055694
         ],
         "theta": [
          "All Funded With Nursing Care (GBP)",
          "All Funded Without Nursing Care (GBP)",
          "Publicly Funded With Nursing Care (GBP)",
          "Publicly Funded Without Nursing Care (GBP)",
          "Self Funded With Nursing Care (GBP)",
          "Self Funded Without Nursing Care (GBP)"
         ],
         "type": "scatterpolar"
        },
        {
         "fill": "toself",
         "name": "2023",
         "r": [
          0.01301865775549986,
          0.012020792722547108,
          0.01055880441845354,
          0.009839413348185277,
          0.4932354033231226,
          0.4613269284321916
         ],
         "theta": [
          "All Funded With Nursing Care (GBP)",
          "All Funded Without Nursing Care (GBP)",
          "Publicly Funded With Nursing Care (GBP)",
          "Publicly Funded Without Nursing Care (GBP)",
          "Self Funded With Nursing Care (GBP)",
          "Self Funded Without Nursing Care (GBP)"
         ],
         "type": "scatterpolar"
        }
       ],
       "layout": {
        "template": {
         "data": {
          "bar": [
           {
            "error_x": {
             "color": "#2a3f5f"
            },
            "error_y": {
             "color": "#2a3f5f"
            },
            "marker": {
             "line": {
              "color": "#E5ECF6",
              "width": 0.5
             },
             "pattern": {
              "fillmode": "overlay",
              "size": 10,
              "solidity": 0.2
             }
            },
            "type": "bar"
           }
          ],
          "barpolar": [
           {
            "marker": {
             "line": {
              "color": "#E5ECF6",
              "width": 0.5
             },
             "pattern": {
              "fillmode": "overlay",
              "size": 10,
              "solidity": 0.2
             }
            },
            "type": "barpolar"
           }
          ],
          "carpet": [
           {
            "aaxis": {
             "endlinecolor": "#2a3f5f",
             "gridcolor": "white",
             "linecolor": "white",
             "minorgridcolor": "white",
             "startlinecolor": "#2a3f5f"
            },
            "baxis": {
             "endlinecolor": "#2a3f5f",
             "gridcolor": "white",
             "linecolor": "white",
             "minorgridcolor": "white",
             "startlinecolor": "#2a3f5f"
            },
            "type": "carpet"
           }
          ],
          "choropleth": [
           {
            "colorbar": {
             "outlinewidth": 0,
             "ticks": ""
            },
            "type": "choropleth"
           }
          ],
          "contour": [
           {
            "colorbar": {
             "outlinewidth": 0,
             "ticks": ""
            },
            "colorscale": [
             [
              0,
              "#0d0887"
             ],
             [
              0.1111111111111111,
              "#46039f"
             ],
             [
              0.2222222222222222,
              "#7201a8"
             ],
             [
              0.3333333333333333,
              "#9c179e"
             ],
             [
              0.4444444444444444,
              "#bd3786"
             ],
             [
              0.5555555555555556,
              "#d8576b"
             ],
             [
              0.6666666666666666,
              "#ed7953"
             ],
             [
              0.7777777777777778,
              "#fb9f3a"
             ],
             [
              0.8888888888888888,
              "#fdca26"
             ],
             [
              1,
              "#f0f921"
             ]
            ],
            "type": "contour"
           }
          ],
          "contourcarpet": [
           {
            "colorbar": {
             "outlinewidth": 0,
             "ticks": ""
            },
            "type": "contourcarpet"
           }
          ],
          "heatmap": [
           {
            "colorbar": {
             "outlinewidth": 0,
             "ticks": ""
            },
            "colorscale": [
             [
              0,
              "#0d0887"
             ],
             [
              0.1111111111111111,
              "#46039f"
             ],
             [
              0.2222222222222222,
              "#7201a8"
             ],
             [
              0.3333333333333333,
              "#9c179e"
             ],
             [
              0.4444444444444444,
              "#bd3786"
             ],
             [
              0.5555555555555556,
              "#d8576b"
             ],
             [
              0.6666666666666666,
              "#ed7953"
             ],
             [
              0.7777777777777778,
              "#fb9f3a"
             ],
             [
              0.8888888888888888,
              "#fdca26"
             ],
             [
              1,
              "#f0f921"
             ]
            ],
            "type": "heatmap"
           }
          ],
          "heatmapgl": [
           {
            "colorbar": {
             "outlinewidth": 0,
             "ticks": ""
            },
            "colorscale": [
             [
              0,
              "#0d0887"
             ],
             [
              0.1111111111111111,
              "#46039f"
             ],
             [
              0.2222222222222222,
              "#7201a8"
             ],
             [
              0.3333333333333333,
              "#9c179e"
             ],
             [
              0.4444444444444444,
              "#bd3786"
             ],
             [
              0.5555555555555556,
              "#d8576b"
             ],
             [
              0.6666666666666666,
              "#ed7953"
             ],
             [
              0.7777777777777778,
              "#fb9f3a"
             ],
             [
              0.8888888888888888,
              "#fdca26"
             ],
             [
              1,
              "#f0f921"
             ]
            ],
            "type": "heatmapgl"
           }
          ],
          "histogram": [
           {
            "marker": {
             "pattern": {
              "fillmode": "overlay",
              "size": 10,
              "solidity": 0.2
             }
            },
            "type": "histogram"
           }
          ],
          "histogram2d": [
           {
            "colorbar": {
             "outlinewidth": 0,
             "ticks": ""
            },
            "colorscale": [
             [
              0,
              "#0d0887"
             ],
             [
              0.1111111111111111,
              "#46039f"
             ],
             [
              0.2222222222222222,
              "#7201a8"
             ],
             [
              0.3333333333333333,
              "#9c179e"
             ],
             [
              0.4444444444444444,
              "#bd3786"
             ],
             [
              0.5555555555555556,
              "#d8576b"
             ],
             [
              0.6666666666666666,
              "#ed7953"
             ],
             [
              0.7777777777777778,
              "#fb9f3a"
             ],
             [
              0.8888888888888888,
              "#fdca26"
             ],
             [
              1,
              "#f0f921"
             ]
            ],
            "type": "histogram2d"
           }
          ],
          "histogram2dcontour": [
           {
            "colorbar": {
             "outlinewidth": 0,
             "ticks": ""
            },
            "colorscale": [
             [
              0,
              "#0d0887"
             ],
             [
              0.1111111111111111,
              "#46039f"
             ],
             [
              0.2222222222222222,
              "#7201a8"
             ],
             [
              0.3333333333333333,
              "#9c179e"
             ],
             [
              0.4444444444444444,
              "#bd3786"
             ],
             [
              0.5555555555555556,
              "#d8576b"
             ],
             [
              0.6666666666666666,
              "#ed7953"
             ],
             [
              0.7777777777777778,
              "#fb9f3a"
             ],
             [
              0.8888888888888888,
              "#fdca26"
             ],
             [
              1,
              "#f0f921"
             ]
            ],
            "type": "histogram2dcontour"
           }
          ],
          "mesh3d": [
           {
            "colorbar": {
             "outlinewidth": 0,
             "ticks": ""
            },
            "type": "mesh3d"
           }
          ],
          "parcoords": [
           {
            "line": {
             "colorbar": {
              "outlinewidth": 0,
              "ticks": ""
             }
            },
            "type": "parcoords"
           }
          ],
          "pie": [
           {
            "automargin": true,
            "type": "pie"
           }
          ],
          "scatter": [
           {
            "fillpattern": {
             "fillmode": "overlay",
             "size": 10,
             "solidity": 0.2
            },
            "type": "scatter"
           }
          ],
          "scatter3d": [
           {
            "line": {
             "colorbar": {
              "outlinewidth": 0,
              "ticks": ""
             }
            },
            "marker": {
             "colorbar": {
              "outlinewidth": 0,
              "ticks": ""
             }
            },
            "type": "scatter3d"
           }
          ],
          "scattercarpet": [
           {
            "marker": {
             "colorbar": {
              "outlinewidth": 0,
              "ticks": ""
             }
            },
            "type": "scattercarpet"
           }
          ],
          "scattergeo": [
           {
            "marker": {
             "colorbar": {
              "outlinewidth": 0,
              "ticks": ""
             }
            },
            "type": "scattergeo"
           }
          ],
          "scattergl": [
           {
            "marker": {
             "colorbar": {
              "outlinewidth": 0,
              "ticks": ""
             }
            },
            "type": "scattergl"
           }
          ],
          "scattermapbox": [
           {
            "marker": {
             "colorbar": {
              "outlinewidth": 0,
              "ticks": ""
             }
            },
            "type": "scattermapbox"
           }
          ],
          "scatterpolar": [
           {
            "marker": {
             "colorbar": {
              "outlinewidth": 0,
              "ticks": ""
             }
            },
            "type": "scatterpolar"
           }
          ],
          "scatterpolargl": [
           {
            "marker": {
             "colorbar": {
              "outlinewidth": 0,
              "ticks": ""
             }
            },
            "type": "scatterpolargl"
           }
          ],
          "scatterternary": [
           {
            "marker": {
             "colorbar": {
              "outlinewidth": 0,
              "ticks": ""
             }
            },
            "type": "scatterternary"
           }
          ],
          "surface": [
           {
            "colorbar": {
             "outlinewidth": 0,
             "ticks": ""
            },
            "colorscale": [
             [
              0,
              "#0d0887"
             ],
             [
              0.1111111111111111,
              "#46039f"
             ],
             [
              0.2222222222222222,
              "#7201a8"
             ],
             [
              0.3333333333333333,
              "#9c179e"
             ],
             [
              0.4444444444444444,
              "#bd3786"
             ],
             [
              0.5555555555555556,
              "#d8576b"
             ],
             [
              0.6666666666666666,
              "#ed7953"
             ],
             [
              0.7777777777777778,
              "#fb9f3a"
             ],
             [
              0.8888888888888888,
              "#fdca26"
             ],
             [
              1,
              "#f0f921"
             ]
            ],
            "type": "surface"
           }
          ],
          "table": [
           {
            "cells": {
             "fill": {
              "color": "#EBF0F8"
             },
             "line": {
              "color": "white"
             }
            },
            "header": {
             "fill": {
              "color": "#C8D4E3"
             },
             "line": {
              "color": "white"
             }
            },
            "type": "table"
           }
          ]
         },
         "layout": {
          "annotationdefaults": {
           "arrowcolor": "#2a3f5f",
           "arrowhead": 0,
           "arrowwidth": 1
          },
          "autotypenumbers": "strict",
          "coloraxis": {
           "colorbar": {
            "outlinewidth": 0,
            "ticks": ""
           }
          },
          "colorscale": {
           "diverging": [
            [
             0,
             "#8e0152"
            ],
            [
             0.1,
             "#c51b7d"
            ],
            [
             0.2,
             "#de77ae"
            ],
            [
             0.3,
             "#f1b6da"
            ],
            [
             0.4,
             "#fde0ef"
            ],
            [
             0.5,
             "#f7f7f7"
            ],
            [
             0.6,
             "#e6f5d0"
            ],
            [
             0.7,
             "#b8e186"
            ],
            [
             0.8,
             "#7fbc41"
            ],
            [
             0.9,
             "#4d9221"
            ],
            [
             1,
             "#276419"
            ]
           ],
           "sequential": [
            [
             0,
             "#0d0887"
            ],
            [
             0.1111111111111111,
             "#46039f"
            ],
            [
             0.2222222222222222,
             "#7201a8"
            ],
            [
             0.3333333333333333,
             "#9c179e"
            ],
            [
             0.4444444444444444,
             "#bd3786"
            ],
            [
             0.5555555555555556,
             "#d8576b"
            ],
            [
             0.6666666666666666,
             "#ed7953"
            ],
            [
             0.7777777777777778,
             "#fb9f3a"
            ],
            [
             0.8888888888888888,
             "#fdca26"
            ],
            [
             1,
             "#f0f921"
            ]
           ],
           "sequentialminus": [
            [
             0,
             "#0d0887"
            ],
            [
             0.1111111111111111,
             "#46039f"
            ],
            [
             0.2222222222222222,
             "#7201a8"
            ],
            [
             0.3333333333333333,
             "#9c179e"
            ],
            [
             0.4444444444444444,
             "#bd3786"
            ],
            [
             0.5555555555555556,
             "#d8576b"
            ],
            [
             0.6666666666666666,
             "#ed7953"
            ],
            [
             0.7777777777777778,
             "#fb9f3a"
            ],
            [
             0.8888888888888888,
             "#fdca26"
            ],
            [
             1,
             "#f0f921"
            ]
           ]
          },
          "colorway": [
           "#636efa",
           "#EF553B",
           "#00cc96",
           "#ab63fa",
           "#FFA15A",
           "#19d3f3",
           "#FF6692",
           "#B6E880",
           "#FF97FF",
           "#FECB52"
          ],
          "font": {
           "color": "#2a3f5f"
          },
          "geo": {
           "bgcolor": "white",
           "lakecolor": "white",
           "landcolor": "#E5ECF6",
           "showlakes": true,
           "showland": true,
           "subunitcolor": "white"
          },
          "hoverlabel": {
           "align": "left"
          },
          "hovermode": "closest",
          "mapbox": {
           "style": "light"
          },
          "paper_bgcolor": "white",
          "plot_bgcolor": "#E5ECF6",
          "polar": {
           "angularaxis": {
            "gridcolor": "white",
            "linecolor": "white",
            "ticks": ""
           },
           "bgcolor": "#E5ECF6",
           "radialaxis": {
            "gridcolor": "white",
            "linecolor": "white",
            "ticks": ""
           }
          },
          "scene": {
           "xaxis": {
            "backgroundcolor": "#E5ECF6",
            "gridcolor": "white",
            "gridwidth": 2,
            "linecolor": "white",
            "showbackground": true,
            "ticks": "",
            "zerolinecolor": "white"
           },
           "yaxis": {
            "backgroundcolor": "#E5ECF6",
            "gridcolor": "white",
            "gridwidth": 2,
            "linecolor": "white",
            "showbackground": true,
            "ticks": "",
            "zerolinecolor": "white"
           },
           "zaxis": {
            "backgroundcolor": "#E5ECF6",
            "gridcolor": "white",
            "gridwidth": 2,
            "linecolor": "white",
            "showbackground": true,
            "ticks": "",
            "zerolinecolor": "white"
           }
          },
          "shapedefaults": {
           "line": {
            "color": "#2a3f5f"
           }
          },
          "ternary": {
           "aaxis": {
            "gridcolor": "white",
            "linecolor": "white",
            "ticks": ""
           },
           "baxis": {
            "gridcolor": "white",
            "linecolor": "white",
            "ticks": ""
           },
           "bgcolor": "#E5ECF6",
           "caxis": {
            "gridcolor": "white",
            "linecolor": "white",
            "ticks": ""
           }
          },
          "title": {
           "x": 0.05
          },
          "xaxis": {
           "automargin": true,
           "gridcolor": "white",
           "linecolor": "white",
           "ticks": "",
           "title": {
            "standoff": 15
           },
           "zerolinecolor": "white",
           "zerolinewidth": 2
          },
          "yaxis": {
           "automargin": true,
           "gridcolor": "white",
           "linecolor": "white",
           "ticks": "",
           "title": {
            "standoff": 15
           },
           "zerolinecolor": "white",
           "zerolinewidth": 2
          }
         }
        }
       }
      }
     },
     "metadata": {},
     "output_type": "display_data"
    }
   ],
   "source": [
    "# Showing spider plot with all years (percentage)\n",
    "fig = go.Figure()\n",
    "\n",
    "for year_i in range(0, len(care_home_charges_scot)):\n",
    "    fig.add_trace(go.Scatterpolar(\n",
    "        r = care_home_charges_scot_perc.iloc[year_i].tolist(),\n",
    "        theta = care_home_charges_scot_perc.columns.values.tolist(),\n",
    "        fill = \"toself\",\n",
    "        name = str(care_home_charges_scot_perc.index[year_i]).replace(\"0331\",\"\")\n",
    "    ))\n",
    "\n",
    "\n",
    "fig.show()"
   ]
  }
 ],
 "metadata": {
  "kernelspec": {
   "display_name": "Python 3 (ipykernel)",
   "language": "python",
   "name": "python3"
  },
  "language_info": {
   "codemirror_mode": {
    "name": "ipython",
    "version": 3
   },
   "file_extension": ".py",
   "mimetype": "text/x-python",
   "name": "python",
   "nbconvert_exporter": "python",
   "pygments_lexer": "ipython3",
   "version": "3.12.2"
  }
 },
 "nbformat": 4,
 "nbformat_minor": 5
}
