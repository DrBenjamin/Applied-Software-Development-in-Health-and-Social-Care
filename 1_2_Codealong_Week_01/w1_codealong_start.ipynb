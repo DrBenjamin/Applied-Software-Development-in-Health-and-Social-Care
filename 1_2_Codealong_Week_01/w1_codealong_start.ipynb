{
 "cells": [
  {
   "cell_type": "markdown",
   "metadata": {},
   "source": [
    "### Starting code"
   ]
  },
  {
   "cell_type": "code",
   "execution_count": 1,
   "metadata": {},
   "outputs": [
    {
     "name": "stdout",
     "output_type": "stream",
     "text": [
      "grep: invalid option -- P\n",
      "usage: grep [-abcdDEFGHhIiJLlMmnOopqRSsUVvwXxZz] [-A num] [-B num] [-C[num]]\n",
      "\t[-e pattern] [-f file] [--binary-files=value] [--color=when]\n",
      "\t[--context[=num]] [--directories=action] [--label] [--line-buffered]\n",
      "\t[--null] [pattern] [file ...]\n",
      "Traceback (most recent call last):\n",
      "  File \"/opt/homebrew/Caskroom/miniconda/base/bin/jupyter-notebook\", line 8, in <module>\n",
      "    sys.exit(main())\n",
      "             ^^^^^^\n",
      "  File \"/opt/homebrew/Caskroom/miniconda/base/lib/python3.12/site-packages/jupyter_server/extension/application.py\", line 622, in launch_instance\n",
      "    serverapp.start()\n",
      "  File \"/opt/homebrew/Caskroom/miniconda/base/lib/python3.12/site-packages/jupyter_server/serverapp.py\", line 3118, in start\n",
      "    self.start_app()\n",
      "  File \"/opt/homebrew/Caskroom/miniconda/base/lib/python3.12/site-packages/jupyter_server/serverapp.py\", line 2987, in start_app\n",
      "    super().start()\n",
      "  File \"/opt/homebrew/Caskroom/miniconda/base/lib/python3.12/site-packages/jupyter_core/application.py\", line 270, in start\n",
      "    self.subapp.start()\n",
      "  File \"/opt/homebrew/Caskroom/miniconda/base/lib/python3.12/site-packages/jupyter_server/serverapp.py\", line 786, in start\n",
      "    print(\"Currently running servers:\")\n",
      "BrokenPipeError: [Errno 32] Broken pipe\n",
      "grep: invalid option -- P\n",
      "usage: grep [-abcdDEFGHhIiJLlMmnOopqRSsUVvwXxZz] [-A num] [-B num] [-C[num]]\n",
      "\t[-e pattern] [-f file] [--binary-files=value] [--color=when]\n",
      "\t[--context[=num]] [--directories=action] [--label] [--line-buffered]\n",
      "\t[--null] [pattern] [file ...]\n",
      "Traceback (most recent call last):\n",
      "  File \"/opt/homebrew/Caskroom/miniconda/base/bin/jupyter-notebook\", line 8, in <module>\n",
      "    sys.exit(main())\n",
      "             ^^^^^^\n",
      "  File \"/opt/homebrew/Caskroom/miniconda/base/lib/python3.12/site-packages/jupyter_server/extension/application.py\", line 622, in launch_instance\n",
      "    serverapp.start()\n",
      "  File \"/opt/homebrew/Caskroom/miniconda/base/lib/python3.12/site-packages/jupyter_server/serverapp.py\", line 3118, in start\n",
      "    self.start_app()\n",
      "  File \"/opt/homebrew/Caskroom/miniconda/base/lib/python3.12/site-packages/jupyter_server/serverapp.py\", line 2987, in start_app\n",
      "    super().start()\n",
      "  File \"/opt/homebrew/Caskroom/miniconda/base/lib/python3.12/site-packages/jupyter_core/application.py\", line 270, in start\n",
      "    self.subapp.start()\n",
      "  File \"/opt/homebrew/Caskroom/miniconda/base/lib/python3.12/site-packages/jupyter_server/serverapp.py\", line 786, in start\n",
      "    print(\"Currently running servers:\")\n",
      "BrokenPipeError: [Errno 32] Broken pipe\n",
      "\n",
      "\n",
      "Link below can be send to someone to share your Noteable session:\n",
      "\n",
      "https://noteable.edina.ac.uk/user//tree?token=\n",
      "\n"
     ]
    }
   ],
   "source": [
    "#  run this cell without changing it. It only works on Noteable.\n",
    "! printf \"\\n\\nLink below can be send to someone to share your Noteable session:\\n\\nhttps://noteable.edina.ac.uk/user/$(jupyter notebook list | grep -oP '(?<=user\\/).*(?=\\/\\?)' )/tree?token=$( jupyter notebook list | grep -oP '(?<=token=).*(?= ::)' )\\n\\n\""
   ]
  },
  {
   "cell_type": "code",
   "execution_count": 1,
   "metadata": {},
   "outputs": [],
   "source": [
    "# the usual imports\n",
    "from plotly.subplots import make_subplots\n",
    "import plotly.graph_objects as go"
   ]
  },
  {
   "cell_type": "code",
   "execution_count": 2,
   "metadata": {},
   "outputs": [],
   "source": [
    "import pprint as pp\n",
    "from datetime import datetime, timedelta, date, timezone\n",
    "import json"
   ]
  },
  {
   "cell_type": "code",
   "execution_count": 3,
   "metadata": {},
   "outputs": [],
   "source": [
    "# this function just loads the data from files, there is no need to understand how it does it.\n",
    "def load_json_file_named(file_name):\n",
    "    try: \n",
    "        loaded_data = []\n",
    "        file_location = f\"data/{file_name}\"\n",
    "        with open(file_location, 'r') as file: # or f\"data/{file_name}\" depending on your files\n",
    "            loaded_data =  json.load(file)\n",
    "    except OSError as e:\n",
    "        print(f\"Error. Does the file exist in this folder? {file_location}\\n\\n {e}\")\n",
    "    return loaded_data\n",
    "\n",
    "boards_info = load_json_file_named('nhs_scotland_boards.json')\n",
    "covid_days = load_json_file_named('covid_records_scotland.json')\n"
   ]
  },
  {
   "cell_type": "code",
   "execution_count": null,
   "metadata": {},
   "outputs": [],
   "source": []
  }
 ],
 "metadata": {
  "kernelspec": {
   "display_name": "Python 3 (ipykernel)",
   "language": "python",
   "name": "python3"
  },
  "language_info": {
   "codemirror_mode": {
    "name": "ipython",
    "version": 3
   },
   "file_extension": ".py",
   "mimetype": "text/x-python",
   "name": "python",
   "nbconvert_exporter": "python",
   "pygments_lexer": "ipython3",
   "version": "3.12.2"
  }
 },
 "nbformat": 4,
 "nbformat_minor": 2
}
