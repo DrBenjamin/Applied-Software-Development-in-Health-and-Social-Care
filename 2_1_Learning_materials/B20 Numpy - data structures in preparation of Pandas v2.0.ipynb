{
 "cells": [
  {
   "cell_type": "markdown",
   "metadata": {},
   "source": [
    "# Numpy and Pandas\n",
    "\n",
    "Numpy and Panda are two increadibly powerful Python libraries. They are used for most tasks connected with manipulating data. In this notebook we will go into a lot of detail about what they can do. \n",
    "\n",
    "While you will need only basic understanding of Numpy and Panda for the rest of this course, you are very likely to encounter a lot of them if you get deeper into analysing data with Python.\n",
    "\n",
    "In this notebook:\n",
    "\n",
    "- Recap of last week + some extras: ** explode operator, multiple assignments, optional arguments\n",
    "- Numpy: multidimensional arrays\n",
    "- How random numbers are generated\n",
    "- the whole new way of referencing items in Numpy (not my_list[0][3] but my_array[0,3])\n",
    "- generating and reshaping items into dimensions\n",
    "- stacking and splitting"
   ]
  },
  {
   "cell_type": "markdown",
   "metadata": {},
   "source": [
    "## Recap"
   ]
  },
  {
   "cell_type": "markdown",
   "metadata": {},
   "source": [
    "### Recap 1: range and creating stings"
   ]
  },
  {
   "cell_type": "code",
   "execution_count": 1,
   "metadata": {},
   "outputs": [
    {
     "data": {
      "text/plain": [
       "['A', 'B', 'C', 'D', 'E']"
      ]
     },
     "execution_count": 1,
     "metadata": {},
     "output_type": "execute_result"
    }
   ],
   "source": [
    "list('ABCDE')"
   ]
  },
  {
   "cell_type": "code",
   "execution_count": 2,
   "metadata": {},
   "outputs": [
    {
     "data": {
      "text/plain": [
       "[0, 2, 4, 6, 8, 10]"
      ]
     },
     "execution_count": 2,
     "metadata": {},
     "output_type": "execute_result"
    }
   ],
   "source": [
    "[number*2 \n",
    " for number in [0,1,2,3,4,5]]"
   ]
  },
  {
   "cell_type": "code",
   "execution_count": 3,
   "metadata": {},
   "outputs": [
    {
     "data": {
      "text/plain": [
       "[0, 10, 20, 30, 40]"
      ]
     },
     "execution_count": 3,
     "metadata": {},
     "output_type": "execute_result"
    }
   ],
   "source": [
    "[number \n",
    " for number in range(0, 50, 10)]"
   ]
  },
  {
   "cell_type": "code",
   "execution_count": 4,
   "metadata": {},
   "outputs": [
    {
     "data": {
      "text/plain": [
       "['0 to 9', '10 to 19', '20 to 29', '30 to 39', '40 to 49']"
      ]
     },
     "execution_count": 4,
     "metadata": {},
     "output_type": "execute_result"
    }
   ],
   "source": [
    "# Using the 'fast string' formatting f\" {variable} \"\n",
    "[f\"{bottom} to {bottom+9}\" \n",
    " for bottom in range(0, 50, 10)]"
   ]
  },
  {
   "cell_type": "code",
   "execution_count": 6,
   "metadata": {},
   "outputs": [
    {
     "data": {
      "text/plain": [
       "['0 to 9', '10 to 19', '20 to 29', '30 to 39', '40 to 49']"
      ]
     },
     "execution_count": 6,
     "metadata": {},
     "output_type": "execute_result"
    }
   ],
   "source": [
    "# you can also use the \" {} \".format(variable)\n",
    "[\"{} to {}\".format(bottom, bottom + 9)\n",
    " for bottom in range(0, 50, 10)]"
   ]
  },
  {
   "cell_type": "code",
   "execution_count": 7,
   "metadata": {},
   "outputs": [
    {
     "data": {
      "text/plain": [
       "['0 to 9', '10 to 19', '20 to 29', '30 to 39', '40 to 49']"
      ]
     },
     "execution_count": 7,
     "metadata": {},
     "output_type": "execute_result"
    }
   ],
   "source": [
    "# and it also supports variable names:\n",
    "[\"{start} to {end}\".format(start = bottom, end = bottom + 9)\n",
    " for bottom in range(0, 50, 10)]"
   ]
  },
  {
   "cell_type": "code",
   "execution_count": 8,
   "metadata": {},
   "outputs": [
    {
     "data": {
      "text/plain": [
       "['numbers from  0 to  9 could be: 0-9, 0 to 9',\n",
       " 'numbers from 10 to 19 could be: 10-19, 10 to 19',\n",
       " 'numbers from 20 to 29 could be: 20-29, 20 to 29',\n",
       " 'numbers from 30 to 39 could be: 30-39, 30 to 39',\n",
       " 'numbers from 40 to 49 could be: 40-49, 40 to 49']"
      ]
     },
     "execution_count": 8,
     "metadata": {},
     "output_type": "execute_result"
    }
   ],
   "source": [
    "# which is most useful when you want to repeat the same value or calculation\n",
    "# note we'll pre-design our string in a variable first:\n",
    "string_to_fill = \"numbers from {start:>2} to {end:>2} could be: {start}-{end}, {start} to {end}\"\n",
    "\n",
    "[string_to_fill.format(start=bottom, end=bottom + 9)\n",
    " for bottom in range(0, 50, 10)]\n",
    "\n",
    "# note :>2 means move it to the right, and give it 2 spaces. try to change it to :<10"
   ]
  },
  {
   "cell_type": "markdown",
   "metadata": {},
   "source": [
    "Formating stirngs with .format() is especially useful when you split responsibilities amongs your team:\n",
    "\n",
    "- one person writes the message (eg. copywriter),\n",
    "- one person writes the logic (business analyst)\n",
    "- yet another person will combine them together (programmer)\n",
    "\n",
    "like in:"
   ]
  },
  {
   "cell_type": "code",
   "execution_count": 10,
   "metadata": {},
   "outputs": [
    {
     "name": "stdout",
     "output_type": "stream",
     "text": [
      "Dear Clara. Your gift card is expiring, you have £13.35 and 3 days.\n"
     ]
    }
   ],
   "source": [
    "customer_message = \"Dear {name}. Your gift card is expiring, you have £{money_left} and {days_left} days.\"\n",
    "\n",
    "person = {'name':\"Clara\", 'money_left': 13.35, 'days_left': 3}\n",
    "\n",
    "print(customer_message.format(name=person['name'], money_left=person['money_left'], days_left=person['days_left']))\n",
    "# notice this does not feel very DRY. A solution to this problem is an ** explode operator explained below"
   ]
  },
  {
   "cell_type": "markdown",
   "metadata": {},
   "source": [
    "### New (but very rare): Explode operator **\n",
    "\n",
    "Explode operator is a rare, but often very useful way to 'explode' a dictionary into a number of variables.\n",
    "\n",
    "You can imagine that when you explode a dictionary:\n",
    "`\n",
    "person = {'name':\"Clara\", 'money_left': 13.35, 'days_left': 3}\n",
    "`\n",
    "\n",
    "Like this:\n",
    "\n",
    "`\n",
    "**person\n",
    "`\n",
    "\n",
    "It is interpreted sort of as 3 variables:\n",
    "\n",
    "`\n",
    "name = \"Clara\"\n",
    "money_left =  13.35\n",
    "days_left = 3\n",
    "`"
   ]
  },
  {
   "cell_type": "markdown",
   "metadata": {},
   "source": [
    "So you can use ** explode operator to feed dictionaries  .format() string formatting or functions"
   ]
  },
  {
   "cell_type": "code",
   "execution_count": 9,
   "metadata": {},
   "outputs": [
    {
     "name": "stdout",
     "output_type": "stream",
     "text": [
      "Dear Clara. Your gift card is expiring, you have £13.35 and 3 days.\n"
     ]
    }
   ],
   "source": [
    "person = {'name':\"Clara\", 'money_left': 13.35, 'days_left': 3}\n",
    "\n",
    "customer_message = \"Dear {name}. Your gift card is expiring, you have £{money_left} and {days_left} days.\"\n",
    "print(customer_message.format(**person)) # here split dict into many variables"
   ]
  },
  {
   "cell_type": "code",
   "execution_count": 11,
   "metadata": {},
   "outputs": [
    {
     "name": "stdout",
     "output_type": "stream",
     "text": [
      "Clara has 3 days left to spend £13.35\n"
     ]
    }
   ],
   "source": [
    "# it is quite common to explode a dict as we put it into a function\n",
    "def customer_report(name, money_left, days_left):\n",
    "    return f\"{name} has {days_left} days left to spend £{money_left}\"\n",
    "\n",
    "person = {'name':\"Clara\", 'money_left': 13.35, 'days_left': 3}\n",
    "\n",
    "print( customer_report(**person)  )"
   ]
  },
  {
   "cell_type": "markdown",
   "metadata": {},
   "source": [
    "This is most useful when you do not want to write everything by yourself, but also when the data is coming from outside (api, file) and you need flexibility."
   ]
  },
  {
   "cell_type": "markdown",
   "metadata": {},
   "source": [
    "### Multiple assignemnts at once\n",
    "\n",
    "This is an interesting feature of python, having some resemblance to explode operator. But it is not common in other languages, and can create quite confusing code. So use it only if you know what you are doing:"
   ]
  },
  {
   "cell_type": "code",
   "execution_count": 12,
   "metadata": {},
   "outputs": [
    {
     "name": "stdout",
     "output_type": "stream",
     "text": [
      "4 5 6\n"
     ]
    }
   ],
   "source": [
    "# you can assign multiple variables at once\n",
    "n1, n2, n3 = 4,5,6\n",
    "print(n1, n2, n3)"
   ]
  },
  {
   "cell_type": "code",
   "execution_count": 13,
   "metadata": {},
   "outputs": [
    {
     "name": "stdout",
     "output_type": "stream",
     "text": [
      "10 -4 21\n"
     ]
    }
   ],
   "source": [
    "n1, n2 = 3,7\n",
    "added, subtracted, multiplied = n1+n2, n1-n2, n1*n2,\n",
    "print(added, subtracted, multiplied)\n",
    "\n",
    "# this is a cool feature, but watch out when you use it. \n",
    "# Shorter code is not necesserily better! More readable code is better!"
   ]
  },
  {
   "cell_type": "code",
   "execution_count": 23,
   "metadata": {},
   "outputs": [
    {
     "name": "stdout",
     "output_type": "stream",
     "text": [
      "Clara 13.35 3\n"
     ]
    }
   ],
   "source": [
    "# unfortunately you cannot connect explode operator and multiple assignment\\\n",
    "#name, money_left, days_left = **person\n",
    "name, money_left, days_left = person.values()\n",
    "print(name, money_left, days_left)"
   ]
  },
  {
   "cell_type": "markdown",
   "metadata": {},
   "source": [
    "### Named and Optional arguments in functions"
   ]
  },
  {
   "cell_type": "code",
   "execution_count": 24,
   "metadata": {},
   "outputs": [
    {
     "name": "stdout",
     "output_type": "stream",
     "text": [
      "0.25\n",
      "0.25\n",
      "0.25\n"
     ]
    }
   ],
   "source": [
    "# optional arguments:\n",
    "range(9)\n",
    "range(1,9)\n",
    "range(1,9,3)\n",
    "\n",
    "# named arguments:\n",
    "def divide(first, second):\n",
    "    return first / second\n",
    "\n",
    "print( divide(2, 8)  )\n",
    "print( divide(first = 2, second = 8)  )\n",
    "print( divide(second = 8, first = 2)  ) # order does not matter anymore"
   ]
  },
  {
   "cell_type": "code",
   "execution_count": null,
   "metadata": {},
   "outputs": [],
   "source": [
    "def as_percent_string(number, decimal_places = 0, symbol = \"%\"):\n",
    "    number *= 100\n",
    "    return \"{num:.{dec}f}{sym}\".format(num = number, sym = symbol, dec = decimal_places)\n",
    "\n",
    "print( as_percent_string(2/3) )\n",
    "print( as_percent_string(2/3, decimal_places = 2) )\n",
    "print( as_percent_string(2/3, symbol = \" percent\") )\n",
    "print( as_percent_string(2/3, decimal_places = 1, symbol = \" percent\") )"
   ]
  },
  {
   "cell_type": "code",
   "execution_count": 25,
   "metadata": {},
   "outputs": [
    {
     "name": "stdout",
     "output_type": "stream",
     "text": [
      "2\n",
      "4\n",
      "7\n",
      "\n",
      "247\n",
      "2\t4\t7\t\n",
      "2****4****7****"
     ]
    }
   ],
   "source": [
    "# print has an optional argument 'end' which decides what character to put at the end.\n",
    "# by default is equal to '/n' (meaning new line), but you can change it to anything\n",
    "print(\"2\")\n",
    "print(\"4\")\n",
    "print(\"7\")\n",
    "print() # this prints a new line!\n",
    "\n",
    "print(\"2\",end=\"\")\n",
    "print(\"4\",end=\"\")\n",
    "print(\"7\",end=\"\")\n",
    "print()\n",
    "\n",
    "print(\"2\",end=\"\\t\")\n",
    "print(\"4\",end=\"\\t\")\n",
    "print(\"7\",end=\"\\t\")\n",
    "print()\n",
    "\n",
    "separator = \"****\"\n",
    "print(\"2\",end=separator)\n",
    "print(\"4\",end=separator)\n",
    "print(\"7\",end=separator)"
   ]
  },
  {
   "cell_type": "markdown",
   "metadata": {},
   "source": [
    "\n",
    "\n",
    "\n",
    "\n",
    "# Numpy and Pandas"
   ]
  },
  {
   "cell_type": "markdown",
   "metadata": {},
   "source": [
    "### What are Numpy and Pandas"
   ]
  },
  {
   "cell_type": "markdown",
   "metadata": {},
   "source": [
    "Numpy and Pandas are two very useful libraries for dealing with data in Python. They work so closely together that often you might not know where one starts and the other ends. One basic distinction is:\n",
    "\n",
    "- **Numpy** is for basic numerical operations (mean, range, etc), especially on multidimentional arrays (sort of like Lists of Lists of Lists...)\n",
    "\n",
    "- **Pandas** is for advance data operations arranging, cleaning up, analysis, but also can be used for data input and a few other commond tasks in data analysis.\n",
    "\n",
    "Let's look at some features that become easier with Numpy and Pandas"
   ]
  },
  {
   "cell_type": "markdown",
   "metadata": {},
   "source": [
    "before we use them, as with all other libraries, we will need to import them. Becuase we will use their name frequently, it is frequent to import them and give them both shorter names:\n",
    "\n",
    "```\n",
    "import pandas as pd\n",
    "import numpy as np\n",
    "```\n",
    "\n",
    "so that you can use theis short name like this:\n",
    "\n",
    "```\n",
    "np.zeros(10, dtype='int')\n",
    "```\n",
    "\n",
    "rather than having to type every time\n",
    "\n",
    "```\n",
    "numpy.zeros(10, dtype='int')\n",
    "```\n",
    "\n",
    "Note: it does not save you a lot of typing, but is done a lot. You can choose to not use 'as short_name' syntax, but be aware that other people might. "
   ]
  },
  {
   "cell_type": "markdown",
   "metadata": {},
   "source": [
    "## Arrays - new data type, like more powerful Lists"
   ]
  },
  {
   "cell_type": "markdown",
   "metadata": {},
   "source": [
    "Numpy introduces a new data type called **Array**. It is basically like a List, but has s number of new very powerful methods and syntax that make data operations easier and faster.\n",
    "\n",
    "Teoretically you could do everything that we do with Arrays by just using good old Lists, but it would take more time and be less compatible with other libraries.\n",
    "\n",
    "To create an Array, you can cast a list into ```np.array( your_list )``` just like you could cast your list into a set ```set(your_list)``` or a decimal number into an whole number ```int(3.14)```\n",
    "\n",
    "Notice the ```np.array``` at the begining - it means that you are using the ```array class``` from the ```np``` library. ```np``` is a short name for ```numpy``` (which you yourself gave it in ```import numpy as np```)"
   ]
  },
  {
   "cell_type": "code",
   "execution_count": 30,
   "metadata": {},
   "outputs": [
    {
     "name": "stdout",
     "output_type": "stream",
     "text": [
      "[0. 0. 0.]\n",
      "[3, 7, 5, 5]\n",
      "<class 'list'>\n"
     ]
    }
   ],
   "source": [
    "import numpy as np\n",
    "import pandas as pd\n",
    "\n",
    "print(np.zeros(3))\n",
    "\n",
    "my_list = [3, 7, 5, 5]\n",
    "print(my_list)\n",
    "print(type(my_list))"
   ]
  },
  {
   "cell_type": "code",
   "execution_count": 31,
   "metadata": {},
   "outputs": [
    {
     "name": "stdout",
     "output_type": "stream",
     "text": [
      "[3 7 5 5]\n",
      "<class 'numpy.ndarray'>\n",
      "[3 0 5 0]\n",
      "<class 'numpy.ndarray'>\n"
     ]
    }
   ],
   "source": [
    "# you can create an array by feeding in a List, as a variable or directly:\n",
    "my_array = np.array(my_list)\n",
    "print(my_array)\n",
    "print(type(my_array))\n",
    "\n",
    "my_array2 = np.array([3, 0, 5, 0])\n",
    "print(my_array2)\n",
    "print(type(my_array2))\n",
    "# notice it is printed a bit differently than a list!"
   ]
  },
  {
   "cell_type": "markdown",
   "metadata": {},
   "source": [
    "Arrays are often used in situations where there are many dimensions. So a grid of \n",
    "\n",
    "`\n",
    "1,  2,  3,  4\n",
    "11, 12, 13, 14\n",
    "21, 22, 23, 24\n",
    "`\n",
    "\n",
    "Can be represented as:"
   ]
  },
  {
   "cell_type": "code",
   "execution_count": 32,
   "metadata": {},
   "outputs": [
    {
     "name": "stdout",
     "output_type": "stream",
     "text": [
      "[[ 1  2  3  4]\n",
      " [11 12 13 14]\n",
      " [21 22 23 24]]\n",
      "<class 'numpy.ndarray'>\n"
     ]
    }
   ],
   "source": [
    "scores = np.array([ [1, 2, 3, 4],\n",
    "                    [11, 12, 13, 14],\n",
    "                    [21, 22, 23, 24]\n",
    "                   ])\n",
    "# do you see it? A list with 3 lists, each with 4 items inside!\n",
    "print(scores)\n",
    "\n",
    "# let's print what type of a thing it is:\n",
    "print(type(scores))"
   ]
  },
  {
   "cell_type": "markdown",
   "metadata": {},
   "source": [
    "### Recap: Lists with many dimensions"
   ]
  },
  {
   "cell_type": "markdown",
   "metadata": {},
   "source": [
    "Most of the time yoru data has many dimentions. \n",
    "\n",
    "- variable has **zero dimentions** - you do not need any more index/address to know what's in it\n",
    "- list/array has **one dimention** - index is the way to address individual items in a list\n",
    "- list of lists has **two dimentions** - index of the top list, and then an index of the inned list"
   ]
  },
  {
   "cell_type": "markdown",
   "metadata": {},
   "source": [
    "Before, we sometimes used multi-dimentional lists:"
   ]
  },
  {
   "cell_type": "code",
   "execution_count": 34,
   "metadata": {},
   "outputs": [
    {
     "name": "stdout",
     "output_type": "stream",
     "text": [
      "[[3, 4, 5, 6, 7], [30, 40, 50, 60, 70]]\n",
      "[3, 4, 5, 6, 7]\n",
      "3\n"
     ]
    }
   ],
   "source": [
    "# let's create a two-dimentional list:\n",
    "list_of_lists = [[3,4,5,6,7], [30,40,50,60,70]] \n",
    "\n",
    "# print the big list\n",
    "print(list_of_lists) \n",
    "\n",
    "# print first sub-list\n",
    "print(list_of_lists[0]) \n",
    "\n",
    " # print first number in first sub-list\n",
    "print(list_of_lists[0][0])"
   ]
  },
  {
   "cell_type": "code",
   "execution_count": 36,
   "metadata": {},
   "outputs": [
    {
     "name": "stdout",
     "output_type": "stream",
     "text": [
      "60\n",
      "7\n"
     ]
    }
   ],
   "source": [
    "# remember indexes count from 0. So first element has index 0, second index 1, third index 2, etc\n",
    "# go into the second array, then to its fourth element (which should have value 60), you would use\n",
    "print(list_of_lists[1][3])\n",
    "\n",
    "# negative numbers count from the end\n",
    "# to get from the first array its last element (which should be 7), you would use\n",
    "print(list_of_lists[0][-1])"
   ]
  },
  {
   "cell_type": "markdown",
   "metadata": {},
   "source": [
    "### Numpy Arrays with many dimensions and new addressing style"
   ]
  },
  {
   "cell_type": "markdown",
   "metadata": {},
   "source": [
    "In numpy and pandas we will most of the time deal with multidimentional data - with 2,3 or even more dimentions. The dimentions will have a meaning, just like in Excel rows and columns have meanings. We will talk about it soon."
   ]
  },
  {
   "cell_type": "markdown",
   "metadata": {},
   "source": [
    "**NEW ADDRESSING STYLE - my_array[3,6]**\n",
    "\n",
    "- In **List** (pure Python way), to addressed a value by ```my_list[first_dimention][second_dimention]``` like ```stops[3][7]```\n",
    "- In **Arrays** (Panda way) , we can also use        ```my_list[first_dimention, second_dimention]``` like ```stops[3, 7]```\n",
    "\n",
    "From now on when you are getting numbers from arrays, you can pass in index of each next dimention separated by comas.\n",
    "\n",
    "note: in Arrays you can still use the old format ```stops[3][7]```, but the new one ```stops[3, 7]``` is more common."
   ]
  },
  {
   "cell_type": "markdown",
   "metadata": {},
   "source": [
    "Let's look at some multi-dimentional arrays"
   ]
  },
  {
   "cell_type": "code",
   "execution_count": 37,
   "metadata": {},
   "outputs": [
    {
     "name": "stdout",
     "output_type": "stream",
     "text": [
      "1\n",
      "2\n",
      "13\n",
      "14\n",
      "24\n"
     ]
    }
   ],
   "source": [
    "scores = np.array([ [1, 2, 3, 4],\n",
    "                    [11, 12, 13, 14],\n",
    "                    [21, 22, 23, 24]\n",
    "                   ])\n",
    "\n",
    "# in the new indexing style, indexes for each next dimension are separated with a coma\n",
    "# your_array[first_dimension, second_dimension, third_dimension, ....]\n",
    "\n",
    "print(scores[0,0])\n",
    "print(scores[0,1])\n",
    "print(scores[1,2])\n",
    "print(scores[1,-1])\n",
    "print(scores[-1,-1])\n",
    "# look at the printed output and see if you understand why these numebrs are printed."
   ]
  },
  {
   "cell_type": "markdown",
   "metadata": {},
   "source": [
    "### Minitask: Write your own first name with use of new indexing method:"
   ]
  },
  {
   "cell_type": "code",
   "execution_count": 39,
   "metadata": {},
   "outputs": [
    {
     "name": "stdout",
     "output_type": "stream",
     "text": [
      "a o i f e\n"
     ]
    }
   ],
   "source": [
    "# use the below keyboard variable to spell your name below\n",
    "keyboard = np.array([ ['q','w','e','r','t','y','u','i','o','p'],\n",
    "                      ['a','s','d','f','g','h','j','k','l',';'],\n",
    "                      ['z','x','c','v','b','n','m','<','>','?']\n",
    "                   ])\n",
    "# For example to spell name 'Aoife' you would write:\n",
    "print(keyboard[1,0], keyboard[0,8], keyboard[0,7], keyboard[1,3], keyboard[0,2])"
   ]
  },
  {
   "cell_type": "code",
   "execution_count": 40,
   "metadata": {},
   "outputs": [
    {
     "name": "stdout",
     "output_type": "stream",
     "text": [
      "Ben\n"
     ]
    }
   ],
   "source": [
    "# here write your first name, by referencing its letters from the keyboard variable above\n",
    "print(keyboard[2, 4].capitalize() + keyboard[0, 2] + keyboard[2, 5])"
   ]
  },
  {
   "cell_type": "markdown",
   "metadata": {},
   "source": [
    "Just like in Lists you can use the index not only to GET the value, but also to CHANGE the value:"
   ]
  },
  {
   "cell_type": "code",
   "execution_count": 41,
   "metadata": {},
   "outputs": [
    {
     "name": "stdout",
     "output_type": "stream",
     "text": [
      "[[10 20  3  4]\n",
      " [11 12 13 44]\n",
      " [21 22 23 64]]\n"
     ]
    }
   ],
   "source": [
    "scores = np.array([ [1,  2,   3,  4],\n",
    "                    [11, 12, 13, 14],\n",
    "                    [21, 22, 23, 24]\n",
    "                   ])\n",
    "\n",
    "# let's change some items\n",
    "scores[0,0] = 10\n",
    "scores[0,1] = 20\n",
    "scores[1,3] += 30\n",
    "scores[-1,-1] += 40\n",
    "print(scores)"
   ]
  },
  {
   "cell_type": "code",
   "execution_count": 42,
   "metadata": {},
   "outputs": [
    {
     "name": "stdout",
     "output_type": "stream",
     "text": [
      "[[10 10 10 10]\n",
      " [11 12 13 14]\n",
      " [21 22 23 24]]\n"
     ]
    }
   ],
   "source": [
    "# Indeed you could ommit one of the dimentions, and replace everything in a row or column\n",
    "# use colon : to indicate 'everything'\n",
    "scores = np.array([ [1,  2,   3,  4],\n",
    "                    [11, 12, 13, 14],\n",
    "                    [21, 22, 23, 24]\n",
    "                   ])\n",
    " \n",
    "scores[0,:] = 10 \n",
    "print(scores)\n",
    "# first dimention: value 0, second dimention: all values\n",
    "# note you could also use simpler version scores[0] = 10"
   ]
  },
  {
   "cell_type": "code",
   "execution_count": 43,
   "metadata": {},
   "outputs": [
    {
     "name": "stdout",
     "output_type": "stream",
     "text": [
      "[[ 1  2 30  4]\n",
      " [11 12 30 14]\n",
      " [21 22 30 24]]\n"
     ]
    }
   ],
   "source": [
    "scores = np.array([ [1,  2,   3,  4],\n",
    "                    [11, 12, 13, 14],\n",
    "                    [21, 22, 23, 24]\n",
    "                   ])\n",
    " \n",
    "scores[:,2] = 30  \n",
    "print(scores)\n",
    "# first dimention: all values, second dimention: value 2\n",
    "# note but here you cannot simlify it to scores[,3] = 30"
   ]
  },
  {
   "cell_type": "markdown",
   "metadata": {},
   "source": [
    "You can request some information about your arrays, just like you could request a len() from a List"
   ]
  },
  {
   "cell_type": "code",
   "execution_count": 44,
   "metadata": {},
   "outputs": [
    {
     "name": "stdout",
     "output_type": "stream",
     "text": [
      "dimentions 2\n",
      "shape (3, 4)\n",
      "size  12\n"
     ]
    }
   ],
   "source": [
    "# you can request some info about a multi-level Array:\n",
    "scores = np.array([ [1, 2, 3, 4],\n",
    "                    [11, 12, 13, 14],\n",
    "                    [21, 22, 23, 24]\n",
    "                   ])\n",
    "\n",
    "print(\"dimentions\", scores.ndim)\n",
    "print(\"shape\", scores.shape)\n",
    "print(\"size \", scores.size)"
   ]
  },
  {
   "cell_type": "markdown",
   "metadata": {},
   "source": [
    "### Creating Arrays full of values"
   ]
  },
  {
   "cell_type": "markdown",
   "metadata": {},
   "source": [
    "You can specify the default value and type of your new empty array:\n",
    "\n",
    "- full of zeros with .zeros()\n",
    "- full of ones with .ones()\n",
    "- full of some other value with .full(some_value)\n",
    "- full of random values"
   ]
  },
  {
   "cell_type": "code",
   "execution_count": 45,
   "metadata": {},
   "outputs": [
    {
     "data": {
      "text/plain": [
       "array([0., 0., 0., 0.])"
      ]
     },
     "execution_count": 45,
     "metadata": {},
     "output_type": "execute_result"
    }
   ],
   "source": [
    "np.zeros( 4 )"
   ]
  },
  {
   "cell_type": "markdown",
   "metadata": {},
   "source": [
    "By default, created values are floats (numbers with decimal places), but you can specify data type with 'dtype':"
   ]
  },
  {
   "cell_type": "code",
   "execution_count": 46,
   "metadata": {},
   "outputs": [
    {
     "data": {
      "text/plain": [
       "array([0, 0, 0, 0, 0])"
      ]
     },
     "execution_count": 46,
     "metadata": {},
     "output_type": "execute_result"
    }
   ],
   "source": [
    "np.zeros(5, dtype='int')"
   ]
  },
  {
   "cell_type": "code",
   "execution_count": 47,
   "metadata": {},
   "outputs": [
    {
     "data": {
      "text/plain": [
       "array([0., 0., 0., 0., 0.])"
      ]
     },
     "execution_count": 47,
     "metadata": {},
     "output_type": "execute_result"
    }
   ],
   "source": [
    "np.zeros(5, dtype='float')"
   ]
  },
  {
   "cell_type": "markdown",
   "metadata": {},
   "source": [
    "You can also create multi-dimentional arrays with sizes of all dimentions in a tupple:\n",
    "\n",
    "(10) - array of 10 elements\n",
    "\n",
    "(5,10) - 5 sets of 10 elements\n",
    "\n",
    "(3,5,10) - 3 sets of 5 sets of 10 elements"
   ]
  },
  {
   "cell_type": "code",
   "execution_count": 48,
   "metadata": {},
   "outputs": [
    {
     "data": {
      "text/plain": [
       "array([0., 0., 0., 0., 0., 0., 0., 0., 0., 0.])"
      ]
     },
     "execution_count": 48,
     "metadata": {},
     "output_type": "execute_result"
    }
   ],
   "source": [
    "np.zeros((10), dtype=float)"
   ]
  },
  {
   "cell_type": "code",
   "execution_count": 49,
   "metadata": {},
   "outputs": [
    {
     "data": {
      "text/plain": [
       "array([[0, 0, 0, 0, 0, 0, 0, 0, 0, 0],\n",
       "       [0, 0, 0, 0, 0, 0, 0, 0, 0, 0],\n",
       "       [0, 0, 0, 0, 0, 0, 0, 0, 0, 0],\n",
       "       [0, 0, 0, 0, 0, 0, 0, 0, 0, 0],\n",
       "       [0, 0, 0, 0, 0, 0, 0, 0, 0, 0]])"
      ]
     },
     "execution_count": 49,
     "metadata": {},
     "output_type": "execute_result"
    }
   ],
   "source": [
    "np.zeros((5,10), dtype=int)"
   ]
  },
  {
   "cell_type": "code",
   "execution_count": 50,
   "metadata": {},
   "outputs": [
    {
     "data": {
      "text/plain": [
       "array([[[0, 0, 0, 0, 0, 0, 0, 0, 0, 0],\n",
       "        [0, 0, 0, 0, 0, 0, 0, 0, 0, 0],\n",
       "        [0, 0, 0, 0, 0, 0, 0, 0, 0, 0],\n",
       "        [0, 0, 0, 0, 0, 0, 0, 0, 0, 0],\n",
       "        [0, 0, 0, 0, 0, 0, 0, 0, 0, 0]],\n",
       "\n",
       "       [[0, 0, 0, 0, 0, 0, 0, 0, 0, 0],\n",
       "        [0, 0, 0, 0, 0, 0, 0, 0, 0, 0],\n",
       "        [0, 0, 0, 0, 0, 0, 0, 0, 0, 0],\n",
       "        [0, 0, 0, 0, 0, 0, 0, 0, 0, 0],\n",
       "        [0, 0, 0, 0, 0, 0, 0, 0, 0, 0]],\n",
       "\n",
       "       [[0, 0, 0, 0, 0, 0, 0, 0, 0, 0],\n",
       "        [0, 0, 0, 0, 0, 0, 0, 0, 0, 0],\n",
       "        [0, 0, 0, 0, 0, 0, 0, 0, 0, 0],\n",
       "        [0, 0, 0, 0, 0, 0, 0, 0, 0, 0],\n",
       "        [0, 0, 0, 0, 0, 0, 0, 0, 0, 0]]])"
      ]
     },
     "execution_count": 50,
     "metadata": {},
     "output_type": "execute_result"
    }
   ],
   "source": [
    "np.zeros((3, 5,10), dtype=int)"
   ]
  },
  {
   "cell_type": "markdown",
   "metadata": {},
   "source": [
    "You can also specify values other than zero with `.ones( dimensions )` or with `.full(dimensions, value)`"
   ]
  },
  {
   "cell_type": "code",
   "execution_count": 51,
   "metadata": {},
   "outputs": [
    {
     "data": {
      "text/plain": [
       "array([[1, 1, 1, 1, 1],\n",
       "       [1, 1, 1, 1, 1]])"
      ]
     },
     "execution_count": 51,
     "metadata": {},
     "output_type": "execute_result"
    }
   ],
   "source": [
    "np.ones((2,5), dtype=int)"
   ]
  },
  {
   "cell_type": "code",
   "execution_count": 52,
   "metadata": {},
   "outputs": [
    {
     "data": {
      "text/plain": [
       "array([[3.14, 3.14, 3.14, 3.14, 3.14],\n",
       "       [3.14, 3.14, 3.14, 3.14, 3.14]])"
      ]
     },
     "execution_count": 52,
     "metadata": {},
     "output_type": "execute_result"
    }
   ],
   "source": [
    "np.full((2,5), 3.14)"
   ]
  },
  {
   "cell_type": "code",
   "execution_count": 53,
   "metadata": {},
   "outputs": [
    {
     "name": "stdout",
     "output_type": "stream",
     "text": [
      "[[1 1 1 1 1]\n",
      " [1 1 1 1 1]]\n",
      "[[1 1 1 1 1]\n",
      " [1 1 1 1 1]]\n"
     ]
    }
   ],
   "source": [
    "# so as you can those two do the same thing:\n",
    "print(np.ones((2,5), dtype=int))\n",
    "print(np.full((2,5), 1))"
   ]
  },
  {
   "cell_type": "markdown",
   "metadata": {},
   "source": [
    "You can also create values\n",
    "\n",
    "- from a range with `arange(start, top, jump)`\n",
    "- with even split between two values `linspace(start, end, slices)`\n",
    "- indentity matrix with `eye(size)`\n",
    "- full of random data with `np.random.randint(max_value, size=size_tupple)`"
   ]
  },
  {
   "cell_type": "code",
   "execution_count": 54,
   "metadata": {},
   "outputs": [
    {
     "data": {
      "text/plain": [
       "array([0, 1, 2, 3, 4, 5, 6, 7, 8, 9])"
      ]
     },
     "execution_count": 54,
     "metadata": {},
     "output_type": "execute_result"
    }
   ],
   "source": [
    "np.arange(10)"
   ]
  },
  {
   "cell_type": "code",
   "execution_count": 55,
   "metadata": {},
   "outputs": [
    {
     "data": {
      "text/plain": [
       "array([ 5,  6,  7,  8,  9, 10, 11, 12, 13, 14])"
      ]
     },
     "execution_count": 55,
     "metadata": {},
     "output_type": "execute_result"
    }
   ],
   "source": [
    "np.arange(5,15)"
   ]
  },
  {
   "cell_type": "code",
   "execution_count": 56,
   "metadata": {},
   "outputs": [
    {
     "data": {
      "text/plain": [
       "array([ 5, 15, 25, 35, 45])"
      ]
     },
     "execution_count": 56,
     "metadata": {},
     "output_type": "execute_result"
    }
   ],
   "source": [
    "np.arange(5, 50, 10) # range has start, end, jump"
   ]
  },
  {
   "cell_type": "code",
   "execution_count": 57,
   "metadata": {},
   "outputs": [
    {
     "data": {
      "text/plain": [
       "array([0.  , 0.25, 0.5 , 0.75, 1.  ])"
      ]
     },
     "execution_count": 57,
     "metadata": {},
     "output_type": "execute_result"
    }
   ],
   "source": [
    "np.linspace(0, 1, 5) # from_value, to_value, how_many_slices"
   ]
  },
  {
   "cell_type": "code",
   "execution_count": 58,
   "metadata": {},
   "outputs": [
    {
     "data": {
      "text/plain": [
       "array([  0.,  50., 100.])"
      ]
     },
     "execution_count": 58,
     "metadata": {},
     "output_type": "execute_result"
    }
   ],
   "source": [
    "np.linspace(0, 100, 3) # from_value, to_value, how_many_slices"
   ]
  },
  {
   "cell_type": "code",
   "execution_count": 59,
   "metadata": {},
   "outputs": [
    {
     "data": {
      "text/plain": [
       "array([[1., 0., 0., 0.],\n",
       "       [0., 1., 0., 0.],\n",
       "       [0., 0., 1., 0.],\n",
       "       [0., 0., 0., 1.]])"
      ]
     },
     "execution_count": 59,
     "metadata": {},
     "output_type": "execute_result"
    }
   ],
   "source": [
    "np.eye(4)"
   ]
  },
  {
   "cell_type": "code",
   "execution_count": 60,
   "metadata": {},
   "outputs": [
    {
     "data": {
      "text/plain": [
       "array([0, 1, 2, 0, 1, 2])"
      ]
     },
     "execution_count": 60,
     "metadata": {},
     "output_type": "execute_result"
    }
   ],
   "source": [
    "# There's also a way to repeat a pattern with .tile\n",
    "# the number (or tupple) given in tile describes size/times of output matrix \n",
    "pattern = np.array([0, 1, 2])\n",
    "\n",
    "np.tile(pattern, 2)\n",
    "# repeat 2 times"
   ]
  },
  {
   "cell_type": "code",
   "execution_count": 61,
   "metadata": {},
   "outputs": [
    {
     "data": {
      "text/plain": [
       "array([[0, 1, 2, 0, 1, 2],\n",
       "       [0, 1, 2, 0, 1, 2],\n",
       "       [0, 1, 2, 0, 1, 2]])"
      ]
     },
     "execution_count": 61,
     "metadata": {},
     "output_type": "execute_result"
    }
   ],
   "source": [
    "np.tile(pattern, (3,2))\n",
    "# repeat 2 times in one dimension, and 3 times in another dimension "
   ]
  },
  {
   "cell_type": "code",
   "execution_count": 62,
   "metadata": {},
   "outputs": [
    {
     "data": {
      "text/plain": [
       "array([[[0, 1, 2, 0, 1, 2],\n",
       "        [0, 1, 2, 0, 1, 2],\n",
       "        [0, 1, 2, 0, 1, 2]],\n",
       "\n",
       "       [[0, 1, 2, 0, 1, 2],\n",
       "        [0, 1, 2, 0, 1, 2],\n",
       "        [0, 1, 2, 0, 1, 2]],\n",
       "\n",
       "       [[0, 1, 2, 0, 1, 2],\n",
       "        [0, 1, 2, 0, 1, 2],\n",
       "        [0, 1, 2, 0, 1, 2]],\n",
       "\n",
       "       [[0, 1, 2, 0, 1, 2],\n",
       "        [0, 1, 2, 0, 1, 2],\n",
       "        [0, 1, 2, 0, 1, 2]]])"
      ]
     },
     "execution_count": 62,
     "metadata": {},
     "output_type": "execute_result"
    }
   ],
   "source": [
    "np.tile(pattern, (4,3,2))\n",
    "# and so on ..."
   ]
  },
  {
   "cell_type": "code",
   "execution_count": 63,
   "metadata": {},
   "outputs": [
    {
     "name": "stdout",
     "output_type": "stream",
     "text": [
      "[2 6 1 5 5 6]\n"
     ]
    }
   ],
   "source": [
    "# random numbers\n",
    "print(np.random.randint(10, size=6))\n"
   ]
  },
  {
   "cell_type": "markdown",
   "metadata": {},
   "source": [
    "## Extra computer-sciency bits about randomness. Feel free to skip it if not interested.\n",
    "\n",
    "### This is really computer-sciency, but you might enjoy it: \n",
    "\n",
    "### Randomness in computers is pseudo-random (not really 'random')"
   ]
  },
  {
   "cell_type": "markdown",
   "metadata": {},
   "source": [
    "This will be a bit Computer-Science-Heavy, but it's ok if you only understand some of it.\n",
    "\n",
    "Mind you, this is a **huge simplification**, but basically for this course we will not worry about seeding our randomness, but be aware that your random numbers might repeat, and the seed is to blame.\n",
    "\n",
    "In computers getting actual real randomness is very difficult, because everything requires a cause and effect. \n",
    "\n",
    "One of the ways to get a computer to create 'random' numbers is to pick some 'noise' and interpret it as numbers. For example you could pick some unocupied place in memory (sort of like a rubbish pile, full of variable leftovers of old files) and start reading it as if these were purposeful numbers. \n",
    "\n",
    "These data would make no sense, and not follow any obvious pattern, so would be in some way 'random'. But also they would be guessable (with a lot of effort) and if by any chance you were to start reading your rubbish data at the EXACT SAME POINT, you would end up with the EXACT SAME RANDOM NUMBERS... which would make them not a very useful randomness. Another problem could be that if you somehow dug up a very repetitive file (eg. an .mp3 music file with a lot of silence) you might end up with a lot of repeated numbers and some numbers missing completely (eg. if mp3 files use 0 to describe silence you would get disproportionately many 0 in your randomness).\n",
    "\n",
    "On some level you could think of that first place from which you started reading your 'noise' as a SEED from which the random numbers will grow. One way to avoid the 'repetitive noise' like in the above example of mp3 file is what Python does: it uses some SEED as the address of  RANDOM_VALUE_1, and then instead of reading the next piece of noise it finds, it uses the value of RANDOM_VALUE_1 as an address in noise to find RANDOM_VALUE_2. And then if uses 'ranom' RANDOM_VALUE_2 as the address to find RANDOM_VALUE_3 and so on. \n",
    "\n",
    "It's a sif you had some 'noise' ```[3,6,5,8,7,3,1,9]``` and wanted random values with seed ```2```. \n",
    "\n",
    "- first random number would be value on the address/index of ```2``` ----> value ```5```\n",
    "- next random number would be value on the address/index of ```5``` ----> value ```3```\n",
    "- second next random number would be value on the address/index of ```3``` ----> value ```8```\n",
    "- etc.\n",
    "\n",
    "The basic problem is: **IF YOU START AT THE SAME SEED, YOU WILL END UP WITH THE SAME SEQUENCE OF RANDOM NUMBERS**\n",
    "\n",
    "That's why best seeds are the ones which change all the time. A good example is time in miliseconds.\n",
    "\n"
   ]
  },
  {
   "cell_type": "code",
   "execution_count": 67,
   "metadata": {},
   "outputs": [
    {
     "name": "stdout",
     "output_type": "stream",
     "text": [
      "[9 3 8 8 6 2]\n",
      "[3 8 4 0 8 8]\n"
     ]
    }
   ],
   "source": [
    "# generate a few random numbers in python:\n",
    "print(np.random.randint(10, size=6))\n",
    "print(np.random.randint(10, size=6))\n",
    "\n",
    "#every time you run this cell, your random numbers will be different. \n",
    "# Try it. go back to this cell and run it again"
   ]
  },
  {
   "cell_type": "code",
   "execution_count": 70,
   "metadata": {},
   "outputs": [
    {
     "name": "stdout",
     "output_type": "stream",
     "text": [
      "[5 0 3 3 7 9]\n",
      "[3 5 2 4 7 6]\n",
      "[8 8 1 6 7 7]\n",
      "\n",
      "[5 0 3 3 7 9]\n",
      "[3 5 2 4 7 6]\n",
      "[8 8 1 6 7 7]\n"
     ]
    }
   ],
   "source": [
    "# but if you specify a seed, your random numbers will be the same every time you run this cell!\n",
    "np.random.seed(0) # plant the seed 0 - this could be any number\n",
    "print(np.random.randint(10, size=6))\n",
    "print(np.random.randint(10, size=6))\n",
    "print(np.random.randint(10, size=6))\n",
    "\n",
    "print()\n",
    "\n",
    "np.random.seed(0)\n",
    "print(np.random.randint(10, size=6))\n",
    "print(np.random.randint(10, size=6))\n",
    "print(np.random.randint(10, size=6))\n",
    "\n",
    "# WHY WOULD ANYONE DO THIS? Well... it's great for debugging! You could write tests!"
   ]
  },
  {
   "cell_type": "code",
   "execution_count": 73,
   "metadata": {},
   "outputs": [
    {
     "name": "stdout",
     "output_type": "stream",
     "text": [
      "1716822642\n",
      "[6 4 4 4 9 3]\n",
      "[0 4 6 8 6 3]\n"
     ]
    }
   ],
   "source": [
    "# The best thing to do if you are concerned for the 'real randomness' of your numbers is\n",
    "# to use time now in miliseconds as the seed. Time changes constantly and never repeats, so it's ideal.\n",
    "import time\n",
    "time_now = int(time.time()) # time in seconds since 1 Jan 1970 (computers treat this as 'the beginning of time' :D )\n",
    "print(time_now)\n",
    "np.random.seed(time_now) # plant the seed time_now this number changes every second\n",
    "\n",
    "print(np.random.randint(10, size=6))\n",
    "print(np.random.randint(10, size=6))\n",
    "\n",
    "# Try it. go back to this cell and run it again. You should see different random numbers, since time changed"
   ]
  },
  {
   "cell_type": "markdown",
   "metadata": {},
   "source": [
    "Indeed this is done so much, that numpy has a built-in shortcut for it: just use ```np.random.seed()``` with no argument and you will seed current time. This way you never need to worry about randomness."
   ]
  },
  {
   "cell_type": "code",
   "execution_count": 74,
   "metadata": {},
   "outputs": [
    {
     "name": "stdout",
     "output_type": "stream",
     "text": [
      "[9 8 6 3 6 1]\n",
      "[3 1 0 9 9 6]\n"
     ]
    }
   ],
   "source": [
    "np.random.seed() # this will use current exact time (probably in microseconds) as a seed\n",
    "print(np.random.randint(10, size=6))\n",
    "print(np.random.randint(10, size=6))\n",
    "# Try it. go back to this cell and run it again."
   ]
  },
  {
   "cell_type": "markdown",
   "metadata": {},
   "source": [
    "How often should you do it? It does not really matter, but you could do it before generating some important random numbers."
   ]
  },
  {
   "cell_type": "markdown",
   "metadata": {},
   "source": [
    "### Creating Arrays full of Random values "
   ]
  },
  {
   "cell_type": "code",
   "execution_count": 75,
   "metadata": {},
   "outputs": [
    {
     "name": "stdout",
     "output_type": "stream",
     "text": [
      "[80 75 26 94  3 64]\n",
      "80\n"
     ]
    }
   ],
   "source": [
    "# ONE DIMENTION - with size 6\n",
    "array1 = np.random.randint(100, size=6)\n",
    "print(array1)\n",
    "print(array1[0])"
   ]
  },
  {
   "cell_type": "code",
   "execution_count": 76,
   "metadata": {},
   "outputs": [
    {
     "name": "stdout",
     "output_type": "stream",
     "text": [
      "[[34 28 59 64 28]\n",
      " [37 40 70 86  4]\n",
      " [72 22 12 20  0]\n",
      " [94 70 55 13 57]]\n",
      "\n",
      "[94 70 55 13 57]\n",
      "57\n"
     ]
    }
   ],
   "source": [
    "# TWO DIMENTIONS - with size 4 for first and 5 for the second\n",
    "# these could be scores for four courses, each with 5 students\n",
    "array2 = np.random.randint(100, size=(4,5))\n",
    "print(array2)\n",
    "print()\n",
    "\n",
    "print(array2[3])\n",
    "print(array2[3, 4])"
   ]
  },
  {
   "cell_type": "code",
   "execution_count": 77,
   "metadata": {},
   "outputs": [
    {
     "name": "stdout",
     "output_type": "stream",
     "text": [
      "[[[83 25 48 96 39]\n",
      "  [86 91 19 93 72]\n",
      "  [85 47 35 45  2]\n",
      "  [74 52 71 61 28]]\n",
      "\n",
      " [[91 26 21 81 36]\n",
      "  [ 8 77 69 40 85]\n",
      "  [34 14 74  6 39]\n",
      "  [85 72 63 81 77]]\n",
      "\n",
      " [[90 83 75 88 92]\n",
      "  [87 21 33 14 76]\n",
      "  [60 46 87 95 99]\n",
      "  [29  7  3 77 27]]]\n",
      "\n"
     ]
    }
   ],
   "source": [
    "# THREE DIMENTIONS - with size 2 for first and 4 for the second and 5 for third\n",
    "array3 = np.random.randint(100, size=(3,4,5))\n",
    "print(array3)\n",
    "print()"
   ]
  },
  {
   "cell_type": "code",
   "execution_count": 78,
   "metadata": {},
   "outputs": [
    {
     "name": "stdout",
     "output_type": "stream",
     "text": [
      "[[[57 60 74 55 45]\n",
      "  [64 55 52 54 81]\n",
      "  [63 68 67 70 81]\n",
      "  [58 71 76 54 53]]\n",
      "\n",
      " [[74 81 69 64 63]\n",
      "  [82 59 79 48 63]\n",
      "  [76 66 61 72 49]\n",
      "  [57 57 65 52 72]]\n",
      "\n",
      " [[79 59 46 51 68]\n",
      "  [70 68 68 59 53]\n",
      "  [80 78 82 54 60]\n",
      "  [57 81 63 77 54]]]\n",
      "\n"
     ]
    }
   ],
   "source": [
    "# Indeed you can even specify a range of random numbers, great for 'making up' reasonable data\n",
    "# these could be scores for two schools, each with four courses, with 5 students on each course\n",
    "student_marks = np.random.randint(low = 45, high = 85, size=(3,4,5))\n",
    "print(student_marks)\n",
    "print()"
   ]
  },
  {
   "cell_type": "markdown",
   "metadata": {},
   "source": [
    "### Slicing/Subsets of Arrays - just like in Lists"
   ]
  },
  {
   "cell_type": "code",
   "execution_count": 79,
   "metadata": {},
   "outputs": [
    {
     "name": "stdout",
     "output_type": "stream",
     "text": [
      "[10 11 12 13 14 15 16 17 18 19]\n",
      "[10 11 12 13 14]\n",
      "[13 14 15 16 17 18 19]\n",
      "[13 14]\n"
     ]
    }
   ],
   "source": [
    "# my_array[start:ceiling] if someting is not specified, it takes the extreme value\n",
    "# my_array[:5] means from begining till 5th, my_array[5:] means from 6th till end\n",
    "digits = np.arange(10,20)\n",
    "print(digits)\n",
    "\n",
    "print(digits[:5])\n",
    "print(digits[3:])\n",
    "print(digits[3:5])"
   ]
  },
  {
   "cell_type": "markdown",
   "metadata": {},
   "source": [
    "### the new index-range syntax:    my_array[ start_index : ceiling_index : jump]"
   ]
  },
  {
   "cell_type": "markdown",
   "metadata": {},
   "source": [
    "There is also new syntax (that also works for Lists, but you might have never seen it before)"
   ]
  },
  {
   "cell_type": "code",
   "execution_count": 81,
   "metadata": {},
   "outputs": [
    {
     "name": "stdout",
     "output_type": "stream",
     "text": [
      "[10 11 12 13 14 15 16 17 18 19]\n",
      "[12 14 16]\n"
     ]
    }
   ],
   "source": [
    "# my_array[ start_index : ceiling_index : jump]\n",
    "digits = np.arange(10,20)\n",
    "print(digits)\n",
    "print(digits[2:7:2]) # from index 2, till index 7, jumping every second item"
   ]
  },
  {
   "cell_type": "code",
   "execution_count": 82,
   "metadata": {},
   "outputs": [
    {
     "name": "stdout",
     "output_type": "stream",
     "text": [
      "[10 12 14 16]\n"
     ]
    }
   ],
   "source": [
    "print(digits[:7:2]) # from beginning, till index 7, jumping every 2"
   ]
  },
  {
   "cell_type": "code",
   "execution_count": 83,
   "metadata": {},
   "outputs": [
    {
     "name": "stdout",
     "output_type": "stream",
     "text": [
      "[12 14 16 18]\n"
     ]
    }
   ],
   "source": [
    "print(digits[2::2]) # from index 2, till end, jumping every 2"
   ]
  },
  {
   "cell_type": "code",
   "execution_count": 84,
   "metadata": {},
   "outputs": [
    {
     "name": "stdout",
     "output_type": "stream",
     "text": [
      "[10 12 14 16 18]\n"
     ]
    }
   ],
   "source": [
    "print(digits[::2]) # all, jumping every 2"
   ]
  },
  {
   "cell_type": "code",
   "execution_count": 85,
   "metadata": {},
   "outputs": [
    {
     "name": "stdout",
     "output_type": "stream",
     "text": [
      "[19 18 17 16 15 14 13 12 11 10]\n",
      "[19 16 13 10]\n"
     ]
    }
   ],
   "source": [
    "# and to make it more interesting: when jump is negative, what will happen?\n",
    "# the array gets reversed (draw it on a piece of paper to understand it better)\n",
    "print(digits[::-1]) # all, but index counting down\n",
    "print(digits[::-3]) # all, but index counting down every 3"
   ]
  },
  {
   "cell_type": "markdown",
   "metadata": {},
   "source": [
    "### Reshaping - changing the dimensions of an Array"
   ]
  },
  {
   "cell_type": "code",
   "execution_count": 86,
   "metadata": {},
   "outputs": [
    {
     "name": "stdout",
     "output_type": "stream",
     "text": [
      "[ 0  1  2  3  4  5  6  7  8  9 10 11]\n",
      "\n"
     ]
    }
   ],
   "source": [
    "print( np.arange(12) ) \n",
    "print()"
   ]
  },
  {
   "cell_type": "code",
   "execution_count": 87,
   "metadata": {},
   "outputs": [
    {
     "name": "stdout",
     "output_type": "stream",
     "text": [
      "[[ 0  1  2  3  4  5]\n",
      " [ 6  7  8  9 10 11]]\n",
      "\n"
     ]
    }
   ],
   "source": [
    "print( np.arange(12).reshape((2,6)))\n",
    "print()"
   ]
  },
  {
   "cell_type": "code",
   "execution_count": 88,
   "metadata": {},
   "outputs": [
    {
     "name": "stdout",
     "output_type": "stream",
     "text": [
      "[[ 0  1  2]\n",
      " [ 3  4  5]\n",
      " [ 6  7  8]\n",
      " [ 9 10 11]]\n",
      "\n"
     ]
    }
   ],
   "source": [
    "print( np.arange(12).reshape((4,3)))\n",
    "print()"
   ]
  },
  {
   "cell_type": "code",
   "execution_count": 89,
   "metadata": {},
   "outputs": [
    {
     "name": "stdout",
     "output_type": "stream",
     "text": [
      "[[[ 0  1]\n",
      "  [ 2  3]]\n",
      "\n",
      " [[ 4  5]\n",
      "  [ 6  7]]\n",
      "\n",
      " [[ 8  9]\n",
      "  [10 11]]]\n"
     ]
    }
   ],
   "source": [
    "print( np.arange(12).reshape((3,2,2)))"
   ]
  },
  {
   "cell_type": "code",
   "execution_count": 90,
   "metadata": {},
   "outputs": [
    {
     "ename": "ValueError",
     "evalue": "cannot reshape array of size 12 into shape (4,5)",
     "output_type": "error",
     "traceback": [
      "\u001b[0;31m---------------------------------------------------------------------------\u001b[0m",
      "\u001b[0;31mValueError\u001b[0m                                Traceback (most recent call last)",
      "Cell \u001b[0;32mIn[90], line 2\u001b[0m\n\u001b[1;32m      1\u001b[0m \u001b[38;5;66;03m# but what would this do? you can't split 12 numbers into 4 sets of 5 numbers!\u001b[39;00m\n\u001b[0;32m----> 2\u001b[0m \u001b[38;5;28mprint\u001b[39m( \u001b[43mnp\u001b[49m\u001b[38;5;241;43m.\u001b[39;49m\u001b[43marange\u001b[49m\u001b[43m(\u001b[49m\u001b[38;5;241;43m12\u001b[39;49m\u001b[43m)\u001b[49m\u001b[38;5;241;43m.\u001b[39;49m\u001b[43mreshape\u001b[49m\u001b[43m(\u001b[49m\u001b[43m(\u001b[49m\u001b[38;5;241;43m4\u001b[39;49m\u001b[43m,\u001b[49m\u001b[38;5;241;43m5\u001b[39;49m\u001b[43m)\u001b[49m\u001b[43m)\u001b[49m)\n",
      "\u001b[0;31mValueError\u001b[0m: cannot reshape array of size 12 into shape (4,5)"
     ]
    }
   ],
   "source": [
    "# but what would this do? you can't split 12 numbers into 4 sets of 5 numbers!\n",
    "print( np.arange(12).reshape((4,5)))"
   ]
  },
  {
   "cell_type": "markdown",
   "metadata": {},
   "source": [
    "### Concatenating/Flattening Arrays and Lists - removing one dimension"
   ]
  },
  {
   "cell_type": "markdown",
   "metadata": {},
   "source": [
    "```np.concatenate()``` takes one argument - a List/Array and will combine all of it's items into an Array. \n",
    "\n",
    "concatenate will remove one dimension:\n",
    " ```[[1,2,3], [4,5,6]]  ---> [1,2,3,4,5,6]```\n",
    " \n",
    "You can think of concatenate as a **JOIN THE ARRAYS IN THIS ARRAY**"
   ]
  },
  {
   "cell_type": "code",
   "execution_count": 92,
   "metadata": {},
   "outputs": [
    {
     "name": "stdout",
     "output_type": "stream",
     "text": [
      "[array([10, 20, 30]), array([40, 50, 60])]\n",
      "[10 20 30 40 50 60]\n"
     ]
    }
   ],
   "source": [
    "array1 = np.array([10,20,30])\n",
    "array2 = np.array([40,50,60])\n",
    "parent_array = [array1, array2]\n",
    "\n",
    "print(parent_array)\n",
    "print( np.concatenate(parent_array) )"
   ]
  },
  {
   "cell_type": "code",
   "execution_count": 93,
   "metadata": {},
   "outputs": [
    {
     "name": "stdout",
     "output_type": "stream",
     "text": [
      "[70 80 90  1  2  3]\n"
     ]
    }
   ],
   "source": [
    "list1 = [70, 80,90]\n",
    "list2 = [1, 2, 3]\n",
    "\n",
    "print( np.concatenate([list1, list2]) )"
   ]
  },
  {
   "cell_type": "code",
   "execution_count": 94,
   "metadata": {},
   "outputs": [
    {
     "name": "stdout",
     "output_type": "stream",
     "text": [
      "[10 20 30 40 50 60 70 80 90]\n"
     ]
    }
   ],
   "source": [
    "# you can concatenate lists and arrays together. They really are very simmilar\n",
    "array1 = np.array([10,20,30])\n",
    "array2 = np.array([40,50,60])\n",
    "list1 = [70, 80,90]\n",
    "print( np.concatenate([array1, array2, list1]) )"
   ]
  },
  {
   "cell_type": "code",
   "execution_count": 95,
   "metadata": {},
   "outputs": [
    {
     "name": "stdout",
     "output_type": "stream",
     "text": [
      "[[1 2 3]\n",
      " [4 5 6]]\n",
      "[[10 20 30]\n",
      " [40 50 60]]\n"
     ]
    }
   ],
   "source": [
    "# concatenation respects dimentions, it will flatten only the top dimension\n",
    "two_dimention_array1 = np.array([ [1,2,3],    [4,5,6] ])\n",
    "two_dimention_array2 = np.array([ [10,20,30], [40,50,60] ])\n",
    "\n",
    "print(two_dimention_array1)\n",
    "print(two_dimention_array2)"
   ]
  },
  {
   "cell_type": "code",
   "execution_count": 96,
   "metadata": {},
   "outputs": [
    {
     "name": "stdout",
     "output_type": "stream",
     "text": [
      "[[ 1  2  3]\n",
      " [ 4  5  6]\n",
      " [10 20 30]\n",
      " [40 50 60]]\n"
     ]
    }
   ],
   "source": [
    "print( np.concatenate([two_dimention_array1,two_dimention_array2]) )"
   ]
  },
  {
   "cell_type": "code",
   "execution_count": 97,
   "metadata": {},
   "outputs": [
    {
     "name": "stdout",
     "output_type": "stream",
     "text": [
      "[ 1  2  3  4  5  6 10 20 30 40 50 60]\n"
     ]
    }
   ],
   "source": [
    "# this starts being spaghetti code, but you could flatten something twice and remove two dimensions\n",
    "print( np.concatenate( np.concatenate( [two_dimention_array1,two_dimention_array2] ) ))"
   ]
  },
  {
   "cell_type": "markdown",
   "metadata": {},
   "source": [
    "Concatenate has an extra argument axis ```np.concatenate([arr1,arr2],axis=1)``` which by default is 0\n",
    "\n",
    "- axis=0 (the default) - flatten horisontally - remove one dimension from all items in list\n",
    "- axis=1 - flatter vertically - combine all first items, then all second items, all third... etc\n"
   ]
  },
  {
   "cell_type": "code",
   "execution_count": 98,
   "metadata": {},
   "outputs": [
    {
     "name": "stdout",
     "output_type": "stream",
     "text": [
      "[[ 1  2  3]\n",
      " [ 4  5  6]\n",
      " [10 20 30]\n",
      " [40 50 60]]\n"
     ]
    }
   ],
   "source": [
    "two_dimention_array1 = np.array([ [1,2,3], [4,5,6] ])\n",
    "two_dimention_array2 = np.array([ [10,20,30], [40,50,60] ])\n",
    "\n",
    "print( np.concatenate([two_dimention_array1,two_dimention_array2], axis=0) )"
   ]
  },
  {
   "cell_type": "code",
   "execution_count": 99,
   "metadata": {},
   "outputs": [
    {
     "name": "stdout",
     "output_type": "stream",
     "text": [
      "[[ 1  2  3 10 20 30]\n",
      " [ 4  5  6 40 50 60]]\n"
     ]
    }
   ],
   "source": [
    "two_dimention_array1 = np.array([ [1,2,3], [4,5,6] ])\n",
    "two_dimention_array2 = np.array([ [10,20,30], [40,50,60] ])\n",
    "\n",
    "print( np.concatenate([two_dimention_array1,two_dimention_array2], axis=1) )"
   ]
  },
  {
   "cell_type": "markdown",
   "metadata": {},
   "source": [
    "### Horisontal and Vertical Stack -  add Arrays to each other without losing dimensions "
   ]
  },
  {
   "cell_type": "code",
   "execution_count": 100,
   "metadata": {},
   "outputs": [
    {
     "name": "stdout",
     "output_type": "stream",
     "text": [
      "[[-7 -8 -9]\n",
      " [ 1  2  3]\n",
      " [ 4  5  6]]\n"
     ]
    }
   ],
   "source": [
    "my_array = np.array([-7,-8,-9])\n",
    "my_array_2d = np.array([ [1,2,3], [4,5,6] ])\n",
    "\n",
    "print(np.vstack([my_array, my_array_2d]))"
   ]
  },
  {
   "cell_type": "code",
   "execution_count": 101,
   "metadata": {},
   "outputs": [
    {
     "name": "stdout",
     "output_type": "stream",
     "text": [
      "[[-1 -2  1  2  3]\n",
      " [-3 -4  4  5  6]]\n"
     ]
    }
   ],
   "source": [
    "my_array_2d_1 = np.array([[-1,-2],[-3, -4]])\n",
    "my_array_2d_2 = np.array([ [1,2,3], [4,5,6] ])\n",
    "\n",
    "print(np.hstack([my_array_2d_1, my_array_2d_2]))"
   ]
  },
  {
   "cell_type": "markdown",
   "metadata": {},
   "source": [
    "### Split - split one Array into many Arrays using predefined indexes"
   ]
  },
  {
   "cell_type": "code",
   "execution_count": 102,
   "metadata": {},
   "outputs": [
    {
     "name": "stdout",
     "output_type": "stream",
     "text": [
      "[1 2 3 4 5 6 7 8 9]\n",
      "\n"
     ]
    }
   ],
   "source": [
    "digits = np.arange(1,10)\n",
    "print(digits)\n",
    "print()"
   ]
  },
  {
   "cell_type": "code",
   "execution_count": 103,
   "metadata": {},
   "outputs": [
    {
     "name": "stdout",
     "output_type": "stream",
     "text": [
      "[array([1, 2, 3]), array([4, 5, 6]), array([7, 8, 9])]\n"
     ]
    }
   ],
   "source": [
    "three_sub_arrays = np.split(digits,[3,6])\n",
    "print(three_sub_arrays)"
   ]
  },
  {
   "cell_type": "code",
   "execution_count": 104,
   "metadata": {},
   "outputs": [
    {
     "name": "stdout",
     "output_type": "stream",
     "text": [
      "10 20 30\n"
     ]
    }
   ],
   "source": [
    "# you have not seen this syntaxt yet, it's typical to advanced Python. \n",
    "# You can specify many variables in one line, but assigning a List to them\n",
    "a,b,c = [10,20,30]\n",
    "print(a,b,c)"
   ]
  },
  {
   "cell_type": "code",
   "execution_count": 105,
   "metadata": {},
   "outputs": [
    {
     "name": "stdout",
     "output_type": "stream",
     "text": [
      "[1 2 3] [4 5 6] [7 8 9]\n"
     ]
    }
   ],
   "source": [
    "# so the split can be used as follows:\n",
    "start, middle, end = np.split(digits,[3,6])\n",
    "print(start, middle, end)"
   ]
  },
  {
   "cell_type": "code",
   "execution_count": 106,
   "metadata": {},
   "outputs": [
    {
     "name": "stdout",
     "output_type": "stream",
     "text": [
      "[1 2 3] [4 5 6] [7 8 9]\n"
     ]
    }
   ],
   "source": [
    "# Note: you could achieve the same effect with many lines of code with range()\n",
    "# but that requires much more thinking and opportunities for bugs\n",
    "first = np.arange(1,4)\n",
    "second = np.arange(4,7)\n",
    "third = np.arange(7,10)\n",
    "print(first, second, third)\n",
    "\n",
    "# but why do something the hard way if there is a proper syntax for it?"
   ]
  },
  {
   "cell_type": "code",
   "execution_count": 107,
   "metadata": {},
   "outputs": [
    {
     "name": "stdout",
     "output_type": "stream",
     "text": [
      "[[ 0  1  2  3]\n",
      " [ 4  5  6  7]\n",
      " [ 8  9 10 11]\n",
      " [12 13 14 15]\n",
      " [16 17 18 19]]\n",
      "\n",
      "[[0 1 2 3]\n",
      " [4 5 6 7]]\n",
      "[[ 8  9 10 11]]\n",
      "[[12 13 14 15]\n",
      " [16 17 18 19]]\n"
     ]
    }
   ],
   "source": [
    "# putting it all together:\n",
    "digits = np.arange(0,20).reshape(5,4)\n",
    "print(digits)\n",
    "print()\n",
    "\n",
    "first, second, third = np.vsplit(digits,[2,3])\n",
    "\n",
    "print(first)\n",
    "print(second)\n",
    "print(third)"
   ]
  },
  {
   "cell_type": "markdown",
   "metadata": {},
   "source": [
    "## ⭐️⭐️⭐️💥 What you learned in this session: Three stars and a wish \n",
    "**In your own words** write in your Learn diary:\n",
    "\n",
    "- 3 things you yould like to remember from this badge\n",
    "- 1 thing you wish to understand better in the future or a question you'd like to ask\n"
   ]
  }
 ],
 "metadata": {
  "kernelspec": {
   "display_name": "Python 3 (ipykernel)",
   "language": "python",
   "name": "python3"
  },
  "language_info": {
   "codemirror_mode": {
    "name": "ipython",
    "version": 3
   },
   "file_extension": ".py",
   "mimetype": "text/x-python",
   "name": "python",
   "nbconvert_exporter": "python",
   "pygments_lexer": "ipython3",
   "version": "3.12.2"
  }
 },
 "nbformat": 4,
 "nbformat_minor": 2
}
